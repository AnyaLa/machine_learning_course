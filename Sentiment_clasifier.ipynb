{
 "cells": [
  {
   "cell_type": "markdown",
   "metadata": {},
   "source": [
    "## Classifier for sentiment analysis"
   ]
  },
  {
   "cell_type": "code",
   "execution_count": 1,
   "metadata": {
    "collapsed": true
   },
   "outputs": [],
   "source": [
    "import sys\n",
    "sys.path.append('C:\\Program Files\\Anaconda3\\Lib\\site-packages')"
   ]
  },
  {
   "cell_type": "code",
   "execution_count": 2,
   "metadata": {
    "collapsed": true
   },
   "outputs": [],
   "source": [
    "import numpy as np"
   ]
  },
  {
   "cell_type": "code",
   "execution_count": 3,
   "metadata": {
    "collapsed": true
   },
   "outputs": [],
   "source": [
    "import pandas as pd"
   ]
  },
  {
   "cell_type": "code",
   "execution_count": 4,
   "metadata": {
    "collapsed": true
   },
   "outputs": [],
   "source": [
    "import sklearn\n",
    "from sklearn.decomposition import TruncatedSVD\n",
    "from sklearn.feature_extraction.text import *\n",
    "from sklearn.pipeline import *\n",
    "from sklearn.preprocessing import Normalizer\n",
    "from sklearn.metrics import *\n",
    "\n",
    "from sklearn.svm import LinearSVC\n",
    "\n",
    "from stop_words import get_stop_words\n",
    "stopwords = get_stop_words('russian')"
   ]
  },
  {
   "cell_type": "code",
   "execution_count": 5,
   "metadata": {
    "collapsed": true
   },
   "outputs": [],
   "source": [
    "from sklearn.metrics import classification_report, confusion_matrix\n",
    "import seaborn as sns\n",
    "import matplotlib.pyplot as plt"
   ]
  },
  {
   "cell_type": "code",
   "execution_count": 6,
   "metadata": {
    "collapsed": true
   },
   "outputs": [],
   "source": [
    "books_train = pd.read_csv('C:/Users/Анна/Dropbox/ML_sent/books_train.tsv', sep='\\t', index_col=0)\n",
    "films_train = pd.read_csv('C:/Users/Анна/Dropbox/ML_sent/films_train.tsv', sep='\\t', index_col=0)"
   ]
  },
  {
   "cell_type": "code",
   "execution_count": 7,
   "metadata": {
    "collapsed": true
   },
   "outputs": [],
   "source": [
    "books_test = pd.read_csv('C:/Users/Анна/Dropbox/ML_sent/books_test.tsv', sep='\\t', index_col=0)\n",
    "films_test = pd.read_csv('C:/Users/Анна/Dropbox/ML_sent/films_test.tsv', sep='\\t', index_col=0)"
   ]
  },
  {
   "cell_type": "code",
   "execution_count": 12,
   "metadata": {},
   "outputs": [
    {
     "data": {
      "text/html": [
       "<div>\n",
       "<style>\n",
       "    .dataframe thead tr:only-child th {\n",
       "        text-align: right;\n",
       "    }\n",
       "\n",
       "    .dataframe thead th {\n",
       "        text-align: left;\n",
       "    }\n",
       "\n",
       "    .dataframe tbody tr th {\n",
       "        vertical-align: top;\n",
       "    }\n",
       "</style>\n",
       "<table border=\"1\" class=\"dataframe\">\n",
       "  <thead>\n",
       "    <tr style=\"text-align: right;\">\n",
       "      <th></th>\n",
       "      <th>X_test</th>\n",
       "      <th>y_test</th>\n",
       "    </tr>\n",
       "  </thead>\n",
       "  <tbody>\n",
       "    <tr>\n",
       "      <th>0</th>\n",
       "      <td>прочитать можно и даже нужно местами спорно но...</td>\n",
       "      <td>9</td>\n",
       "    </tr>\n",
       "    <tr>\n",
       "      <th>1</th>\n",
       "      <td>бодрая и приятная на вкус книженция идеи прост...</td>\n",
       "      <td>8</td>\n",
       "    </tr>\n",
       "    <tr>\n",
       "      <th>2</th>\n",
       "      <td>угу согласен но кроме того ещё и там и сям по ...</td>\n",
       "      <td>4</td>\n",
       "    </tr>\n",
       "    <tr>\n",
       "      <th>3</th>\n",
       "      <td>не интересно иногда забавно но очень уж не зак...</td>\n",
       "      <td>4</td>\n",
       "    </tr>\n",
       "    <tr>\n",
       "      <th>4</th>\n",
       "      <td>понравился контраст безжизненность красота туп...</td>\n",
       "      <td>9</td>\n",
       "    </tr>\n",
       "  </tbody>\n",
       "</table>\n",
       "</div>"
      ],
      "text/plain": [
       "                                              X_test  y_test\n",
       "0  прочитать можно и даже нужно местами спорно но...       9\n",
       "1  бодрая и приятная на вкус книженция идеи прост...       8\n",
       "2  угу согласен но кроме того ещё и там и сям по ...       4\n",
       "3  не интересно иногда забавно но очень уж не зак...       4\n",
       "4  понравился контраст безжизненность красота туп...       9"
      ]
     },
     "execution_count": 12,
     "metadata": {},
     "output_type": "execute_result"
    }
   ],
   "source": [
    "books_test.head()"
   ]
  },
  {
   "cell_type": "code",
   "execution_count": 13,
   "metadata": {
    "collapsed": true
   },
   "outputs": [],
   "source": [
    "books = pd.read_csv('C:/Users/Анна/Dropbox/ML_sent/books_full.csv', index_col=0)"
   ]
  },
  {
   "cell_type": "code",
   "execution_count": 27,
   "metadata": {
    "scrolled": true
   },
   "outputs": [
    {
     "data": {
      "text/html": [
       "<div>\n",
       "<style>\n",
       "    .dataframe thead tr:only-child th {\n",
       "        text-align: right;\n",
       "    }\n",
       "\n",
       "    .dataframe thead th {\n",
       "        text-align: left;\n",
       "    }\n",
       "\n",
       "    .dataframe tbody tr th {\n",
       "        vertical-align: top;\n",
       "    }\n",
       "</style>\n",
       "<table border=\"1\" class=\"dataframe\">\n",
       "  <thead>\n",
       "    <tr style=\"text-align: right;\">\n",
       "      <th></th>\n",
       "      <th>marks</th>\n",
       "      <th>lemmatized</th>\n",
       "      <th>polarity</th>\n",
       "      <th>pos_neg_neut</th>\n",
       "    </tr>\n",
       "  </thead>\n",
       "  <tbody>\n",
       "    <tr>\n",
       "      <th>0</th>\n",
       "      <td>6</td>\n",
       "      <td>сериал очень любить но академия и земля вызыва...</td>\n",
       "      <td>1.0</td>\n",
       "      <td>1.0</td>\n",
       "    </tr>\n",
       "    <tr>\n",
       "      <th>1</th>\n",
       "      <td>7</td>\n",
       "      <td>думать что быть хороший идея очень интересный ...</td>\n",
       "      <td>1.0</td>\n",
       "      <td>1.0</td>\n",
       "    </tr>\n",
       "    <tr>\n",
       "      <th>2</th>\n",
       "      <td>10</td>\n",
       "      <td>с творчество головачев я познакомиться посредс...</td>\n",
       "      <td>-1.0</td>\n",
       "      <td>0.0</td>\n",
       "    </tr>\n",
       "    <tr>\n",
       "      <th>3</th>\n",
       "      <td>5</td>\n",
       "      <td>то то я и в большой неудовольствие прочитать а...</td>\n",
       "      <td>1.0</td>\n",
       "      <td>1.0</td>\n",
       "    </tr>\n",
       "    <tr>\n",
       "      <th>4</th>\n",
       "      <td>6</td>\n",
       "      <td>как я показаться местами сильно смахивать на п...</td>\n",
       "      <td>1.0</td>\n",
       "      <td>1.0</td>\n",
       "    </tr>\n",
       "  </tbody>\n",
       "</table>\n",
       "</div>"
      ],
      "text/plain": [
       "   marks                                         lemmatized  polarity  \\\n",
       "0      6  сериал очень любить но академия и земля вызыва...       1.0   \n",
       "1      7  думать что быть хороший идея очень интересный ...       1.0   \n",
       "2     10  с творчество головачев я познакомиться посредс...      -1.0   \n",
       "3      5  то то я и в большой неудовольствие прочитать а...       1.0   \n",
       "4      6  как я показаться местами сильно смахивать на п...       1.0   \n",
       "\n",
       "   pos_neg_neut  \n",
       "0           1.0  \n",
       "1           1.0  \n",
       "2           0.0  \n",
       "3           1.0  \n",
       "4           1.0  "
      ]
     },
     "execution_count": 27,
     "metadata": {},
     "output_type": "execute_result"
    }
   ],
   "source": [
    "books.head()"
   ]
  },
  {
   "cell_type": "code",
   "execution_count": 26,
   "metadata": {
    "collapsed": true
   },
   "outputs": [],
   "source": [
    "books['polarity'] = books_train.y_train.apply(lambda x: get_polarity(x))"
   ]
  },
  {
   "cell_type": "code",
   "execution_count": 25,
   "metadata": {
    "collapsed": true
   },
   "outputs": [],
   "source": [
    "books['pos_neg_neut'] = books_train.y_train.apply(lambda x: get_3_class(x))"
   ]
  },
  {
   "cell_type": "code",
   "execution_count": 28,
   "metadata": {
    "collapsed": true
   },
   "outputs": [],
   "source": [
    "from sklearn.model_selection import train_test_split"
   ]
  },
  {
   "cell_type": "code",
   "execution_count": 29,
   "metadata": {
    "collapsed": true
   },
   "outputs": [],
   "source": [
    "neg_books = books[books.polarity == -1]"
   ]
  },
  {
   "cell_type": "code",
   "execution_count": 36,
   "metadata": {
    "collapsed": true
   },
   "outputs": [],
   "source": [
    "pos_books = books[books.polarity == 1]"
   ]
  },
  {
   "cell_type": "code",
   "execution_count": 32,
   "metadata": {},
   "outputs": [
    {
     "data": {
      "text/plain": [
       "(1627, 4)"
      ]
     },
     "execution_count": 32,
     "metadata": {},
     "output_type": "execute_result"
    }
   ],
   "source": [
    "neg_books.head()\n",
    "neg_books.shape"
   ]
  },
  {
   "cell_type": "code",
   "execution_count": 55,
   "metadata": {
    "collapsed": true
   },
   "outputs": [],
   "source": [
    "X_train, X_test, y_train, y_test = train_test_split(neg_books.lemmatized, neg_books.polarity, test_size=0.3, random_state=42)"
   ]
  },
  {
   "cell_type": "code",
   "execution_count": 56,
   "metadata": {},
   "outputs": [
    {
     "data": {
      "text/plain": [
       "5313    детектив исторический роман психологический ро...\n",
       "1497                 это произведение наконец то выходить\n",
       "2404    читаться легко и интересно но перечитывать нет...\n",
       "625     при весь мой любовь и увлечённость фантастика ...\n",
       "4395    да это классика даже умозрительно не похлопать...\n",
       "Name: lemmatized, dtype: object"
      ]
     },
     "execution_count": 56,
     "metadata": {},
     "output_type": "execute_result"
    }
   ],
   "source": [
    "X_train.head()"
   ]
  },
  {
   "cell_type": "code",
   "execution_count": 57,
   "metadata": {},
   "outputs": [
    {
     "data": {
      "text/plain": [
       "5313   -1.0\n",
       "1497   -1.0\n",
       "2404   -1.0\n",
       "625    -1.0\n",
       "4395   -1.0\n",
       "Name: polarity, dtype: float64"
      ]
     },
     "execution_count": 57,
     "metadata": {},
     "output_type": "execute_result"
    }
   ],
   "source": [
    "y_train.head()"
   ]
  },
  {
   "cell_type": "code",
   "execution_count": 46,
   "metadata": {},
   "outputs": [
    {
     "data": {
      "text/plain": [
       "(1138,)"
      ]
     },
     "execution_count": 46,
     "metadata": {},
     "output_type": "execute_result"
    }
   ],
   "source": [
    "X_train.shape"
   ]
  },
  {
   "cell_type": "code",
   "execution_count": 58,
   "metadata": {
    "collapsed": true
   },
   "outputs": [],
   "source": [
    "X_train_pos = pos_books.lemmatized.head(len(X_train))\n",
    "y_train_pos = pos_books.polarity.head(len(X_train))"
   ]
  },
  {
   "cell_type": "code",
   "execution_count": 59,
   "metadata": {},
   "outputs": [
    {
     "data": {
      "text/plain": [
       "(1138,)"
      ]
     },
     "execution_count": 59,
     "metadata": {},
     "output_type": "execute_result"
    }
   ],
   "source": [
    "X_train_pos.shape"
   ]
  },
  {
   "cell_type": "code",
   "execution_count": 60,
   "metadata": {
    "collapsed": true
   },
   "outputs": [],
   "source": [
    "frames = [X_train, X_train_pos]\n",
    "y_frames = [y_train, y_train_pos]"
   ]
  },
  {
   "cell_type": "code",
   "execution_count": 61,
   "metadata": {
    "collapsed": true
   },
   "outputs": [],
   "source": [
    "X_train_books = pd.concat(frames)\n",
    "y_train_books = pd.concat(y_frames)"
   ]
  },
  {
   "cell_type": "code",
   "execution_count": 64,
   "metadata": {},
   "outputs": [
    {
     "data": {
      "text/plain": [
       "(2276,)"
      ]
     },
     "execution_count": 64,
     "metadata": {},
     "output_type": "execute_result"
    }
   ],
   "source": [
    "X_train_books.shape"
   ]
  },
  {
   "cell_type": "code",
   "execution_count": 67,
   "metadata": {
    "collapsed": true
   },
   "outputs": [],
   "source": [
    "test_num = pos_books.shape[0] - X_train_pos.shape[0]"
   ]
  },
  {
   "cell_type": "code",
   "execution_count": 68,
   "metadata": {
    "collapsed": true
   },
   "outputs": [],
   "source": [
    "X_test_pos = pos_books.lemmatized.tail(test_num-1)\n",
    "y_test_pos = pos_books.polarity.tail(test_num-1)"
   ]
  },
  {
   "cell_type": "code",
   "execution_count": 77,
   "metadata": {},
   "outputs": [
    {
     "data": {
      "text/plain": [
       "3380   -1.0\n",
       "4902   -1.0\n",
       "5975   -1.0\n",
       "5104   -1.0\n",
       "1318   -1.0\n",
       "Name: polarity, dtype: float64"
      ]
     },
     "execution_count": 77,
     "metadata": {},
     "output_type": "execute_result"
    }
   ],
   "source": [
    "y_test_books.head()"
   ]
  },
  {
   "cell_type": "code",
   "execution_count": 73,
   "metadata": {
    "collapsed": true
   },
   "outputs": [],
   "source": [
    "test_frames = [X_test, X_test_pos]\n",
    "test_y_frames = [y_test, y_test_pos]"
   ]
  },
  {
   "cell_type": "code",
   "execution_count": 74,
   "metadata": {
    "collapsed": true
   },
   "outputs": [],
   "source": [
    "X_test_books = pd.concat(test_frames)\n",
    "y_test_books = pd.concat(test_y_frames)"
   ]
  },
  {
   "cell_type": "markdown",
   "metadata": {},
   "source": [
    "### 10 classes"
   ]
  },
  {
   "cell_type": "code",
   "execution_count": 8,
   "metadata": {},
   "outputs": [
    {
     "data": {
      "text/plain": [
       "Pipeline(steps=[('vect', CountVectorizer(analyzer='word', binary=True, decode_error='strict',\n",
       "        dtype=<class 'numpy.int64'>, encoding='utf-8', input='content',\n",
       "        lowercase=True, max_df=1.0, max_features=None, min_df=1,\n",
       "        ngram_range=(1, 2), preprocessor=None,\n",
       "        stop_words=['а', 'в', '...ax_iter=1000,\n",
       "     multi_class='ovr', penalty='l2', random_state=None, tol=0.0001,\n",
       "     verbose=0))])"
      ]
     },
     "execution_count": 8,
     "metadata": {},
     "output_type": "execute_result"
    }
   ],
   "source": [
    "clf = Pipeline([\n",
    "    ('vect', CountVectorizer(stop_words = stopwords, analyzer = 'word', ngram_range = (1,2), binary = True)),\n",
    "    #('tfidf', TfidfTransformer()),\n",
    "    #('svd', TruncatedSVD(n_components = 150)),\n",
    "    #('norm', Normalizer() ),\n",
    "    ('clf', LinearSVC()),\n",
    "])\n",
    "\n",
    "\n",
    "clf.fit(books_train.lemmatized, books_train.y_train)#обучение модели на обучающей выборке"
   ]
  },
  {
   "cell_type": "code",
   "execution_count": 16,
   "metadata": {},
   "outputs": [
    {
     "data": {
      "text/plain": [
       "array(['прочитать можно и даже нужно местами спорно но вцелом на твердую',\n",
       "       'бодрая и приятная на вкус книженция идеи просты и незатейливы но развлекает вполне успешно порядочно мистики порядочно приключенчества симпатично не больше но и не меньше',\n",
       "       'угу согласен но кроме того ещё и там и сям по кустам щедро раскиданы рояли прочитать можно но только быстро не задумываясь',\n",
       "       ...,\n",
       "       'в безмятежном провинциальном мирке не было агрессии но вот приходит иное время а вместе с ним и иные персонажи они разрушают счастье героев хюлле взрывают его уже самим своим существованием круговорот историй меловой круг доброты и понимания который не преодолеть нечистой силе которая может искалечить но не победить ее удел лишь земная власть даже если они навластвуются всласть то что это перед властью рассказчиков создающих свои истории из пустяков намеков и фрагментов которые в их исполнении превращаются в шедевры',\n",
       "       'очень легенкое такое героическое фентези читается быстро и с удовольствием жалко что быстро заканчивается и ждешь продолжения которого нет во всяком случае пока',\n",
       "       'когда читала провалилась в мир а такое люблю обожаю циклы про таких вот воров пробуждает фантазию даже заставило проплакаться во многих современных циклах смерть героев уже както по барабану а здесь задела отдельное спасибо за смерть с нарцисами в руках но на второй третий раз эмоции тускнеют'], dtype=object)"
      ]
     },
     "execution_count": 16,
     "metadata": {},
     "output_type": "execute_result"
    }
   ],
   "source": [
    "books_test.X_test.values"
   ]
  },
  {
   "cell_type": "code",
   "execution_count": 18,
   "metadata": {
    "collapsed": true
   },
   "outputs": [],
   "source": [
    "y_predict = clf.predict(books_test.X_test.values.astype('U'))"
   ]
  },
  {
   "cell_type": "code",
   "execution_count": 22,
   "metadata": {},
   "outputs": [
    {
     "name": "stdout",
     "output_type": "stream",
     "text": [
      "             precision    recall  f1-score   support\n",
      "\n",
      "          0       0.09      0.05      0.06       245\n",
      "          1       0.17      0.07      0.10        43\n",
      "          2       0.23      0.10      0.14        31\n",
      "          3       0.04      0.02      0.02        61\n",
      "          4       0.16      0.10      0.12       105\n",
      "          5       0.20      0.11      0.14       147\n",
      "          6       0.18      0.02      0.03       111\n",
      "          7       0.17      0.06      0.09       198\n",
      "          8       0.17      0.12      0.14       442\n",
      "          9       0.26      0.33      0.29       712\n",
      "         10       0.34      0.54      0.42       799\n",
      "\n",
      "avg / total       0.23      0.27      0.24      2894\n",
      "\n"
     ]
    },
    {
     "data": {
      "image/png": "[encoded data removed]",
      "text/plain": [
       "<matplotlib.figure.Figure at 0xe5e50b8>"
      ]
     },
     "metadata": {},
     "output_type": "display_data"
    }
   ],
   "source": [
    "labels = list(set(books_test.y_test))\n",
    "print(classification_report(books_test.y_test, y_predict))\n",
    "sns.heatmap(data=confusion_matrix(books_test.y_test, y_predict, labels = labels), \n",
    "            annot=True, fmt=\"d\", cbar=False)\n",
    "\n",
    "#            , xticklabels=['male', 'female'], \n",
    "#                                             yticklabels=['male', 'female'])\n",
    "plt.title(\"Confusion matrix\")\n",
    "plt.show()"
   ]
  },
  {
   "cell_type": "code",
   "execution_count": 27,
   "metadata": {},
   "outputs": [
    {
     "data": {
      "text/plain": [
       "array([ 'сюжет конечно захватывает так что не оторваться но на мой взгляд слишком уж все чернушно',\n",
       "       'очень легкая книжка из тех что читаются на одном дыхании но и забываются через день',\n",
       "       'читалось довольно приятно чувствовались некоторые веяния от икебода крейна и его безголового всадника однако шестое чувство говорило что разгадки в таких условиях для работы конестабль не найдет атмосфера такая мрачноватая главный герой не блещет ни силой ни красотой подвержен порокам в общем он человечен нет фанфар каких то и дифферамб мы видим заработавшего свое положение трудом человека измотанного жизньюю но это настоящий человек не бутафория а потому и интересно следить за ним интересно идти за ним по его пути',\n",
       "       'в тридцать лет перечитаю сравню',\n",
       "       'прошу добавить ссылку на книгу для скачивания вообще поиск книг',\n",
       "       'необычное видение мира со стороны умственно отсталого мальчика его переживания взгляды на жизнь родителей попытки строить свою судьбу самостоятельно',\n",
       "       'довольно интересно хотя и нудновато временами действительно легенда переиначена когда вчитаешся хочется закончить но под крнец становится скучновато',\n",
       "       'всё хорошо только вот плаксивые моменты в середине книги не трогают ну совсем ни капли но конец всё же заставляет прослезиться и то не от драматичности ситуации а от банального выражения любовь зла ну вот угораздило же именно этой лохудре написать именно такому замечательному человеку ну вот что ты тут поделаешь',\n",
       "       'макс фрай это не литература это состояние души и читать его нужно лишь в определённом настроении между сном и явью вначале всё прочитанное кажется чушью но потом задумываешься а ведь есть доля правды в этом в конце концов сон лишь невероятная комбинация вероятного а если вы категорически не приемлете сюжет и героев просто наслаждайтесь юмором этим качеством автор и герои наделены щедро',\n",
       "       'разочаровался к последней четверти книги первая половина восторг и изумление на фоне грязного потока современной русской фантастики написанной левой задней ногой языком семиклассника стругацкий это очень вкусно какие словечки какие образы богатейшая палитра и чем ближе к реальности чем проще описываемая ситуация тем сильнее эффект кусок про блокадный ленинград самый сильный в книге а вот с фантастикой дело обстоит сложнее во первых основа сюжета принципиально ничем не отличается от дьявола среди людей во вторых последняя четверть явно смазана как в анекдоте ай чёрт ничего не получилось длинный красивый пролог на три четверти книги приводит к скомканному финалу который в третьих настолько по стругацки стандартно обрывается ничем что даже не смешно да и описанные в книге кусочки будущего которое для нас уже прошлое не вызывают ощущения футурологической ценности',\n",
       "       'читал читал вроде увлёкся а конец то бац и совсем неинтересен можно было бы посерьёзней финал сварганить за это',\n",
       "       'читаешь и ловишь себя на мысли что ну уж ооочень похоже на пи пелевина',\n",
       "       'добрый богатый волшебник одним махом разрешил все проблемы а ведь так всё заманчиво начиналось слащавый слегка расстроил',\n",
       "       'очень легкая незапоминающаяся книга хороша для метро и ленивого вечера читается быстро одной ночи хватит',\n",
       "       'можно бесконечно открывать такие девственные уголки не важно земли или вселенной в любом случае человек приведет все к своей норме',\n",
       "       'книга любопытная стоит прочесть в тот момент когда интересует положение человека в мире ищется путь причем лучше сначала прочесть винни пуха милна не полагаясь на советский замечательный но другой мультфильм',\n",
       "       'неплохо только сюжетных линий многовато легко запутаться',\n",
       "       'хуже первой лучше второй книги но концовка великолепна',\n",
       "       'да неплохо легко наивно наверно благодаря этому кажется необычным но сказать что то больше не могу и перечитывать не буду',\n",
       "       'лихо закрученный сюжет масса жестоких сцен кровища но развязка слегка разочаровывает все таки политика и финансы не самые захватывающие для меня темы',\n",
       "       'как всегда у акунина хороший слог лучшее в книге очерк д эвре о старых сапогах извините конечно',\n",
       "       'неплохо перевернутый сюжет',\n",
       "       'красиво написано своебразное представление связи человека с бесконечностью',\n",
       "       'надо вдумываться иначе не дочитать если готов читай если нет то забудь',\n",
       "       'ну да да но не а как отточеный карандаш на постаменте зачем',\n",
       "       'мост через вечность гораздо лучше',\n",
       "       'страшно грустно жаль что так в жизни тоже бывает на увеселительное чтиво не похоже если есть желание подумать читайте',\n",
       "       'детское чтиво жвачка для мозга приятный клубничный вкус отсутствия калорий не компенсирует',\n",
       "       'неплохо',\n",
       "       'не знаю где в этой книге романтика по моему это драма на',\n",
       "       'самое большое разочарование лета в году это могло казаться интересным сегодня это зажевано и невкусно',\n",
       "       'долгий долгий водевиль с ностальгическим финалом',\n",
       "       'быть может человечество планомерно идёт к уничтожению себя быть может так и было кем то задумано быть может что то задуманное пошло не по плану и что теперь',\n",
       "       'признаюсь до прочтения никогда не смотрела на мир моды в таком ракурсе а миранда в книге какая то неадекватная получилась при таком характере она просто не смогла бы вести дела',\n",
       "       'подходящее внеклассное чтение по истории античного рима интересно и со вкусом написано я имею в виду перевод г островской',\n",
       "       'и понравилась и не понравилась одновременно вот как то так получилось даже пустила слезу в некоторых моментах главное все поняли что жизнь продолжается и на земле и на небесах что наши близкие и родные покинувшие эту землю навсегда остаются любимыми мы их помним и они не покидают нас видят и знают что в душах родных они остаются живы навсегда',\n",
       "       'читал эту книгу в другом переводе она называлась камешек в небе на мой взгляд более удачное название',\n",
       "       'с одной стороны достаточно предсказуемо и простенько но с другое раздражения не вызывает вполне читабельно',\n",
       "       'очень люблю истоико приключенческие романы хаггарда помимо самых известных книг копи царя соломона и дочь монтесумы есть еще другие замечательные произведения люди тумана клеопатра перстень царицы савской и др произведения хаггарда красочны и правдоподобны',\n",
       "       'интересная история правда все ужастики интересные',\n",
       "       'у меня по рекламе тоже создалось превратное представление об авторе кинге как пишущем книги ужасов а оказывается в его книге много и психологизма и даже лиричности',\n",
       "       'любой человек в состоянии написать как минимум одну хорошую книгу о себе о своей жизни у памука в целом это получилось повесть о том как мы в лице памука потеряли гениального художника и приобрели гениального писателя повесть о черно белом печальном стамбуле рвущемся в европу но погрязшем в босфоре и почему думая о детстве вспоминаешь скорее что то отрицательное чем положительное куча фотографий гораздо быстрее приближает вас к концу книги чем хотелось бы читать любителям мемуаров и всякой неспешной литературы',\n",
       "       'после прочтения этой книжки я посмотрела на мир гламура и блеска совершенно другими глазами многое оказывается скрыто под красивой глянцевой обложкой',\n",
       "       'книга нормалная читабельная но это в сравнение с ужасами которые там происходят знаменитый твин пикс линча может показаться доброй рождественской сказкой точно выверенные сюжетные линии великолепный слог потрясающее чувство юмора и абсолютно непредсказуемый финал удовлетворят самого взыскательного читателя меня сильно рассмешило',\n",
       "       'советы по домоводству мечта всех хозяюшек чак паланик хорошая книга как всегда конец неожиданный',\n",
       "       'отлично меткие такие разговоры притом привсем совсем запросто и без заминок а если серьезно то если вы этим конкретно не интересуетесь наверное будет неинтересно во всяком случае можно полистать один разговор и иметь свое на этот счет представленице такое ну совсем провсем секое во блин опять понесло',\n",
       "       'рассказ явно экспериментальный ему не хватает детализации и художественного оформления живо напомнило мареновую розу',\n",
       "       'я бы сказала что это самое слабое что есть у гавальды очень просто понятно но как всегда гавальда бесподобна в своей утонченной словесности прочитала быстро и согласна с вышенаписаным что полезно вновь посмотреть на мир глазами ребенка',\n",
       "       'интересная и напряженная от начала до конца книга к сожалению конец меня разочаровал последние несколько абзатцев оставили в душе чувство неудовлетворённости и непонимания впрочем о том что я её прочитал я не жалею',\n",
       "       'как то не вдохновляют ее книги все читаю в ожидании что получу какой то заряд из историй про жизни моих подруг и знакомых и ничего но в общем занимательно кстати оксана робски очень точно и досконально описывает все типичные черты буржуйских жизней все так и есть',\n",
       "       'это не название праздника это действительно один день из жизни в середине века после серой смуты государь железной рукой закладывает первый кирпич западной стены запрещает мат и возвращает православию роль главного и обязательного для всех граждан морального компаса сразу за ближним кругом государя стоит опричнина изживает врагов государевых пускает красного петуха в их дома гасит звезды певцов народных если те крамолу на государыню возводят стилизация под старорусский язык в романе владимира сорокина естественна и так же гладко в него вписываются китайские мерины мобилы и вестевые пузыри на лубянской площади стоит памятник малюте скуратову с таможенным приказом опричники решают кто будет брать мзду с китайских трейлеров на десятиполосной дороге гуаньчжоу париж по которой товары гонят из китая великого отечественных антиутопий за последние два года издано много мечеть парижской богоматери елены чудиновой ольги славниковой сергея доренко теплоход иосиф бродский александра проханова жд дмитрия быкова думают писатели о судьбе страны спрашивает в книге владимира сорокина опричник комяга у ясновидящей прасковьи что с россией будет молчит смотрит внимательно будет ничего',\n",
       "       'книга из хороших доктора синельникова как стать богатым и почему некоторые люди не могут стать богатыми рекомендую',\n",
       "       'изрядным скепсисом скачал по рекомендации минаева духлесс не проперло воистину бездуховно и уныло а вот его же повесть о третьем сроке прочитал на ура с трудом оторвался вчера вечером от книги дочитал сегодня утром о чем книга представьте себе что остапа бендера научили словам медиа и политтехнолог а потом показали бабки которые в этом крутятся это товарищи не мильон у гражданина корейко отнять тут то комбинатору фишка и поперла небезынтересно что действие книги происходило в июе года а действующими лицами служили небезызвестные нам жжсты ольгатт выступает главной площадкой крылов помянут некто молодой политик яша да кучу корреляций найдете глава шарашки отдельно заметим носит фамилию вербицкий произошедшие в книге политические события описаные весьма прозрачно тоже слепому очевидны а на ледорубе в жопу российской оппозиции я уже просто ржал книжка полезна тем что показывает насколько смешно верить любым сми насколько они пусты по своей природе отдельно она выигрывает по сравнению с повестью о ненастоящем человеке мягким юмором и вставками любимого дроздова со своим в мире животных никакой жести никакого сируфа или путина накрывшего страну своими кожистыми крылами в их роли дроздов с игуанами и летающий парфенов пожалуй еще выигрывает тем что не пытается объяснить мир или написать драму а откровенно пишет современный плутовской роман в духе ильфа и петрова никакой жести и никаких наркотиков да и бандиты анекдотические может и не шедевр явно не пелевин и не болмат и даже не гаррос евдокимов но прочел не без увлечения словом сегодня буду качать и читать продолжение информационный террорист речь там пойдет видимо о продолжении го года кто писал описание книги уберите пожалуйста из него описание конца все удовольствие от чтения смазывает ну вы же люди со вкусом к чтению должны же понимать что так нельзя',\n",
       "       'я бы не сказал чтоб уж так сильно попортил однако заметно хуже ой части но лучше ой',\n",
       "       'исторический роман немного магии сначала кажется слегка скучновато но незаметно книга захватывает и держит до самого конца уфф местами даже плакала',\n",
       "       'написано качественно сюжет тоже интересный но мне не очень понравилось',\n",
       "       'очень тяжело далась и понимаешь что это списано с реальности просто жутко при чтении нужно иметь крепкие нервы читая сцены в которых описывается поле боя долго время не могла выйти из депрессивного настроения',\n",
       "       'очень хорошо для тех кому до в свое время читала с удовольствием',\n",
       "       'книга стоит прочтения наводит на интересные мысли',\n",
       "       'книга понравилась но впечатление чуть хуже чем от первой книги наверное просто ожидал другой концовки',\n",
       "       'спокойное произведение без особых сюжетных поворотов для тех кого притягивают семейные истории книга больше для женщин',\n",
       "       'странноватая книга это как бы воспоминания сына дочери и отца сын несколько с сдвигом по фазе отец совсем немного со сдвигом их всех этих воспоминаний получается что любил отец только дочь переживал страдал снимал на фото и видио потом это все смотрел доченька в подростковом возрасте сильно выпендривалась но вот она наконец повстречала мужчину своей мечты а у него оказывается есть дочь точно такая же какой она сама была на этом книга заканчивается читать можно такой легкий юмор возможно некоторые молодые люди после нее станут лучше понимать своих родителей',\n",
       "       'неплохое чтение возможно для отпуска так было у меня мальчик придуман оригинальный хотя мы же не знаем что там себе думают аутисты да и вообще другие люди о чем собственно эта книжка и повествует еще можно вытянуть из нее мысль что к цели ведут разные пути но история чуть слащава все персонажи чуть ненатуральные поэтому просто хорошее чтение да а какой шикарный пример про условную вероятность телевикторину и козла',\n",
       "       'действительно сложно оценить по бальной шкале читала дважды первый раз показалось бредом сумасшедшего второй раз когда вчиталась осталась под впечатлением ммм даже не знаю что сказать специфично',\n",
       "       'все таки нудновато', 'в духе кажула не очень',\n",
       "       'книга понравилась т к как никак классика все эти превращения мистика пейзаж признаюсь сама не спала всю ночь после того как прочитала но все же при прочтении мутила одна вещь некоторая наивность гл героев и постоянные хвальбы о том какие же они благородные добрые смелые и т п и т д но это уже думаю мои заморочки так книга вполне ничего прочитать стоит',\n",
       "       'довольно хорошо только слишком моного жизнеописаний второстепенных героев',\n",
       "       'книга какая то волнами то очень интересно то все пробуксовывает некоторые страницы просто просматривала как будто книга писалась то на подъеме то с похмелья но в целом интересно продолжение читать буду',\n",
       "       'не могу найти продолжения язык конечно никакой явно не великий и могучий но сюжет интересный',\n",
       "       'холден колфилд вечный мальчик детский наив непонимание того что жизнь уже проходит пока ты ее планируешь',\n",
       "       'отчетливо ощущается редактура или соавторство акунина книга напоминает детективы о фандорине но в целом неплохо',\n",
       "       'понравилось чуть меньше чем все остальное фандоринское',\n",
       "       'интересно но немного нудновато',\n",
       "       'отличная книжка спокойная легкая как и все что придумывает гришковец очень приятно читать',\n",
       "       'роман переведен на языков уже одно только это вызывает желание прочитать книгу чем же эта книга так привлекает людей действительно гениальное произведение или просто хорошая реклама роман издан в серии женский клуб которая отличается приличным оформлением неплохой бумагой и приятным соотношением кегля с размером страницы история почти на страниц которая у менее даровитого автора могла бы обернуться слезливой мелодрамой становится здесь тонким и проницательным рассказом о семейных отношениях и их изменчивости во времени это мнение зарубежной прессы а вот небольшой отрывок из нашей прессы дошло до того что в америке психотерапевты стали рекомендовать эту книгу своим пациентам а поскольку травмированным в нашем мире сможет считаться каждый второй то вот вам и секрет успеха милых костей время новостей больная книга для больных людей другими словами жестко но мне этот вариант больше нравится нежели высокопарные рассуждения о неповторимом стиле и изысканном языке э сиболд тем более что ничего этого я не заметила впрочем я же читала в переводе о чем роман о том как девочку которой было лет сначала изнасиловал сосед маньяк а потом убил девочка попадает в свой персональный рай и оттуда наблюдает за происходящим с ее семьей за розыскной деятельностью полиции за своим убийцей роман был определен мной как фантастический за счет того что там предпринята попытка описания структуры рая точнее его устройства каждый обитает в своей сфере которую наполняет тем чем хочет у кого то это бесконечные развлечения в парке аттракционов у кого то родной дом парк городские улочки и т д при этом нет никаких ограничений какой хочешь рай такой и делаешь сферы эти могут взаимопроникать а их обитатели ходить друг к другу в гости все очень мило как в детских сказочках и соответствует тому как в старых фильмах детям объясняют куда уходят люди после смерти сюзи сэлмон оказывается вовсе не такой уж хорошей и добропорядочной девушкой она даже вселяется в тело своей подруги чтобы переспать с любимым парнем к счастью здесь обошлось без пошлостей за что отдельная благодарность автору повышенное внимание к деталям иногда играет положительную роль а иногда раздражает к середине романа я уже начала проверять сколько мне еще осталось читать в общем и целом неплохая семейная драма с налетом мистики повествование не отличается динамичностью что видимо диктуется жанром все очень размеренно и неторопливо',\n",
       "       'илья стогов все окружающее видит в сурово черном свете немного параллельная для меня реальность может быть просто потому что в ташкенте куда его лирический герой отправляется в этой книге я никогда не был только что то наверное отрывок в его же камикадзе о москве мне подсказывает что не все там так одинаково ужасно замечательный рассказчик автор не грешит внимательным отношением к фактам в этой книге это и не нужно это не его публицистическая революция сейчас об истории экстремистских движений в ней не так важна достоверность как настроение которое честно может выписать только тот кто всерьез хотел умереть после получения в москве гонорара за статьи в ом герой решает не возвращаться к жене в петербург а ехать куда глаза глядят роль глядящих глаз исполнила кассирша в билетной кассе дальше будет долгая дорога с разговорами на поездах попутках самолете мчс три флешбэка из прошлого героя волгоград образца го куда илья уехал вслед за любимым браво западный берлин в ом с его интернациональной любовью и казантип времен танцев на атомной станции главную мысль этой книги автор вынес на первый же ее лист ехать имеет смысл только туда где ждут все остальные дороги ведут куда то не туда',\n",
       "       'в детстве не любила сейчас возникли ассоциации с коэльо и опять не люблю это всё мило но не гениально и даже не свежо',\n",
       "       'айболита знают все советские дети однако не все советские дети в курсе что айболит такой же попертый персонаж как гудвин или буратино советую всем детям прочитать оригинал не пожалеете я лично открыла его для себя в ом классе можно подумать что поздновато и все такое однако нифига подобного читалось замечательно и приятно не путать с одноименным фильмом это голливудская фигня мелкого пошиба',\n",
       "       'читать приятно можно ознакомиться но сравнивать с маркесом как то эт вы замахнулись на святое практически',\n",
       "       'вроде все нечего сначало даже интересно захватывает а с середины книги начинаешь понимать что про одно и тоже разными словами короче говоря еле до конца дочитала хотя она и малюсенькая',\n",
       "       'неплохо но не самое лучшее произведение автора',\n",
       "       'совсем неплохо но на любителя сюжета как такового нет общие впечатления от книги ностальгия лучше читать тем кому в принципе нравится мураками',\n",
       "       'очень легкая книжка хорошее переплетение древне русского с современным языком',\n",
       "       'мило изредка изящно прочла и забыла',\n",
       "       'легкий романчик для девушек и женщин хотя сюжет достаточно банален про няньку его детей',\n",
       "       'нуу вобщем ничего особенного она так бысро кончилась что я ничего толком не успела ни понять ни почувствовать и уже с трудом вспоминаю сюжет я размышлял о том что же собственно очеловечивает человека что это собственно значит вести себя по человечески к примеру мы знаем что собаки ведут себя по собачьи ловят брошенный мяч нюхают друг друга под хвостами и высовывают на ходу морды из автомобилей мы знаем и ка ведут себя кошки кошки ловят мышей трутся о вашу ногу когда хотят есть так что же такого людского делают люди и вот единственное что пришло мне в голову из того что делаю люди и не делают другие животные люди курят занимаются бодибилдингом и пишут книжки не так уж много учитывая какого мы о себе высокого мнения',\n",
       "       'хороший динамичный сюжет занимательно интересные герои',\n",
       "       'гэм это первое мною прочитанное произведение ремарка из всех отзывов которые я читала и слышала я узнала что гэм существенно отличается от более поздних произведений автора я не могу сказать что была в восторге от прочитанного но и не могу сказать что это произведение не заслуживает внимания наоборот просто сюжет немного сложноват для восприятия т к много философских мыслей не все из которых мне дано понять наверное я просто еще не созрела для этого произведения при этом в книге на самом деле удиляется большое внимание теме одиночества и поиска смысла жизни главная нить сюжета героиня на протежении всего повествования ищет и в конце концов находит смысл своего существования также здесь есть место предательству и эгоизму по моему все очень сложно очень хочу и прочту другие произведения автора',\n",
       "       'абсолютно согласна с предыдущим рецензентом любовники смерти самая слабая вещь в приключениях эраста фандорина остальные книги акунина просто супер',\n",
       "       'с литературной точки зрения книга вобщем то неплоха точка зрения автора извращенна и уродлива поэтому сложно оценивать произведение все таки поставлю оценку оценивая стиль изложения',\n",
       "       'краткое резюме лучше я буду продолжать пересматривать фильм',\n",
       "       'приквел то что было раньше событий первых двух частей книга неплохая но прочитала скорее из любви к началу серии о волкодаве середнячок одним словом',\n",
       "       'всё хорошо красиво умно но затянуто страшно имхо',\n",
       "       'а мне даже понравилось чушь со смыслом просто интересно почитать особенно людям с богатым воображением',\n",
       "       'сиквел как правило несколько менее удачен чем оригинал но в целом это все та же филдинг и все та же джоунс обаятельнейшая недотепа очень смешно попадающая в различные переделки софи кинселла со своими шопоголиками не идет ни в какое сравнение',\n",
       "       'книга рассчитана на любителей узбекской кухни и мужчин так как ворочать тяжелым казаном и готовить шашлыки не женское дело неплохие заметки про специи и сорта риса однако остается чувство что автор напрасно выдает рецепты за свои из книги видно что основную часть он выспросил у местных поваров и торговцев',\n",
       "       'переработанная выжимка из кастанеды но в том то и дело что переработанная переваренная так сказать и смешанная со своим взглядом на мир если уж читать так кастанеду',\n",
       "       'любопытные факты нормальный гладкий текст перевод с л соболя ну и читая что дарвин пишет о других а он там пишет не только про геологические формации флору и фауну но и про встречных и попутчиков узнаешь кое что интересное и о нем самом правда если читать перед сном лежа в кровати сразу засыпаешь объем труда печ л с картами и рисунками на долго хватит',\n",
       "       'эко конечно бог но о средневековье он пишет лучше и если читая имя розы сталкиваешься с трудностями чтения лишь временами чтобы затем отдаться гениальному ритму повествествования то маятник оказался для меня чрезвычайно тяжелой книгой дочитал с усилием',\n",
       "       'эта книга может быть полезна скорее нашим матерям чем нам она для женщин которым нужно чтобы им кто то сказал что они имеют полное право быть собой',\n",
       "       'ну обычное чтиво которое можно читать не задумываясь на пляже в автобусе во время долгой утомительной поездки где сама ее и прочитала но порадовала легкость чтения очередная сказка но очень приятная',\n",
       "       'читала но по моему так и не дочитала до конца мнение двоякое помню что было интересно с другой стороны столько героев еще и имена все похожие вносили сумбур',\n",
       "       'ведьма на задании была лучше посмотрим как будет с продолжением в принципе эта тоже ничего',\n",
       "       'приятная вещь во многих местах не очень реалистично если можно говорить такое о фэнтэзи автор не описывает различные мелочи жизни но мне понравилось не отвергаются различные вещи сексуального характера и неплохая проработанность характеров',\n",
       "       'до сих пор осталось ощущение что я чего то непоняла',\n",
       "       'рассказы этого автора необычны но боюсь в большом количестве они вскоре наскучат',\n",
       "       'а взрослым интересно будет узнать что решил сказать по этому поводу ле гофф судя по всему по просьбе еврокомиссии впечатлительным лучше читать лёжа на диване т к есть опасность упасть',\n",
       "       'хорошая книга и все тут как для серии неплохое и многообещающее начало хотя есть большой соблазн сравнивать с дозорами лукьяненко вся та же москва тайны маги поэтому подсознательно придираюсь мол здесь не то там не так но тем не менее читать можно из минусов клерк артем супергерой поневоле как то он нелепо смотрится то ли не научил его автор бояться то ли чувствовать снова хочеться сравнить артема с городецким как то городецкий поярче смотрится но это личный взгляд прошу не критиковать остальные минусы не существенны и на удовольствие от прочтения книги не влияют в общем буду читать дальше оценка из балов',\n",
       "       'неплохой скорее приключенческий чем исторический роман только очень уж все предсказуемо',\n",
       "       'после прочтения кода да винчи ангелы и демоны и точки обмана кажется что автор обманывает тебя один и тот же сюжет и сплошные глупые головоломки',\n",
       "       'первая книга ридпата оставила неоднозначное впечатление легко читается видимость сюжета но финал разочаровал',\n",
       "       'фильм смотрела книгу прочитать времени не было но когда появится обязательно прочту',\n",
       "       'необременяющее чтиво',\n",
       "       'хорошая книга но никаких восторгов не вызвала героини ремарка мне вообще не нравятся и любовь их меня как то не очень трогает пессимистическая атмосфера книги угнетает',\n",
       "       'очень драматично почти все герои жестоки и преследуют какие то свои тайные цели хорошие или не очень но читать можно',\n",
       "       'написано очень даже неплохо но сюжет мне не понравился слишком много нагромоздили феанора воскресили жуть',\n",
       "       'бывало у бегбедера и лучше но ничего поделать не могу позитивно влияет на меня этот писатель или его герой наряду с любовью которая три года живет книжку надо прописывать в периоды неустойчивой личной жизни',\n",
       "       'остров утопия это слово придумал автор в переводе с греческого примерно несуществующая пока еще земля не путать с находиться далеко от остального мира и правят там мудрецы это идеальное государство основная тема описание законов нравов и вообще острова утопии',\n",
       "       'нужна камасутра прочти эту книгу',\n",
       "       'немного отличный от юноны и авось взгляд на резанова плюс картины правления павла и александра резюме немного наивный исторический роман',\n",
       "       'не лучшая книга в этой серии но если вы уже начали то стоит прочитать',\n",
       "       'посмотрев фильм находилась под таким впечатлением что решила во что бы то ни стало прочитать книгу по которой он снят в итоге показалось что книга послабей фильма фильм идет в бешеном ритме постоянно преподнося какие то сюрпризы держит в напряжении до самого конца а книга какая то более размеренная',\n",
       "       'самый настоящий детектив в русской классике',\n",
       "       'как произведение и стиль написания даже очень ничего скажем так показывает всю сущность барщины а вот негатив вылился когда узнала что в некоторых школах ввели в обязательное прочтение причем в классе слава богу кто то добился и это произведение исключили',\n",
       "       'согласен с другими отзывами что один из лучших переводов с названием луна жестко стелет это чуть ли не единственный раз когда я больше был впечатлен самим переводом чем произведением даже если не прочтете то ничего не потеряете',\n",
       "       'сказывается наверное детская любовь к фильмам об индейцах пошло легко и непринужденно сюжет довольно прост в колонизированном испанцами городке на территории мексики живет семья охотника на бизонов бравого и красивого парня в силу того что его сестра также недурна собой и в числе ее поклонников комендант крепости а сам парень влюбляется в девушку на которую имеет виды помощник коменданта городка вокруг этих любовных хитросплетений и завязываются основные события так как и парень и его сестра оказываются слишком независимыми и неуступчивыми планы хозяев города оказываются нарушенными а без последствий они оставлять этого не хотят в финале мстя таким образом один другому мать охотника убивают его сестру по случайности не удалось довести до смерти а сын со своей стороны вынашивает планы мести отцам города и подвязавшимся священникам итогом является нападение на городок отряда индейцев во главе которого сам главный герой повести',\n",
       "       'книга из серии легко читается легко забывается',\n",
       "       'вообще такие вещи можно читать когда знаешь что такое любовь а так кажется слабовато',\n",
       "       'показалось немного пресноватым',\n",
       "       'есть ли жизнь на марсе есть ли жизнь за пределами офиса есть ли жизнь вообще есть ли что то кроме работы лего это бинарная да нет система каждый герой кроме пожалуй рассказчика квинтэссенция сренестатистичности в отдельно взятой группе американцев не людей нет именно американцев очень очень очень любопытно было посмотреть на эту нацию изнутри американцы шутят над русскими потому что у них коммунизм и забальзамированный ленин знали бы американцы почему над ними шутят русские из интересно забавно программистский и компьютерный юмор для осведомлённых конечно но моих познаних хватило на похихикать но фактически бессюжетно герои попахивают картоном но вполне так сносно',\n",
       "       'книга хорошая но хотелось бы у автора спросить какую свою вину должны были чувствовать волжские немцы переселенные в северные края',\n",
       "       'пьеса одного актёра и двух действующих лиц идея понятна не до конца ибо я не музыкант ни разу',\n",
       "       'не подойдет для избалованных чеховым набоковым и прустом язык незатейлив производит впечатление идущих подряд скетчей которые между собой связаны только главным героем иногда можно даже смеяться вслух но рано или поздно становится скучно',\n",
       "       'читала в школьной программе может когда нибудь и перечитаю читалось ровно без сильных эмоций',\n",
       "       'рушди способен много на большее но не плохо читабельно',\n",
       "       'детективчик весьма неплохой где все постоянно бухают',\n",
       "       'интересно но как то большего ожидаешь',\n",
       "       'верно режисеры сделали так что несколько книг в один фильм сжали иначе нудище было еще то как фантаст лукьяненко слаб такого напридумывал что сам запутался',\n",
       "       'привлекла аннотация актуально по возрасту книга не разочаровала легкое чтение',\n",
       "       'не люблю детективы но данное произведение прочитал судовольствием',\n",
       "       'вообще я человек разносторонний поэтому читаю все что касается донцовой то я начала читать сразу как только вышли ее книги тогда привезли из москвы в моем городе ее произведения еще не продавали смешно заразительно смешно но вот что касается уже последних то начинает уже преувеличивать если раньше смешные реальные эпизоды то теперь выдуманные которым не очень то и веришь а так чтобы расслабиться можно и почитать',\n",
       "       'грустное наблюдение угасания империи и наконец то флэндри влюбляется сам',\n",
       "       'вся серия неплохая но мне больше понравился лабиринт отражений мне кажется что в этом случае первая книга действительно сильнее',\n",
       "       'сначала книга меня оттолкнула не понравилась с первых строк стал неприятен язык автора и даже не знаю что еще просто бывает такое ощущение что что то тебе неприятно а объяснить что именно не можешь так и с этой книгой но я переборола в себе это чувство и продолжила читать ближе к середине книга меня завлекла так что я прочитала ее за часа не отрываясь и опять же я не поняла что меня привлекло получилась та же история что и с отвращением книга откровенна слишком обнажена сексуальная сторона книга построена на грани литературной порнографии но сам язык интересен и эти хитроумные переплетения мифов и реальности а также судеб людей конец не шокирует но подводит черту после которой понимаешь что не понял и половины или тебя не дали это понять и узнать',\n",
       "       'написано неплохо но не страшно даже трактирщик седина в голову бес в ребро не оживил сюжетец медленный английский роман',\n",
       "       'они лежали рядом и все что было защищено теперь осталось без защиты где раньше была шершавая ткань все стало гладко чудесной гладкостью и круглилось и льнуло и вздрагивало и вытягивалось длинное и легкое теплое и прохладное прохладное снаружи и теплое внутри и крепко прижималось и замирало и томило болью и дарило радость жалобное молодое и любящее и теперь уже все было теплое и гладкое и полное щемящей острой жалобной тоски наиболее запомнившийся отрывок зацепило так сказать',\n",
       "       'добротная книжка современному научному работнику будет ещё и познавательно в историческом аспекте да и просто интересно',\n",
       "       'неплохо вот если б еще педофилию убрать',\n",
       "       'мне тоже очень понравилось описание работы в инофирме есть и много других хороших моментов но вот про развод на бабки написано настолько мутно',\n",
       "       'за восток есть восток бралась с легким сердцем потому как и рецензии на него хорошие и вообще люди хвалят по прочтении с рецензентами согласилась только не поняла ту ли книжку я читала даже самая краткая аннотация к роману гласит примерно следующее автор пишет о конфликте западной и восточной культур хм ну если счесть злоключения японца полукровки мать японка папаша американский хиппи который вместо того чтобы собрать денег на самолет и попасть в америку традиционным способом предпочитает спрыгнуть с парохода и плыть к обетованным берегам по морю океану вручную предпосылкой к конфликту культур тогда я не спорю с аннотациями но все же мне показалось что книжка совсем не о том и придурочного начитавшегося мисимы японца хиро прибило к берегу на котором расположился пансион для американских писателей с говорящим названием танатопсис хауз только для того чтобы бойл всласть поиздевался над современной западной литературой и писательскими нравами в частности хорошая богатая женщина решившая сделать что то приятное для человечества открывает эдакий инкубатор для писателей по вечерам они общаются в ее гостиной а утром расходятся по уединенным лесным домикам и с перерывом на изысканный обед с доставкой творят не жалея себя к порогу одной из этих писательниц относительно молодой и не слишком талантливой рути и приходит облепленный пиявками успевший нарушить пару тройку законов хиро на которого объявлена охота местным шерифом рути любовница сына меценатки дамочка романтичная и испытывающая творческий кризис она берется помочь бедолаге который не может сказать по английски и двух слов дает ему кров кормит его тем дерьмом которое продается в ближайшем супермаркете под видом японской еды и строит планы как вывезти хиро в большой город японец влюбляется в свою благодетельницу но не перестает мечтать о городе братской любви должен же найтись хоть один такой в большой америке рути по вечерам блещет в гостиной постепенно завоевывая положение царицы улья маститые писатели лобызают ее ручки и с удовольствием слушают ее лепет все рушится в одночасье в танатопсис хауз прибывает ее закадычная соперница красотка и преуспевающая писательница прославившаяся на ниве эротического романа японец сбегает в неизвестном направлении а рути попадает под пристальное внимание полиции говорят что стивен кинг был в восторге от описанной бойлом атмосферы писательского пансиона именно в такой обстановке согласно его мнению и должны появляться на свет великие шедевры возможно что так оно и есть и может быть найдется скучающий меценат который захочет собрать в подобном танатопсисе русскоязычных писателей правда вряд ли в таком санатории проканает идея светских вечеров русские писатели народ широкой души могут и передраться нафиг',\n",
       "       'шпора персея вовсе не про войну как оно может показаться по издательской аннотации скорее про жизнь одного типичного для мыльных опер персонажа состоятельного мужчины индивидуалиста бросившего своё черезчур богатое семейство с целью жить и кормиться дайвингом и туристическими услугами на одной из отдалённых планет колоний вот только от семьи не сбежишь неприятности волей неволей настигают нашего героя больше всего книга напоминает производственный роман из жизни акционеров крупной компании фантастического в ней по минимуму',\n",
       "       'я читаю книги александровой в дороге т к серьезную литературу нужно воспринимать в более спокойной обстановке помогает расслабиться особенн о в конце рабочего дня но чем болльше читаю тем больше понимаю что все книги похожи и предсказуемы',\n",
       "       'я считаю обе книги и первая и вторая часть медиа сапиенс написаны на одном уровне вполне можно читать единственное очень сильно мешает ненормативная лексика но сюжет это реалии нашей жизни не думаю что у нас на украине политическая жизнь сильно отличается от российской вполне можно прочитать для ознакомления с современной литературой',\n",
       "       'без приукрасов про войну',\n",
       "       'страх ужас паника это стадии одного чувства что ты знаешь о нём а что ты знаешь о женском страхе что делает женщина когда ей страшно когда приходит ужас три женщины с разными характерами и разными представлениями о мире столкнулись с этим чувством каждая переживает его по своему это интересно и даже завораживает',\n",
       "       'первая книга читается как гарри поттер с гоблинским переводом но потом все проходит исчезает параллель герои становятся самостоятельными и читается легко в сравнении с гарри менее кровожадна можно читать детям чего уже трудно сказать и о гарри',\n",
       "       'не шедевр но почитать этот образец русской матерной поэзии интересно тем более на прочтение уйдет не больше минут',\n",
       "       'понравились детали представляется все в красках но нужно терпение чтобы прочитать книгу хотя есть и доступный вариант для маленьких',\n",
       "       'парадокс пишет отлично но писать ей не о чем может время это исправит',\n",
       "       'можно почитать и сразу же забыть', 'роман о любви не больше',\n",
       "       'очень прозрачная мысль произведения написано мастерски но нет возможности ничего достраивать и додумывать',\n",
       "       'вторая мировая война русские и немецкие разведчики ведут бой внезапно они все теряют сознание и оказываются на другой планете в другой галактике где сражаются за север и юг сварогов но потом русские и немцы решают объединиться и выкрав милосердие бога древний артефакт сварогов возвращаются домой ага вернулись они как же по дороге домой выкидывает их из гиперпространственно го прыжка и отряд великолепно подготовленных разведчиков оказывается рядом с сп спасательной планетой созданной иррюмами другой галактической ящероподобной расой возомнившей себя чипами и дейлами для гуманоидной расы вейнов уничтоживших родную планету побаловались с ядрами и атомами на сп происходит революция где власть захватывает один вейнов крайне подозрительно относящийся к иррюмам и всей их акции спасения но наши главные герои наводят порядок с таким то большим революционным опытом раз плюнуть и летят дальше приземляются на землю но слегка ошибаются годом на дворе на родной земле не все гладко было ядерная война затем ядерная зима а теперь какая то разборка между герцогом и секретарем но и здесь объединенный отряд бойцов рабоче крестьянской красной армии и солдат германского вермахта не остаются в стороне а нейтрализуют ядерное оружие на ракетной базе по ходу дела выясняя что они не просто временем ошиблись а измерением до середины роман читать скучно слишком уж он затянут но как только отряд оказывается на спасательной планете становится гораздо интереснее забавны проводимые время от времени автором параллели межу человечеством и другими расами у нас оказывается много общего кроме того история конца века в исполнении евтушенко занятна плюс немцы остаются немцами советские люди советскими людьми и вместе с тем они прекрасно уживаются и воевать то им особо не хочется и задумывались обе ранее враждующие стороны как они жить будут дальше когда вернутся на родину роман очень неровный когда пустой а когда перенасыщен действием настолько что читаемое плохо воспринимается и с трудом переваривается язык неплохой правка отличная во всяком случае грубых и явных ошибок замечено не было',\n",
       "       'эта книга мне очень помогла при сдаче зачета по психологии и педагогике я засыпала преподов интересными примерами манипуляций в обществе',\n",
       "       'вполне нормально в рамках своего жанра марина влади оказалась действительно не без способностей и в литературе',\n",
       "       'книга довольно заурядно написана идея как таковая рассчитана на массы если очень постараться можно разглядеть хоть какую то глубину мысли но честно говоря произведение этого не стоит',\n",
       "       'читать только на отдыхе или если не хочется забивать голову серьезными размышлениями книга из серии убийца времени',\n",
       "       'хотелось каждый вечер вернувшись домой находить там свежеприготовленный фруктовый салат билеты в театр и секс лин',\n",
       "       'странные эмоции от прочтения книги хотя говорят книга хорошая в том случае если она вызывает эмоции и неважно какие они негативные и ипозитивные намного хуже если прочитал книгу и ничего книгу можно прочесть в самые худшие моменты своей жизни и понять не все у тебя так плохо как тебе кажется',\n",
       "       'мне очень понравился фильм а поэтому сейчас обязательно прочитаю книгу особенно после столь противоречивых отзывов',\n",
       "       'очень красивый слог книга для прочтения сложная местами читается как полный бред начинала несколько раз и бросала дочитала с трудом и только из филологического интереса',\n",
       "       'неоднозначное впечатление с одной стороны просто пошло с другой яркое изложение забавные сюжеты увлекает',\n",
       "       'почитать можно сюжет захватывает читается легко впрочем как и весь дэн браун но чего то не хватает вряд ли буду перечитывать',\n",
       "       'нормально интересно местами наивно добротная фантастика но не шедевр и до лучших произведений авторов не дотягивает',\n",
       "       'не особо начал замечательно интрига стиль сюжет все на уровне а закончил высасыванием сюжета из пальца как впрочем и многие свои произведения дочитать я не смог видимо это не мой писатель но пишет здорово имею ввиду стилистику и язык это факт в любом случае это лучше чем процентов макулатуры штампуемой издательствами короче нате вам баллов',\n",
       "       'такими должны были быть гопники изначально в общем я застал этот период уже в процессе отмирания мое поколение уже зачем то жило но таких ребят я знаю потерявшихся в этом мире скатившихся до низких ценностей',\n",
       "       'достаточно легкая ненавязчивая книга особо хочу отметить последнюю часть книги вот там действительно тонко и изящно книга абсолютно незапоминающааяся хороша для чтения во время отпуска',\n",
       "       'имеет смысл читать если уже прочитали овода роман неплох но оводу уступает',\n",
       "       'нормальная книжица написана просто и спокойно',\n",
       "       'настоящее литературное произведение цельное все как надо привет тарантине хотя курицынский матадор и круче в этой области для времени выхода было чрезвычайно заметным явлением',\n",
       "       'наконец то дочитал хоть и довольно тяжелый текст но вполне интересный конечно же есть жутко злобный славянин вова харконен присутствует как дань феминизму крутая женщина главные герои словно перумовские маги проникают друг другу в сознание да и вообще мне часто дюна напоминала фентези переодетую в нф коварные интриги когда хитрость на хитрости сидит и хитростью погоняет но зато есть и замечательные герои которые при всей своей навороченности кажутся реальными людьми мне больше всего понравился гурни халлек очень качественно прописанными персонажи думают взвешивают решения ищут пути а не прутся напролом живут а не существуют в виде комбинации буковок на странице да и антураж не подводит необычность обстановки постоянно подчеркивается мелкими штришками дополняется и усиливается отчего веришь и в реальность окружающего героев мира еще меня ирулан своим графоманством убила вот это коммерчески успешный автор',\n",
       "       'не могу сказать что это лучшая книга коэльо отношения двух любящих людей описаны немного странно и я до конца вообще не поняла что хотел сказать автор',\n",
       "       'прочитала первые тоска и нудятина несусветная равнодушие как к гг так и к сюжету бросила влепив оценку никак убедили прочитать вдохновенно пропели лекцию в стиле талантливо написано о скучном герое который скучно живет и заразительно мучается от своей скуке и ваще классика опять читаю ближе к середине чуть пободрее сменила гнев на милость хорошо но книга в душе ничего не рождает хотя определенные темы описывает вполне красочно может потому что сейчас в душе все таки влюбленный в жизнь настрой а не эти лузерские метания что то я не понимаю что в жисти не так а что не понимаю я не понимаю перечитывать не буду не знаю может дочитав еще раз оценку изменю',\n",
       "       'нудновато но читабельно',\n",
       "       'написан не нудно читается легко но сюжет простоват больно',\n",
       "       'книга не простая неоднозначная худежственность её действительно сомнительна мало на что похожа важны ощущения и настроения которые рождаются во время прочтения тоесть вставить в какие то рамки разложить по полочкам невозможно мастерство автора выразилось не в построении какой то сюжетности а воссозданием образа мышления мироощущения творца художника повторюсь мастерство автора бесспорно но для меня эта книга любимой не станет и перечитывать скорее всего не буду даже оценить не смогла',\n",
       "       'интересная книга на вечер особенно когда чувствуешь себя одиноко',\n",
       "       'странная книга ещё предыдущие алхимик вероника решает умереть заир более менее понятны но тут иногда читала некоторые фразы и не понимала а для чего автор это написал коэльо не производит на меня впечатления значит буду продолжать искать своих писателей',\n",
       "       'речь идёт о великой отечественой войне года с наполеоном небольшое по объёму но очень атмосферное произведение вы когда нибудь думали что война может быть безумно нелепа именно такая мысль в первую очередь посещает во время чтения этой книги великолепный язык меткая язвительность и красивая ирония кстати говоря в паре мест по стилю юмора когда смешным оказывается целый абзац или даже два очень напомнил стругакцих как ни странно из',\n",
       "       'достаточно интересная подборка произведений хотя некоторые из них скучны и непонятны претендуют на потаенный глубокий смысл хотя подозреваю что там такового попросту нет',\n",
       "       'как сказал один человек это прекрасная книга о гадком согласна читать тяжеловато иногда тошнит но не дочитать невозможно',\n",
       "       'начало и конец неплохи середина так себе есть ощущение что некоторые эпизоды написаны ради эпатажа перечитывать точно не буду',\n",
       "       'еще одна типология человека',\n",
       "       'нормальная книженция больше всего понравилась часть про военных переводчиков но не более прочитать и забыть',\n",
       "       'книга оставила какое то странное послевкусие с одной стороны описанное страшно и правдиво а с другой стороны невозможно избавиться от впечатления что это художественное а не документальное произведение',\n",
       "       'первые две трети на одном дыхании последняя треть какаято ахинея пр первобытно общинный социум редкий случай дочитать не смог но осталось приятное впечатление прочитать стоит хотя бы ради описания робинзонады',\n",
       "       'не понял этого произведения понимаю что между строк можно прочитать очень много очень много важных умных мыслей как и во многих проихведениях рея бредбери но тем не менее не смог найти какой то особенной жилки может быть стоит перечитать произведение когда подросту',\n",
       "       'читала когда была подростком действительно книжка жуткая но разве не ради этого люди читают кинга не лучшее его произведение но очень приличное и если увлеклись этим автором то кладбище прочитать просто необходимо',\n",
       "       'средненький полицейский роман в фэнтезийном антураже детективная фабула проще чем дважды два сдругой стороны читается легко можно почитать если нет ничего другого под рукой',\n",
       "       'книга понравилась правда вставки из прошлого на мой взгляд оказались интереснее основного сюжета',\n",
       "       'очень хорошая книжка о мужской дружбе берущей начало из детства о том как взрослеют мальчики о том как судьбы людей расходятся в разные стороны отличный литературный язык',\n",
       "       'прочитала с удовльсвием хотя первая часть мне понравилась намного больше',\n",
       "       'сюжет действительно захватывающий хочется читать залпом но перечитывать не тянет глубины какой то не хватает',\n",
       "       'качественная книга и фильм был хороший я бы сказала что эту книгу нужно прочитать просто потому что это бессмертная классика',\n",
       "       'вполне можно прочитать эту книгу много всего из нее узнаешь и про дальние страны и про иностранцев и про россию и про русских и про самого гончарова сейчас это всё интересно и с исторической точки зрения гончаровский текст воспринимается без труда иногда становится скучновато но не часто',\n",
       "       'донцова не моя любимая писательница но время от времени читаю её детективы так как они написаны иронично и довольно легко читается на одном дыхании',\n",
       "       'что могу сказать читается очень легко за пару вечеров наверное проглотила но ждала чего то большего хотя какие могут быть откровения по этому вопросу',\n",
       "       'написано хорошо и есть правильная мысль про то как нужно обращаться с женщинами но способ которым герой рассказа достиг это правильным не назовёшь',\n",
       "       'интересная книжка',\n",
       "       'отличное очень крепкое фэнтези для любителей пост толкиена эльфы гномы гоблины а ля магия уходит из мира к сожалению не являюсь поклонником данного жанра однако могу ответить что написано очень крепко профессионально ярко повествование довольно продолжительное крепко держит и читается с интересом это говорю я обычно фэнтези не читающий думаю у любителей жанра получит как минимум автор рекомендуется к прочтению всеми любителями жанра субъективно пишет много лучше перумова',\n",
       "       'у меня как раз в таком возрасте она довольно сложно пошла еле еле до конца дочитала',\n",
       "       'как то местечково и мелочно написано оно бы ничего но видны потуги на космополитизм а потому книга автору не удалась ничего особенного',\n",
       "       'городское фентези в весьма занимательном и многообещающем в смысле написания продолжений мире это не москва это отражения москвы или реальность только отражение того мира который в книге герои безусловно спасают все человечество правда сама угроза показалась мне слегка надуманной все таки главный злодей должен быть хоть сколько нибудь равен главному герою даже если автору хочется показать ничтожность то и ничтожность должна быть равна благородству и конечно же спасут попутно найдя свою любовь и научившись доверять друг другу через апокалипсис почти в хеппи энд в полный рост динамичный увлекательный сюжет несмотря даже на вялую и малоправдоподобную злодейку а также сомнительность связанной с ней основной сюжетной линии интересные привлекающие мысль читателя герои не только главные а вообще все герои очень хорошо написаны мелкие подробности детали и ситуации прекрасно и невозможно оторваться рекомендуется к чтению поклонникам городского фентези которые видимо уже скоро начнут писать фанфики по мотивам',\n",
       "       'похоже на сценарий американской романтической комедии только не смешно очень посредственно дочитала до конца но перечитывать не стану а еще я не люблю повествование от первого лица',\n",
       "       'очередная история про даму с рублевки по схеме шут и королева не самая удачная история но и не такая уж плохая почитать можно вполне если вам еще не надоела эта тематика',\n",
       "       'я считаю что если человек хочет вернуться в прошлое поменять его то он слаб и всегда будет неудачником и дело не в том что никогда не сможешь предусмотреть всех неприятностей прошло надо воспринимать как урок опыт и на деле просто мириться с ним а не жалеть о пережитом чтобы в дальнейшем не совершать ошибок и не только подобных',\n",
       "       'хорошая книга с нестандартной логикой конец может быть покажется обидным но все правильно так и должно быть',\n",
       "       'можно читать только главы посвященные любовным историям классиков нашей литературы они действительно интересны остальное фуфло на четверку',\n",
       "       'интересно легко и ненавязчиво в памяти не остается ну и что не все же время на серьезную литературу тратить',\n",
       "       'оставляет тягостное впечатление но читать интересно',\n",
       "       'тема поднимаемая авторов в этой книге очень интересно раскрыта борьба между добром и злом в душе и мыслях человека очень занимательная для прочтения книга',\n",
       "       'тэффи мастер замечать смешное в трагичном она блестяще сочетает юмор и грусть',\n",
       "       'согласна открыла прочитала историй и отоложила подальше уж больно я впечатлительная но я бы рекомендовала ее тем мужчинам которые посылают своих девушек на аборт описаны конечно криминальные аборты но можно получить представление и о том как происходят аборты обычные',\n",
       "       'действительно наивно если бы роман был картиной был бы неопримитивизм восхищает что наивный упрощенный стиль соответствует содержанию отнюдь однако не наивному наивно супер роман о мелочах жизни жизнь человека это не глобальный масштаб это мелочи эрленд лу смешивает множество философий и создает свою не философию но систему жизни одного человека если существует нечто что человеку неподвластно это снимает с него ответственность если добавить сартровскую идею заброшенности человеку остается просто жить и получать от жизни удовольствие такой вот выход из жизненного кризиса именно от мелочей человек получает удовольствие в мячике велосипеде доске колотушке и есть смысл вопрос в том вселенский смысл в мелочах или смысла не нужно вообще нужна только жизнь и радость жизни',\n",
       "       'конечно стиль перумова отличается от стиля толкина и упор в этой книге делается на сражения схватки а не на неторопливое описание странствий но но имхо это всего лишь другой угол зрения на события которые возникнут в средиземье через ое количество лет после подвига фродо',\n",
       "       'серия теней на мой взгляд гораздо слабее саги об эндере но почитать можно',\n",
       "       'книжка дается действительно очень тяжело а вот гениального я для себя ну ничего не смогла найти может еще время не пришло',\n",
       "       'очень и очень интересная книга автор собрал факты цифры и сдела вывод просто констатация фактов никаким провидцем в данном случае быть не нужно спасибо ему за это минус один автор решил что то придумать сам без цифр и статистики в итоге читатель получает бьющегося в истерике брызгающего слюной и кричащего это всё они неомарксисты патрика знаете чем отличается хороший знахарь от врача знахарь в отличии от врача не знает причины болезни так и автор видимо он ещё трясётся в припадке марксофобии за эти годы со времени развала союза всё ещё не может отойти',\n",
       "       'название уже обо всем говорит что вы еще хотите',\n",
       "       'книга гарри поттер и принц полукровка не так увлекательна как орден феникса однако по книжке можно понять что либо автор изначально довольно полно разработал концепцию книг серии либо она сумела точно вписать старые книги в более поздно придуманную концепцию в общем картинка притянутости за уши многих эпизодов из первых четырёх книг постепенно исчезает и последнее не могу согласиться с тем что гарри становится все более близок к тёмным силам да он становится неоднозначен и это принципиально но главная светлая черта в нем не исчезает',\n",
       "       'поставил бы выше но слишком много о христианстве и католичестве а так из',\n",
       "       'когда начала читать думала ну что за муть а к концу книги прониклась идеями рационального питания не могу сказать что именно из за этой книги я похудела но процесс пошел советую почитать для общего развития всем',\n",
       "       'вполне читаемо единственно что слишком уж гениальный мальчик этот артемис',\n",
       "       'последовательное полное но сухое изложение истории ислама пожалуй больше подойдет серьезным любителям истории или исследователям чем просто интересующимся историей ислама',\n",
       "       'интересно несколько иной образ гейши чем тот к которому все привыкли считаю если кто интересуется этой культурой книга кихару накамуры заслуживает внимания',\n",
       "       'потрясающий двацветок типичный турист каким иногда становишся сам вдали от дома самое милое в коэне варваре что он все таки герой что обнадеживает',\n",
       "       'приятная весчь не эпохальное творене конечно но читается весьма и весьма приятно на мой вкус остальные книги серии посильней будут это всё таки дебют так что книге твёрдая четвёрка а автору творческих успехов о',\n",
       "       'роман не так хорош как к примеру мастерская смерти сыновья доктора марча и другие более ранние произведения француженки но тем не менее заслуживает и внимания и прочтения события разворачиваются стремительно буквально с первой страницы да интрига сохраняется практически до самого финала правда не совсем ясно почему роман отнесен к жанру мистики вероятно в силу предыдущих заслуг бриджит нет здесь мы имеем детектив в чистом виде со всеми его обязательными составляющими',\n",
       "       'слабенькая книга а если брать вместе с шлемом ужаса нехорошая тенденция но все равно на две головы выше большинства',\n",
       "       'книга с интересно закрученным сюжетом довольно просто и увлекательно написана а потому читается на одном дыхании но к сожалению как легко читается также легко она забывается после того как ее закроешь и не остается ни одной мысли не цепляет',\n",
       "       'смеялась конечно смешно но и только пустозвон',\n",
       "       'неплохо идеи есть достаточно глубокие хотя многое откровенно притянуто за уши и общее впечатление от книги смазывается',\n",
       "       'читабельно но мне не очень понравилось многовато реальности если на душе худо лучше фрая почитать по моему',\n",
       "       'если сначала прочитать толкиена властелин колец то вся трилогия кольцо тьмы наверняка не понравится если же воспринимать это произведение как самостоятельное повествование и не связывать его с властелином колец то интересно правда иногда на мой взгляд немного затянуто',\n",
       "       'понравилось было интересно узнать чем закончится правда немного тяжеловато читать',\n",
       "       'натаскано каких то фактов исторических и не очень то есть автор конечно не дурак и знает историю хотя бы в тех рамках которых требует действие книги кстати большие сомнения что его познания более разнообразны но как художественное произведение по моему фигня а нехудожественным это и быть не может концовка уже просто откровенный бред вобщем средненько реальное приемущество всего этого дела только то что возникает желание проверить многое из написанного разобраться и конечно увидеть полотна да винчи',\n",
       "       'совсем не похожая на другие книги вещь мистика детектив юмор и конечно же мелодрама основная мысль настоящая любовь длится века читать было конечно интересно но эта книга из разряда прочел и забыл',\n",
       "       'неплохой роман светлый но есть ощущение незавершенности недоработанности',\n",
       "       'можно не читать',\n",
       "       'одна из немногих книг кинга которая оставила хоть какой то след в моей памяти хотя может быть благодаря фильму',\n",
       "       'далеко не лучший роман достоевского непонятно почему в школьную программу включен именно он вернее понятно но кроме идеи не убий и не укради тут ничего нет',\n",
       "       'откровенное чтение для быдла и мне нравиться',\n",
       "       'класссно очень интересно и поучительно',\n",
       "       'сюжет интересный герои сильные целеустремленные способны и в одиночку на многое как сестра так и брат наследственность наверное почему же их предки королевство прошляпили если такие все сильные духом позабавил растерянный папаша эльф просящий трогвара не убивать дочурку чего у перумова не отнять так это правдоподобности обстановки своего рода бальзаковская дотошность деталей',\n",
       "       'если хотите слегка улыбнуться и поднять настроение минут за то это для вас а если вы еще и понимаете в компьютерах то однозначно отдохнете',\n",
       "       'очаровательная но не запоминающаяся история японской девочки все они эти маленькие кавайные анимешницы вечно кого нибудь или что нибудь ищут с несравнимым мужеством в маленьком теле как говорится в скромном теле сильный дух',\n",
       "       'сначала читается очень ровно в середине оч клево история про поседевшую за одну ночь девушку поразила а потом обрыв дочитала но осталось много загадок',\n",
       "       'немного наивна но наверное она соответствует своему времени т к сейчас существует огромный выбор различной фантастики не очень хочется долго задерживаться на таком наивном произведении',\n",
       "       'не смотрела фильм не знаю ничего сказать не могу книга в общем понравилась показалось что немного затянуто посередине но финал все оправдывает',\n",
       "       'собственно о книге в трех немелких томах манифест капитализма антиутопия женский роман философия люди черно белые героиня и героя с которыми героиня вступает в любовные отношения естественно последовательно с одной стороны и остальные человеческие ничтожества герои общаются между собой в основном глазами посмотрели друг на друга и все поняли а читателю автор пространно объясняет что именно они поняли вопреки стилю женского романа и как следствие непомерной раздутости объема читается интересно ну и прикольно конечно когда вид индустриального пейзажа середины хх века сияние домн и мартенов гордо тянущиеся в небо дымы из труб должны по мнению автора вызывать положительные эмоции',\n",
       "       'читаю потому что люблю фантастику но не захватывает видимо должно быть ощущение ужаса при чтении некоторых сцен но его нет и скелеты в шкафу несколько сомнительны',\n",
       "       'народ ваша система прогнозирования работает мне система выдала на прогноз я еще и подумакла как так олди которых я люблю и обожаю и всего да при условии что шмагию многие хвалили а ставлю я действительно вообще книга добротная интересная идея деманий очень интересно опять же язык все эти новые слова занятная вещь очень читайте не пожалеете но все же я ставлю так как для олди эта книга слабая был бы какой другой автор поставила бы больше но не им мне честно говоря предворяющие рассказы понравились намного больше чем сам роман вот за них поставила бы смело',\n",
       "       'вроде и интересно читать было и смешно моментами и грустно но как то не так а концовка непонятная',\n",
       "       'явно очень уступает мультфильму нашему конечно не американскому',\n",
       "       'соглашусь что немного затянуто во второй части а потом ничего захватывает правда есть ощущение сыроватости чего то все таки он не докрутил',\n",
       "       'просто хорошая книга с интересом прочитал но перечитывать когда либо врятли буду',\n",
       "       'интересна сама идея книги очень и очень необычно только по этому мог бы посоветовать к прочтению и еще хоть история и о грустнои но на протяжении всей книги какое то странное спокойное чувство и не капли негатива',\n",
       "       'рассказ о девушке у которой на глазах умер отец она не может смириться с его гибелью и пытается разгадать тайну которую он унес с собой в могилу тайну которая на миг охватила ужасом его лицо и была причиной сердечного удара',\n",
       "       'очень приятственно если бу еще не настолько напоминало небезызвестную игру',\n",
       "       'автор безусловно мастер создания динамики читается книга легко что называется на одном дыхании однако бесконечные чудесные спасения хотя и соответствуют жанру но оставляют неприятный осадок по станиславскому не верю',\n",
       "       'мило о человеке самом обычном с самыми обычными проблемами заботами и треволнениями потому близко просто хоть и не гениально но это не раздражает а придает изюминку рекомендую в моменты когда кажется что никто тебя не понимает и ты личность исключительная спускает на землю т к каждый исключителен и все одинаковы таковы парадоксы человеческой личности',\n",
       "       'мне далась тяжело вещь однозначно сильная но я её явно не допоняла к сожалению вероятно не доросла',\n",
       "       'в книге много интересных фактов которые меня заинтересовали все они относятся к вопросу был ли иисус и вообще имеет ли место религия как таковая самое главное написано простым языком чтоб понятно было даже самым далеким от таких вопросов людей не стоит и говорить что это единственные для меня интересные места в книге несмотря на очень сложный и неоднозначный в смысле ответа вопрос о религии о иисусе книга легкая без интересного сюжета вполне для того чтобы читать в метро кстати многие факты приведенные в книге вызывают споры которые кипят еще до сих пор',\n",
       "       'пиратский роман с примесью современности мораль немного оружия психология читается легко стоит читать тем кто любит провалы в прошлое наших современников',\n",
       "       'а мат это уже один из атрибутов современной литературы',\n",
       "       'конечно к фэнтези эта книга мало отношения имеет',\n",
       "       'книгу прочитала в общем нормально хотя экранизация понравилась значительно меньше второй раз перечитывать точно не буду',\n",
       "       'искючительно просто таки неприлично политизированная сатира горстка камней в огород советского союза и русских вообще и не иначе как целая каменоломня в сторону американской политической истории рейган клинтон буш старший и иже с ними книга действительно понравится только тем кто хорошо знаком с американской с позволения сказать культурой и политическими реалиями данной страны',\n",
       "       'совсем не детское чтение и не всегда это оправдано хотя такой подход позволяет затронуть множество вопросов до которых было бы сложно добраться иначе',\n",
       "       'хм она просто другая',\n",
       "       'нижка неплохая главная героиня понравилась но вот аннотация кроме имен героев ничего общего с содержанием романа',\n",
       "       'все бы хорошо интересно и живописно правда иногда вызывает раздражение безграничная кротость и жертвенность главной героини но это имхо',\n",
       "       'это произведение из серии серьезных книг прочитать стоит наводит на размышления главный герой псих или нет прочитала давно но так и не могу решить для себя в одном отзыве прочитала что о его бездуховности не знаю не знаю мне кажется он все же псих',\n",
       "       'более лживой книги о предвоенном юге трудно найти даже если искать специально но почему то всякий раз когда заходит речь о войне гг она всплывает на поверхность как один из аргументов странное дело почему например роман а толстого петр не используется в качестве исторического источника а вот эта книга пожалуйста могут возразить что мол бичер стоу была современником и де знала прекрасно свое время увы сие трудно признать правдой б стоу принадлежала к аболиционистам причем к наиболее радикальным кругам этой группы да еще была религиозной фанатичкой так как приходилась дочерью пастора и женой профессионального богослова а рабство как известно противоречит нормам христианской этики и в своей книге она прежде всего выражала мнение этой части общества что именно она сама думала о юге и то что от нее хотели услышать аболиционистов кстати в америки того периода вопреки общему мнению было очень мало ввиду малой популярности в среде простого народа газет а именно из этого социального слоя ей требовалось политическое пополнение она решает под видом книги выпустить пропагандистскую и полностью лживую агитку которую и называет хижина дяди тома обладая талантом пиарщика она понимает что единственным верным ходом для воздействия на целевую аудиторию будет перенасыщение своего творения огромным количеством слезливых полностью выдуманных ею историй после выхода ее книги на нее обрушился шквал возмущенного гнева в прессе с требованием предъявить на суд общественности факты жестокого отношения с неграми но она не смогла предоставить ни единого доказательства была попытка подать на нее в суд за клевету но в суматохе гражданской войны эта попытка осталась не воплощенной до конца ну ладно казалось бы что в борьбе за благое дело все средства хороши даже такие низкие и подлые которые использовала б стоу но не тут то было ведя борьбу за освобождение негров позабыв кстати спросить у них самих хотят они этого или нет б стоу не задумывалась что будет когда негры получат вожделенную свободу а было вот что после обретения свободы миллионы негров которые не умели ни читать ни писать а умели делать только ту работу которую их учили делать с детства остались на улице без средств существования многие из них тут же вернулись к своим прошлым хозяевам и что же они там получили а получили они там ту же работу что и делали до этого за мизерное вознаграждение но только теперь им нужно было платить за жилье и за пищу а так как семьи у них были обычно большие то денег не хватало и чтобы как то выживать работать им пришлось в разы больше чем до этого то есть фактически мы получаем ужесточение рабства но и это еще не все так как теперь рабам приходилось платить то работодатель дабы сэкономить нанимал теперь самых здоровых и самых молодых негров о извините их теперь стали называть чернокожие американцы так как они стали полноценными гражданами а что же делали те кто не получил работу у них тоже был большой выбор как провести свое время большинство сразу же спивались наиболее беспомощные погибали от холода и голода кто то выходил на большую дорогу и заканчивал свое существования гния на каторге но зато переполненный гордостью за то что он является гражданином свободной америки и что мы получаем в результате то что гарриет бичер стоу выпустив свой роман хижина дяди тома отчасти стала виновной в смерти миллионов человек кстати в россии революционно демокра тические круги использовали роман б стоу в борьбе с крепостничеством а за годы советской власти хижина дяди тома издавалась раз на языке народов ссср общим тиражом свыше миллионов экземпляров да с таким то размахом сам старина геббельс должен волосы рвать от зависти а теперь вопрос зачем я все это написал отвечаю теперь читая эту книгу подумайте о том что вы держите в руках произведение примерно такого же уровня что и майн кампф гитлера то есть то которое повлияло на ход человеческой истории и стало одной из причин страданий миллионов людей не правда ли забавно',\n",
       "       'хороший роман но с такими темами получается обычно как говорили в детстве замах на рубль удар на копейку начало многообещающе а потом не хватает фантазии',\n",
       "       'книга ничего только автор имеет немного завышенную самооценку хотябы сравнить фамилии героя и его кааято вариация на тему эх я бы так жил',\n",
       "       'третья книга автора прочитанная мной после курения мака и зубной феи и столь же хорошая и другая мистика здесь как у маркеса такой же элемент жизни как дождь или любовь и хотя она ближе к нам по времени и пространству но воспринимается столь же естественно',\n",
       "       'книга неплохая да и читается легко но конец не понравился начиналась как сказка а закончилась уж очень по земному',\n",
       "       'к положительному отнесу отсутствие глупых диалогов присутствие эмоциональных переживаний героев а так всё как всегда он его дочь она её пасынок и что то типа проблем американских миллионеров',\n",
       "       'полностью согласна с умницей легкое веселое чтиво местами страшно смешное',\n",
       "       'любопытно красивая сказка об умной проститутке которая любила читать книги не боялась эксперементировать и которой повезло влюбиться в красивого богатого и умного человека',\n",
       "       'философия приключения психология',\n",
       "       'не скажу что этим можно восторгаться но люди скажите а вы разве не срёте а все ваши извращения а больные фантазии ну хорошо вы точно нормальный так почему вы закрываете на все глаза дерьмо оно сначала в нас самих а потом уже вокруг сорокин нужен для сравнения для осознания действительности для отторжения для понимания настя какая глубина сколько чувств аварон возникает чувство гордости и какой то патриотичности банкет читала в метро и смеялась во весь голос паштет из мужских носков галстуки фаршированные тампаксами рулет из шерстяного одеяла шарики из ногтей мороженое из презервативов подробные описания рецептов приготовления я плакалъ ю эра модифицированных продуктов что нас ждет а описания мясных картин это что то лошадиный суп безумно безумно интересно зеркало довольно странный рассказ как врач постоянно наблюдает за пациентом все время следит за его состоянием так в романе герой скрупулезно ведет записи и делает наблюдения за своими испражнениями что съел время позыва чувства внешний вид консистенция и поразительно он даже дает названия очень нравились примечания несут очень глубокий смысл вчитываться и обращать все свое внимание нужно именно на них машина просто гениально необыкновенно какая интересная идея изобретение машины которая превращает звуки в еду не в обычную а в уникальное блюдо с не на что непохожим вкусом ароматом и внешним видом читайте думайте не воротите носы при виде слова говно на странице посмотрите что есть вы в этом мире какие люди окружают вас и есть ли хоть один человек на этом свете ради которого вы действительно готовы умереть',\n",
       "       'самая обычная и стандартная история противостояния двух сил читать можно если другого выбора нет',\n",
       "       'слабовато вот опять на первую вторую книгу идей и сил хватило а продолжение пришлось вымучивать из себя впрочем плохой эту книгу тоже назвать нельзя просто она хуже предыдущих',\n",
       "       'после прочтения незабвенной в полном восторге от нее кинулась читать еще во но новая европа что то не впечатлила может ожидания не совпали',\n",
       "       'был бы на средневековой планете то товарищу лорду могло бы непоздоровиться за жестокое обращение обращение с животными а так он безнаказанно издевался над драконой вмурованной в основание замка молодой лорд не потерпел этого и начал вести работы по ее раскопке день за днем медленно и болезненно он освобождал ее тело и если бы не регенерирующая способность то ничего бы у него не вышло это своего рода бунт против устоев семьи но бунт гуманный и неприводящий к губительным последствиям нельзя быть костным и жестоким с теми кто желает тебе добра дракон замка конгов учит нас жить по законам чести и справедливости учит подбирать правильных друзей и надежных спутников жизини',\n",
       "       'автор считает что мир стал чудовищно ненастоящим с тех самых пор как вновь появляющиеся лучшие изобретения людей отправляются не в путь от задумки к промышленному производству а в лучшем случае в каталоги патентов потому что человечество не готово принять тот новый мир который наступит после реализации идей существ населяющих его в текстах люди давно повторяют слова людей живших задолго до них или свои собственные слова уже сказанные прежде ничто не мешает истории человечества заняться тем же самым и в году вернуться к событиям вековой давности причем по версии ольги славниковой в октябрьском петербурге года переворот совершили люди в буденовках и шинелях сшитых для маскарада наверное для того чтобы до конца прочувствовать получивший в году и русский и студенческий букер надо знать уральскую мифологию первые страниц язык романа кажется выверенным по штангенциркулю мохнатый гудок не самое экзотическое что можно здесь встретить позже правда язык уже не так режет глаз может дело просто в отвычке от серьезного романного языка',\n",
       "       'написано простым языком напоминает типичный американский боевичок но для отдыха можно почитать интересно',\n",
       "       'живенько так почему то напомнило улицы разбитых фонарей и пр эпоха та же в сущности еще у меня четкий тумблер верю не верю и когда рассказ любого человека рельного или абстрактного слишком насыщен яркими и острыми событиями я начинаю это воспринимать как сказку или привирание не верю когда постоянная жопа в любой жизни немало светлых полос в аннотации сказано что описываются реальные события но образ собирательный потому кажется что перебор',\n",
       "       'очень люблю эту серию но мне больше нравятся волшебник изумрудного города и жёлтый туман и всё равно книга очень хороша',\n",
       "       'а вот и не знаю понравилось мне в целом книга или нет занятный сюжетец идея зацепила вот только кончилось все странно и не поняла я в чем там дело по этому и не могу выдать цельную оценку книги мож если кто внятно объяснит то тогда уж',\n",
       "       'немного нудно но интересно',\n",
       "       'уже после просмотра фильма решила прочесть рассказ легший в основу сценария могу сказать что книга мне понравилась больше в фильме присутствует только первая ее часть то есть события до входа в номер с пожалуй единственным отличием сэмюэл л джексон ну никак не смахивает на маленького полненького менеджера все дальнейшие события в корне различаются и то что надумали александер и каражевски явно проигрывает ведь то что рисует воображение при чтении кинга ни с чем не может сравниться',\n",
       "       'первая книга как то не зацепила но начиная со второй зацепило так что оторвался только тогда когда закрыл последнюю страницу последней книги серии',\n",
       "       'интересная книга есть что почитать о чем подумать но честно говоря попытки всяческих авторов доказать что черное может быть белым начинают утомлять',\n",
       "       'очень схоже с серией русские идут ю никитина если не сюжетом то сутью',\n",
       "       'нудноватое начало со слабоватым после мифов юмором интересна лишь развязка',\n",
       "       'очень много крылатых фраз читала после фильма а фильм в детстве мне совершенно не понравился и действительно чем то напугал шариков этакий бомж в современном понимании профессор злодей не знаю понимаю тех кто считает это произведение гениальным но мне оно не нравится',\n",
       "       'подписываюсь как детектив книга слабая а вот альтернативная история как проявление взглядов и мнений автора на современную действительность заслуживает интереса забавный мир но не уверена что хотела бы жить в нем хотя и много притигательного а вообще имхо автор явно поклоник алтернативной истории фоменко',\n",
       "       'а мне больше чем код да винчи понравилась',\n",
       "       'автор решил таки уже немного заняться литературой а не интересным изложением фактов затянул история интересная не спорю но выглядит уже совсем по другому нежели его курьезы',\n",
       "       'рекомендую школьникам начиная с класса',\n",
       "       'донцову изредка читаю в метро и мозги не загружаются и тупо сидеть глазеть по сторонам не приходится но вот никогда не помню читала ли я данную книгу или нет они все кажутся похожими и по названию и по содержанию',\n",
       "       'так как одно из первых произведений в цикле довольно интересное в отличие от последующих семёрка',\n",
       "       'мне нравится легкий язык автора идеальное чтиво во время поездок на дальние расстояния или во время отпуска но есть небольшой минус где то в середине истории устаешь от одного и тоже юмора и мечтаешь чтобы роман побыстрее закончился и даже несмотря на это хорошее настроение гарантировано',\n",
       "       'в книге собраны тексты легшие в основу голливудских кинофильмов собственно особое мнение небольшая повесть вспомнить всё мы вам все припомним не очень большой рассказ его действие охватывает примерно фильма час расплаты полный расчет крикуны вторая модель и самозванец самозванец для любителя дика такая подборка выглядит странновато для любителя кино в самый раз можно понять какие идеи и любимые мысли одного из самых странных и самых одаренных фантастов хх века стояли за давно знакомыми кадрами блокбастеров тексты не лучшие у дика но это возможно не упрек а похвала составителям на материале не самых сильных рассказов легче понять как все таки уникально была устроена голова у этого человека и насколько даже мимоходом брошенные им идеи оказались плодотворнее для культуры чем плоды титанических мысленных усилий иных его коллег по перу',\n",
       "       'книга средняя прочитать стоит',\n",
       "       'я не могу сказать насколько правдиво описано рабство в этой книге но взаимотношения героев их судьбы трогают до глубины души им по настоящему сопереживаешь',\n",
       "       'книга тяжеловата и конечно не про милых кошечек вернее не только про них больше конечно не для развлечения просто есть философия а есть популярная философия надеюсь для тех кто хоть что то в этом понимает объяснять не надо по крайней мере если это не ваша книга поймете сразу попробуйте но не судите строго это произведение на любителя',\n",
       "       'да киберпанк с чем сравнивали предыдущие рецензенты не знаю на мой взгляд вполне приемлимо уровень чуть ниже дочери железного дракона г на м суэнвика но все равно оценка нормально имеет место быть закрученный сюжет вполне достойный для киберпанка в смеси с политическим детективом психологизм интрига имеется сюжет закручен от способа автора складывать слова в предложения не тошнит что еще надо для развлекательного чтения да не ф м достоевский но не хуже г на м фрая естественно учитывая сюжет направление и пр может быть рекомендовано к чтению при необходимости занять время под пиво',\n",
       "       'восточный антураж и юмор это конечно хорошо но книга показалась слегка затянутой именно из за того что автор думал как бы еще втиснуть в сюжет побольше этого самого колорита восточного и юмора',\n",
       "       'извините господа но сериал все таки на любителя говорю вам как специалист по компьютерам с почти летним стажем',\n",
       "       'лучшая серия гаррисона по моему мнению сабж конные варвары этический инжинер читать обязательно как классику фантастики прекрасный сюжет живые герои и вечные проблемы одна из лучших прочитаных мною книг',\n",
       "       'для лёгкого ненапрягающего чтения',\n",
       "       'мда к концу бондианы ой пардон волкадавианы семенова увы выдохлась повторы пафос попер изо всех щелей читала сквозь зубы только чтобы узнать чем дело кончилось а ведь такое мощное было начало волкодав и право на поединок как будто другим человеком написаны',\n",
       "       'нелегко читается книга написанная историком второго если не ошибаюсь века нашей эры справедливости ради стоит отметить что ее ценность для самой истории трудно недооценить огромное количество фактов которые вряд ли можно найти в иной литературе нюансов которые могут дополнить мнение о властителях империи но то ли настроение на протяжении двух последних дней было не историческое то ли сама книга не весенняя',\n",
       "       'книга похуже империи ангелов захватывает но немножко тягомотно сюжет развивается меделенно нормально для сельской местности сойдет дыхание богов вообще отстой',\n",
       "       'с утверждением о том что для человека все начинается с образования может соперничать только все начинается с семьи в заглавном романе книги в которую вошли три произведения чучхе жизнь заново и люфт прибалтийские авторы головоломки получившей премию национальный бестселлер и серой слизи начали с нарезки из новостных лент и телерепортажей объединенных темой государственного разгрома компании русойл под горячую руку попадает и финансируемая корпорацией элитная школа выпускники которой должны стать в будущем управленцами но не станут во первых одиннадцатиклассников не успели закончить курс а во вторых цели их учителя были далеки от декларируемых через семь лет летние успешные младополитики продюсеры аналитики и бизнесмены получат от своего одноклассника сообщения о том что в живых их теперь осталось только шестеро чучхе киносценарий цитаты в начале хорошо пойдут с заглавными титрами фильма а кульминационная сцена с главной музыкальной темой злой мизантропически мрачный детектив хорошо передающий свою атмосферу обшарпанных подъездов читателю кроме атмосферы ловить здесь нечего две остальные повести тоже совсем не добавляют миру розового цвета но читаются взапой как и положено книгам этого жанра жизнь заново начинается убийством под новогодними курантами дальше будут предшествующее этому журналистское расследование дела загадочно меняющегося каждый год человека рассказ люфт написан алексеем евдокимовым без соавтора в нем главный герой вернувшись в город пытается разобраться почему же здесь все стало настолько иначе и находит ответ совсем не там где ожидал',\n",
       "       'чистой воды концепт в котором основную ценность представляет идея конструкция можно было бы не останавливаться на книге если бы не соль этой идеи книга посвящена по сути всем книгоманам мира пожирателям литературы для которых грань между литературой и жизнью уже неразличима т е в какой то степени и всем участникам имхоклуба полагаю всем здесь присутствующим литература сильно не безразлична',\n",
       "       'в целом неплохо но концовка смазана', 'раритет',\n",
       "       'а как по мне так довольно неплохо никакой воды пожалуй тут перумов постарался',\n",
       "       'смысл книги интересен и реалистичен некоторые моменты действительно заставляют вспомнить о времени проведенном с бабушкой но все это немного подпорчено грубыми выражениями и высказываниями бабули',\n",
       "       'неплохой роман довольно загадочный сюжет и интересно читается а что еще надо когда не хочется напрягать мозги серьезной литературой',\n",
       "       'очень много слов просто вал хотя тема интересная сильные здоровым духом всегда имеют шанс победить зло',\n",
       "       'легкое приятное чтиво в жанре фэнтези понравилось',\n",
       "       'какая то криминальная романтика мне понравилось особенно про зосю с котом и трамвай',\n",
       "       'ой как мы с друзьями любили эту книгу в студенческие годы носили в сумках перечитывали цитировали бесконечно перечитала недавно и просто потрясена довольно средняя психологическая книжка похожа на что то такое мозгопромывающее из серии мысли позитивно или помоги себе сам одно остается неизменным класс перевода выполненного майком науменко фраза жил учитель в святой земле индиане по прежнему невероятно хороша',\n",
       "       'начинал читать кинга с мертвой зоны и темной башни ничего лучше на мой взгляд он не написал сияние добротно но не максимум',\n",
       "       'хорошо читается понятно драматично в принципе хочется дочитать до конца но вот потом вроде и ничего особенного и перечитывать не буду и фильм смотреть не буду',\n",
       "       'наконец нам рассказали откуда взялось название орден водяной вороны книга немного разочаровала биографию сэра лонли локли представляла иначе',\n",
       "       'читается тяжела еле еле дождалась конца книги такое ощущение что слушаешь лекцию в университете',\n",
       "       'я лежу я мелок я на мели я мелко дышу но пытаюсь думать глубоко вот и я пытаюсь думать глубоко',\n",
       "       'считаю что именно левиафан и любовники смерти не очень удачные произведения акунина остальное же все его творчество просто поражает и хочется верить что скоро мы прочтем еще одну новую книгу',\n",
       "       'интересно почитать о жизни и о поисках ее смысла мне понравилось',\n",
       "       'прав ключевое слово оригинально даже слишком порой кажется что автор оригинальничал через силу',\n",
       "       'прочитал недавно левиафан который мне вполне понравился неплохой такой детектив а ля агата кристи конана дойль есть интересные герои дам к сожалению я путал почти до конца описания как и прежде атрофированы тем не менее вполне стильно правда как и в случае с гамбитом начиная с середины произведения уже понятно кто играет роль засланного казачка но и это не омрачает интереса вполне пойдет почитать для отдыха',\n",
       "       'моё личное впечатление от книг лукина очень двоякое то что мастер жанра это однозначно однако иногда в процессе чтения романа возникала такая грусть печаль от чего то недописанного не прописанного не выведенного что ли куда торопимся поэтому',\n",
       "       'на мой взгляд слишком политично стругацкие в этой книге высмеивают бюрократизм и т п в отличие от понедельник я почти не получила никакого удовольствия от прочтения как говориться ставлю но имею ввиду',\n",
       "       'очень неровное впечатление много откровенно слабых кусков но журналистская одаренность несомненна и в рассказах есть отличные места есю я особенно люблю',\n",
       "       'прочитала модную и рекомендованную мне здешним роботом книжку вишневского первая мысль по мотивам моей хистори аськи можно было бы и более впечатляющее что то написать понимаю что людям не особо знакомым с инетом читать про вирт любовь по кайфу а по мне так банальщина те же мосты округа мэдиссон по сути своей',\n",
       "       'начало интересное потом почему то становится скучно прочитала скорее из чувства долга памятуя о прочитанных ранее хороших произведениях этого автора',\n",
       "       'просто вполне добротно написанная книга интересно пожалуй а вот насчёт полезности',\n",
       "       'зарождение развитие и крушение иллюзий и надежд на любовь диковатая странная история',\n",
       "       'открыв книгу поняла что ожидания мои от нее были слишком завышины этим и объясняется мое отношение к ней мило но не более написано легко хороший перевод но весь процесс чтения было стойкое ощущение что чего то не хватает то ли произведение попало ко мне в руки не в подходящий период то ли не вовремя но последние страниц понравились и хеппи энд порадовал ну вот и хорошо не зря мучилась подумалось мне',\n",
       "       'настолько реалистично настолько жизненно что даже разочаровываешься но не в книге нет а в том мире в котором приходиться жить стиль автора суховат что однозначно затрудняет прочтение книги однако приходится согласиться что это единственный способ как нельзя лучше дать определение рекламному бизнесу',\n",
       "       'настоящий триллер автор действительно держит читателя в напряжении чувство страха не покидает ни на минуту но подводит концовка ничего не разъясняется остается не понятным что же происходило с героями',\n",
       "       'концовка не очень но за идею пять ну тобишь высший бал то есть ну на десятку не тянет самое то но из за концовки ставлю',\n",
       "       'фильму с михалковым я бы дала все баллов',\n",
       "       'хорошая книга заставляет задуматься может стать отправной точкой для людей которые только начинают задумываться о себе жизни и многих других философских вопросах прочитать впитать некоторые мысли но не перечитывать',\n",
       "       'классика любовного романа',\n",
       "       'мне история показалась просто жуткой читала ее когда моему ребенку было около года и дело не в загадочной датуре а в том что взрослые беспощадны к детям в общем история о том как бывает плохо когда ребенка никто никто никто не любит любите детей хотя бы своих',\n",
       "       'книга которую сложно оценивать наверное нобелевку дают за существенный вклад в общемировую культуру так вот в этой книге я существенного вклада не заметила ну да человек в процессе романа испытывает все виды бесчестия и выпивает свою чащу до дна но катарсиса у читателя от этого как то не случается не сказала бы что эта книга что то во мне изменила привнесла новое но прочесть тем не менее стоило',\n",
       "       'читала года назад скачала перечитаю запомнились веселые моменты перечитаю вспомню думаю оценю выше по итогам прошлого прочтения нормально',\n",
       "       'человеку впервые столкнувшемуся с понятием вампир лучше всего начать с дракулы книга неплохая стокер выдерживает мистический стиль держа читателя за горло до последнего вздоха',\n",
       "       'декаданс российской интелигенции смешно и грустно',\n",
       "       'можно сказать хорошо по окончания чтения поймал себя на том что хочется узнать что там дальше умение заинтриговать у автора явно на высоте может быть даже выше писательского таланта',\n",
       "       'браун разбирается в истории как клэнси в советской военной технике это не литература это продукция приемлемого качества чтобы развеять скуку пару вечеров',\n",
       "       'не могу назвать это произведение гениальным оно просто хорошее да много интересных и умных мыслей но для себя новых там не нашла гамлет это лишь один из думающих людей которые были во все века хотя и в меньшинстве бедный ёрик ещё до прочтения гамлета меня подобные мысли посещали ну например у нас дома был чей то черепок и я иногда представляла кто и как бы это мог быть и себя на его месте и о бренности бытия и т д почему люди обращают внимание на некоторые вещи только прочитав книгу из каждого момента жизни можно извлечь глубочайшие истины',\n",
       "       'конец вполне закономерный написано довольно интересно захватывает но перечитывать захочется нескоро',\n",
       "       'смешано в кучу любовь политика культура снег напрягает когда рассказывается о гениальных стихах но сами стихи не приводятся рассказывается о супер красивой девушке но фото не представлено книга затянута во времени настолько же сколько падает снежинка при отсутствии ветра хочется сказать муть но до этого вроде не дотягивает хочется сказать гениально но и до этого тоже не дотягивает впечатление что попытался сварить компот из красивой бутафорской груши груша то красивая но вот компот не получился даже не знаю что и посоветовать почитайте если получится',\n",
       "       'книга короткая по сравнению с предыдущими но захватывающая тут вам и битва за гондор и смерть горлума а также обилие свадеб в конце про отплытие фродо я молчу до сих пор его жалко',\n",
       "       'нормально хотя и противоречиво',\n",
       "       'книга неплохая но все таки заметно уступает лукошкинскому циклу',\n",
       "       'да вовсе не такой блистательный триллер как написано в ее анонсе но и хватит искать в каждом достоевского и шекспира самое приятное в этом произведении это то что автор дает описание мира не столько глазами а сколько органом обоняния носом по моему идея очень оригинальная',\n",
       "       'книга не оставила особых впечатлений сюжет захватывает в принципе можно в определенной доле соотнести написанное с тем что происходит в реальности коробит язык написания',\n",
       "       'очень неплохо собрание хорошо обработанных баек из жизни ленинграда советского времени',\n",
       "       'ну что и неужели никто не читал читала подростком вполне подойдет о любви о другом мире',\n",
       "       'сам по себе автор очень интересен и если говорить о книге как о способе передачи умения а не знания то достойно',\n",
       "       'написано то хорошо и самое главное для тех лет в духе времени хотя мне несколько непонятны столь возторженные отзывы и десятки для меня все герои ушли вместе с золотым веком одиссеем и ахиллесом да у нас в стране были эпические времена но великие идеи и проч в наше прагматичное время должны остаться в прошлом семерка',\n",
       "       'все бы хорошо но все урывками и очень сумбурно',\n",
       "       'автор раскрывает один из способов видения происходящих событий в мире это его версия принимать или не принимать дело читающего мне понравилось прочитала легко получила удовольствие не зациклилась живу дальше',\n",
       "       'будет интересно детям но мне уже не интересно приелся он мне этот гарри',\n",
       "       'нет все таки не нравится мне фрай слишком уж пространные диалоги ведут персонажи слишком многословно думают слишкои много едят и постоянно ржут хохочут смеются до слез а я так ни разу и не улыбнулась за всю книгу',\n",
       "       'на мой взгляд гораздо интереснее чем трудно быть богом и понедельник начинается в субботу',\n",
       "       'об этом произведении можно сказать имеет свой запах на протяжении всего чтения преследуют запахи порой страшные и пугающие физические запахи они живут отдельно от мира вещей',\n",
       "       'думал что будет лучше идея очень интересна города иные но в целом чуть выше чем ничего',\n",
       "       'во многом что касается культуры пития на руси полностью согласна манера повествования смахивает на гришковца и в целом весьма неплохо',\n",
       "       'хорошее произведение состоящее из двух частей первая часть читается практически запоем а вторая немного хуже',\n",
       "       'неплохо для разнообразия или под настроение вполне пойдет есть интрига удачные персонажи красивый фон но не хватает маштабов и детальности исторической прозы и кстати говоря не смотря на то что гибели помпеи как ключевому событию отводится значительное количество страниц сия драма описана наредкость неинтересно познавательно но сухо',\n",
       "       'можно рассматривать даже как сборник отличных историй мне очень понравилось',\n",
       "       'по серости своей и необразованности я столкнулся с тем что не знал ничего об авторе повести авель санчес испанского писателя мигеля де унамуно поэтому пропустив официальную биографию вставляю отрывок посвященный его творчеству литературные и философские произведения мигеля де унамуно как и его политическая деятельность характеризовались неприятием внешних обязательств он не состоял ни в каких политических партиях писал во всех жанрах но не отдал предпочтения ни одному из них в каждом отдельном случае он стремился так перевоссоздать форму чтобы она выразила его глубинное убеждение в том что воля индивидуального человека и духовные борения вызываемые его страстями составляют конечный смысл его существования думается подобная характеристика создает основательный фундамент для постижения повести авель санчес подзаголовок повести авель санчес написанной в году писателя поэта и философа мигеля де унамуно гласит история одной страсти и можно было был сказать история страсти ставшей жизнью а еще лучше будет сказать в страсти зависти к библейской легенде о каине и авеле писатель не раз обращался в своем творчестве и естественно эта история не раз обсуждается в повести жизнь хоакина монегро отравлена завистью к авелю санчесу она сжигает его испепеляет душу и не случайно хоакин и авель росли вместе с пеленок и считали себя названными братьями хоакин страдает сам заставляет страдать близких ему людей и мечтает избавиться от этого терзающего душу чувства и по правде он действительно пытается избавиться от этой тяжелой страсти отравившей ему всю жизнь но все попытки не венчаются успехом книга об авеле санчесе и хоакине монегро в библейская история хх векав братья авель и хоакин как водится очень разныев и если одному достается все внимание то другому перепадают крохи и уже не понять это причина и результат его желчного и скрытного нрава авель становится художником чья слава начинает покорять мир хоакин уже больной болезнью завести становится врачом мечтая затмить славой своего названного брата более того авель в итоге уводит у хоакина любимую женщину которая впрочем никогда не симпатизировала желчному и насмешливому хоакину у обоих рождаются дети у авеля в сын у хоакина в дочь эти дети женятся у них рождаются внукив а вскорости деды умирают от одного остаются картины от другого исповедь черной страсти рассказ автора перемежается вставками из этой самой исповеди своего рода дневника душевной болезни хоакина где хоакин пытается трезво анализировать свою болезнь что с ним происходит в надежде что его дочь поймет и простит егов эта повесть в произведение хх века времени когда рождался и становился конфликт реализма и модерна когда формулировалось противостояние формы и содержания когда определялось главенство одного их двухв если переводит на современный язык то авель в это чистая форма а хоакин в содержание которое не может реализоваться без формы и завидует форме авель который пишет великолепные картины по признанию своих близких в не понимает их не чувствует а содержанием их наполняет хоакин думается можно было бы говорить о повести как отразившей нараставшую в то время модернистскую тенденцию в переориентация в искусстве на форму и агонии реалистического искусства ориентированного на содержание однако в итоге становится очевидным одно в и авель и хоакин умрут и их негласная борьба уйдет в небытиев вопрос лишь в том как отнесутся их дети и внуки к противостоянию кто будет иметь больше влияния на новые поколения и оказывается что форма для новых в а значит молодых в поколений чуточку большев возможно так оно и происходитв',\n",
       "       'ещё одно произведение из школьной программы которое мне понравилось правда все сцены войны я читала в кратком изложении',\n",
       "       'небольшая сказка со счастливым концом о том откуда берутся сказки пересказывать не имеет смысла надо читать',\n",
       "       'написано хорошим языком классической литературы т к именно востоком я не интересуюсь то было скучновато напомнило достоевского тонкими психологическими рассуждениями о не сильно интересных вопросах наверное я сама никогда не примеряла на себя чужое лицо',\n",
       "       'хорошая книга несмотря на похожесть космической и научной фантаститки гиперион и падение гипериона все таки содержит какую то изюминку читать по крайней мере интересно',\n",
       "       'это произведение интересно прочитать перед первым прочтением лолиты',\n",
       "       'кроме двуликого любовника есть еще одно название книги современного испанского писателя любовь на двух языках два названия являются разными сторонами одной монеты поэтому и то и другое название отражает суть книги ее двуликость дуалистичность раздвоенность лиц и языков двуликий любовник это первое крупное произведение хуана марсе которое написано в году все начинается с того что жоана мареса бросает жена норма валенти она богатая он бедный но это второстепенно марес безмерно любит свою бывшую жену и продолжает любить и после ее ухода через десять лет когда ему уже за пятьдесят а норме меньше сорока мы встречаем мареса с аккордеоном на улицах двуликой и двуязычной барселоны он живет подаянием марес человек зависимый от любви и видимо от воспоминаний пишет дневники своего детского прошлого именно в прошлом он находит зародыш собственной двуликости он убеждается в том что его привычное лицо такое же выдуманное ненастоящее и в детстве он ищет подтверждений тому что жоан марес и норма валенти должны быть вместе марес не может жить без своей бывшей жены ему необходимо постоянно видеть ее слышать ее голос трудность в том что она и знать ничего не желает о своем бывшем муже и тогда большое сознание влюбленного человека приходит к мысли сыграть в игру и создать востребованный нормой образ мужчины любовь оказывается лишь катализатором поскольку мысли о том что он не есть он а лишь выдуманный им образ все чаще посещают мареса старый образ когда то завоевал норму валенти но не смог удержать обратимся к эпиграфу первой части и все встанет на места свои настоящий карнавал это не когда человек надевает маску а когда снимает собственное лицо марес снимает маску и обнаруживает под ней болванку на которую можно натянуть любое лицо и тогда марес использует имя и образ друга детства хуана фанеки этот образ он проверяет на соседке и магия превращения срабатывает постепенно сознание фанеки человека самоуверенного ловкого отважного и лживого вытесняет сознание слабого несчастного потерянного мареса и последний раз норма изменяет маресу с фанекой после чего марес исчезает навсегда фанека находит покой в пансионате со слепой девушкой в чем же пафос сего повествования ответов множество может быть в том что у человека нет истинного лица истинное лицо сознательно выбранная маска ставшая по какой либо причине основной человек всегда играет какую либо роль он всегда на сцене даже если публика скрыта но это и дает шанс человеку он сам выбирает и создает свою маску то есть жизнь а может быть суть в том что любовь требует изменения во имя себя самой познание любви в изменении или любовь дает возможность познать что и сама любовь лишь дополнение маски истинной любви нет одна маска одна любовь другая маска другая любовь это был бы роман о смерти если бы смерть одной личности не была бы рождением другой в одном человеке и не случайным оказывается выбор хуаном марсе местом где разворачиваются события повествования барселоны в двуязычном городе где говорят на испанском и каталонском языках ярче проявляется дух дуализма барселона центр карнавала карнавала где личность лишь маска бытия',\n",
       "       'увлекательно читается быстро и легко но конец не впечатлил уж больно примитивен от акунина всегда ждешь большего поэтому только',\n",
       "       'симпатично да пожалуй именно такое определение будет наиболее точным и мысли есть и идеи и слова всё к месту единственное что мне не понравилось это отсутствие некой интернациональности что ли ни на секунду не забываешь что речь идёт о японцах иногда это делается специально для создания атмосферы но тут я никакой атмосферы не узрела зато некое чувство дискомфорта имело место из но прочесть стоит',\n",
       "       'сначала думала что это просто роман о любви но он не о любви а о поколении и наверное потерянных поколений много по крайней мере о последних только так и говорят читать когда надо что нибудь почитать например в поезде',\n",
       "       'лучше чем азазель было очень интересно не только узнать чем закончится но и каким образом но в любом случае это легкое детективное чтиво а не серьезная литература',\n",
       "       'не лучший но и далеко не худший рассказ кинга довольно интересный сюжет но концовка разочаровала ожидал более напряженных событий в развязке',\n",
       "       'легкое ни на что не претендующее чтиво куча нестыковок роялей в кустах веселых баек и т п набор присущий т н юмористической фантастике при этом понастоящему хороший литературный язык итог на один раз в самолете почитать при этом если дочитать не успеете не расстроитесь но читать будете весь полет',\n",
       "       'начало металлического цикла довольно интересное но вот последующие произведения довольно труднова то читать и не зевать но первому дам твёрдую семёрку',\n",
       "       'какие яркие контрастные и противоречивые образы находят гармонию в самовыражении в любви друг к другу и миру в целом в прощешии и обожании мне это напоминает философию руми мевляны провозглашающую любовь двигателем жизни',\n",
       "       'ожидала абсолютно другого исторических историй любви оказалось что я наивная необразованная девушка открыла радзинского с абсолютно новой стороны прочитала залпом но читать в принципе необязательно но полезно',\n",
       "       'интересная книга возможно немного простая и наивная но стоит того чтоб ее прочитать',\n",
       "       'вполне ничего довольно легкое и увлекательное чтиво',\n",
       "       'вообще вся серия приключения магистра это способо сократать время до следующей книге об эрасте фандорине не более алтын толобас лучшее из этой серии все остальное так заработок',\n",
       "       'написано хорошо как и все у булгакова но эту книгу не люблю даже не пойму сама почему и кино не понравилось хоть актеры играли отлично не по душе мне эта история',\n",
       "       'первое что прочла у кинга лет в оставило огромное впечатление правда перечитывать как то не очень хочется хотя может быть',\n",
       "       'книга наводит на многие интересные мысли но безумно мрачная и безысходная имхо сложно сказать насколько это оправдано',\n",
       "       'первая половина книги довольно таки хорошая прослеживается параллель с черным вороном а второя английская полный бред полнейший затрудняюсь ставить оценку',\n",
       "       'прочитал и очень понравилось как и предыдущие прочитал кстати за дня да и это мне не лет так что думаю книга заинтересует и старшее поколение',\n",
       "       'автор изменил стиль не понравилось это изменение первая часть была логично законченна но сама серия нет это хорошо а тут уже получаеться книга в книге но в целом очень даже не плохо интересно',\n",
       "       'всякое истинное путешествие всегда возвращение урсула ле гуин обездоленный варан многогранный роман и по богатству описываемого мира и по спектру охваченных проблем не сразу замечаешь что основа его авантюрный детектив в чистом виде внимание читателя смещено с сюжетной канвы политический заговор и дворцовый переворот и акцентировано на реалиях описываемого мира детализация это чрезвычайно сильная сторона авторов и они выгодно ее используют действительно роман стоит прочитать хотя бы ради того чтобы увидеть сезон описания авторов предельно зримы так сюжет становится лишь вспомогательным инструментом для раскрытия мира пружиной запускающей винт романа заставляющей героев действовать к сожалению эта внешняя движущая сила играет с романом злую шутку первая часть живо бытописует нам уникальный мир поддонков и горни щедрого сезона и скудного межсезонья рисуемая картина отличается не только точностью штрихов но и масштабностью полотна в целом любой другой автор стань он творцом круглого клыка небольшого острова на котором и разворачивается действие первой части романа был бы вполне удовлетворен однако марина и сергей дяченко не останавливаются на достигнутом они отправляют героя на континент где его ждут и заклятая земля степи одухотворенная или быть может пожирающая души и лесной удел оплот мятежных сыновей шуу и совсем уж мифическая страна стеклянных деревьев мир приобретает воистину грандиозный размах кажется нет ни одного места где не побывал бы главный герой романа варан и все равно истории рассказанные у заветного очага в счастливом доме обещают большее зовут за новые горизонты что же гонит поддонка варана по бесконечной дороге прочь от родного острова семьи и любимой девушки возможно врожденная тяга к странствиям судьба по имени бродячая искра человек которого непременно нужно найти тот кто знает ответ на вопрос зачем приходят в этот мир маги или все таки сложные дворцовые интриги в которые так некстати впутывается ученик винтового трижды слышит варан зов к странствиям когда решает уйти вместе с плотовщиками от побоев спившегося отца когда скрывается от мести старосты когда бежит наконец от самого императора все это внешние обстоятельства а правда ли хотел варан такого долгого своего путешествия путешествия длиною в жизнь и маг лереаларуун сполох на пути бродячей искры бросил зерно в благодатную почву не случайно путь варана прерывист герой не кажется одержимым он осел было в озерном краю вырванный волей власть имущих в столицу почти нашел счастье там и если бы не пружина туго скрученная императорским магом не утратившая движущей силы и после смерти авантюриста и заговорщика кто знает как сложилась бы судьба винтового если начало романа обстоятельно и подробно то конец сумбурен лихорадочная поспешность описаний лихорадочная поспешность в пути жизнь варана подходит к концу а цель обманчиво близка вслед за главным героем марина и сергей дяченко гонятся за ускользающим смыслом жизни и хотя варану так и не удастся нагнать бродячую искру авторы кажется сумели нащупать ответ хотя бы к одному из заветных вопросов зачем приходят в этот мир маги не для того ли чтоб принести с собой то чего так страстно жаждал и не мог обрести человек еще до их рождения сложивший очаг в их родном доме чудо надежду и любовь',\n",
       "       'после серии про ведьму мне не понравилось интересный мир своеобразный но книга абсолютно не захватила юмор проскальзывает но не везде удачный возможно если заставлю себя перечитать проникнусь идеей но пока нет',\n",
       "       'я конечно могу ошибаться но основное произведение это всетаки американский психопат тяжелые книги',\n",
       "       'тем кому понравился роман мастер и маргарита будет интересно прочитать эту вещь местами бывает немного нудной но в целом я узнала много интересного о любимом романе советую почитать для расширения кругозора',\n",
       "       'в веке редко стараются делать вещи добросовестно и надолго мало кто станет вязать свитер который легко продержится лет если через сезон он просто выйдет из моды людмила улицкая позволила себе заставила себя работать над этим романом лет ровно столько прошло с года когда в ее доме появился восхитивший писательницу прототип главного героя брат даниэль освальд руфайзен книга о нем точнее о его жизни во время второй мировой войны о спасении руфайзеном трехста евреев из мирского гетто уже была написана до улицкой людмила евгеньевна стала ее переводчиком но почувствовала по ее словам что написан роман не до конца и она продолжила рассказ о жизни брата даниэля уже после войны это роман в письмах объявлениях отрывках из дневников его главный герой дожил до года есть и о его работе переводчиком в гестапо в военной белоруссии и о том как он стал монахом кармелитского ордена в палестине да много о чем трудностях христианской общины в израиле сложных людских судьбах но главное о милосердии даниэля его терпимости и помощи окружающим конечно не все согласятся с тем что стоит одинаково относиться к людям любой религиозной конфессии и с тем что в любом конфликте правы обычно обе стороны каждая по своему на пресс конференции автор благодарила издательство за то что удалось сделать этой книге настолько некоммерческую обложку так что книга не захватывающая и не модная книга для того чтобы спокойно подумать о главном и может быть даже перечитать',\n",
       "       'средненькая боевая фантастика но за неимением альтернативы можно почитать правда аннотация как это часто бывает совершенно не соответствует содержанию книги',\n",
       "       'простая и незатейливая история с понятным началом и предсказуемым концом настолько чтобы захотелось начать листать страницы',\n",
       "       'литературный групповой портрет черты центральной фигуры особенно отчетливо показаны в отношениях с людьми выписанными вокруг нее качественная детально прорисованная картина старой школы',\n",
       "       'неплохое чтиво чтобы скоротать время жарким летним днем на скучной работе манящая мистика интернет лабиринты почитайте если будет свободная минутка и вам интересно о чем пишут молодые',\n",
       "       'в отличие от гения места карта непростое произведение в основном потому что о россии и о нас сегодня а может и из за позиции автора вроде со стороны а вроде и изнутри да и вообще это более личная книга где автор больше разбирается со своим отношением к стране к истории в т ч своей семьи другой жанр другие задачи другой способ чтения наверное все плюсы автора на месте язык точность наблюдательность юмор и ирония эрудиция но есть ощущение что материал не поддается некоторые главы относятся к серидине х и вдруг замечаешь что многое изменилось чечнские главы относятся к первой чеченской а сколько всего страшного было после или дальневосточные главы того же периода короче автор рискнул но действительность поддалась не целиком зато кажутся особенно удачными сибирские главы рижские и отступения удачны и интересны и обобщения не сиюминутные автор и сам понимал что не все складно вышло понадобилось предисловие и особенно заключение объясняющее об уважении и любви к родине видимо о россии какая она есть сейчас или вообще написать в жанре путевых заметок почти невозможно',\n",
       "       'безусловно роман в духе гюстава флобера в том смысле что нет никаких отступов от шаблона на любителя у меня роман заслужил золотую середину',\n",
       "       'узнала кой чего нового но ничего ужасного или шокирующего не увидела всякое случается мне понравилось ярко',\n",
       "       'лунный камень того же коллинза надо признать в тысячу раз понравился больше наверное даже по старой памяти в основном поставила баллов вообщем действительно нормально единственное местами затянуто и нудновато но в конце концов и описываемая эпоха была более размеренна чем наше стремительное время',\n",
       "       'это полуфантастическая книга в ней автор ставит кучу загадок по ходу развития сюжета усиливает напряжение всему миру грозит опасность но ба бах и книга обрывается конец ни одной загадки не решено что за подземные люди что за черепа при чем тут единороги как связаны два сюжета книги что стало с тенью что будет с миром на это нет ответа книжка просто обрывается конечно можно сказать что это ход автора но мне кажется он просто не смог придумать достойный финал типа думайте сами либо мир будет уничтожен либо выживет как вам нравится а я пока пойду напишу новый роман',\n",
       "       'после театра еле проглотила причем эти два романа всегда продаются вместе это можно сравнить с тем как в советские времена давали кости в довесок',\n",
       "       'лучшая книга которую я читал из этого цикла начало правда серенькое но когда дело доходит до индейцев в особенности понравилась глава шекспировские страсти',\n",
       "       'книга странная обо всем и о не о чем одна из тех книг о которых я никогда не смогу сказать понравилась она мне или нет но что не забуду это а это уже огромный плюс согласна с что она пропахла бензином потом и перегаром а еще хорошо пойдет эта книга тем кто хоть раз ездил куда то автостопом',\n",
       "       'по сравнению с предыдущими произведениями гораздо слабее хотя динамика событий осталась но сама идея и ее воплощение очень жаль',\n",
       "       'меня заинтерисовал один вопрос автора если бы описанное в книге про кровь христову было правдой и были бы доказательства этой правды то при каких условиях стоило бы предъявлять последние миру',\n",
       "       'если вы девушка и вам хочется вдоволь поплакать эта книга для вас',\n",
       "       'согласен книга тяжелая да и возрастной ценз тоже не помешает но все же она достойна прочтения главное через вую часть пробиться',\n",
       "       'у макиавелли явно был талант драматурга пришло же ему в голову потрудиться и написать такую простенькую сказочку пьеску а как мило и забавно и все на своем месте',\n",
       "       'все о реликвиях христианства для тех кто не сильно в этом разбирается книга поможет расширить кругозор',\n",
       "       'блин жесткая вещица одновременно и жалко главного героя и потрясает его брутальность',\n",
       "       'долго въезжала в главного героя не скажу чтоб не понравилось просто как то очень жестко видно что мужчина писал к ольге претензий нет как всегда легкое и захватывающее чтение',\n",
       "       'книга необычная с одной стороны страшная с другой ужасно захватывающая и интересная любителям мистики советую почитать',\n",
       "       'книгу друг подарил на день рожденье прочиталось легко и оставила хорошее впечатление потом ее литературная ценность немного в моих глазах упала но все равно рекомендую',\n",
       "       'не знаю сейчас читаю первую книгу трилогии но не могу сказать что это лучшее из того что я когда либо читала',\n",
       "       'очень интересно хороши паралели с существующими политическими режимами комунизмом в частности заставляет задуматься причем не только о режиме но и о том чем плохие отличаются от хороших',\n",
       "       'книга интересна своим подходом и тем что многие вещи о которых говорится в ней близки практически каждому человеку каждый хоть раз задумывался о чем то подобном',\n",
       "       'неплохая книга единственный недостаток много неточностей в истории и в событиях',\n",
       "       'лет не могу продвинуться дальше страницы не читается и все хочу прочитать беру книгу и опять может сейчас прочитав хорошие отзывы опять попробовать прочитала наконец то недели мучала в чем то интересно но слог сложный но это хорошо когда не мчишься сквозь текст а читаешь вдумчиво хотя и спотыкаясь произведение можно растащить на цитаты очень много разговоров монологов философствований книга трудная для сегодняшнего восприятия так как совсем не проста над ней думать надо',\n",
       "       'нормальный детективчик подходит для тех людей которые не хотят лишний раз напрягать мозги а желают просто расслабиться читая ненавязчивое лёгкое и ироничное произведение',\n",
       "       'психоз бессоница кулаки кровища раздвоение личности смерть вкратце таков сюжет книги ни сюжет ни словесные изыски коих и не наблюдается в принципе не представляют никакого интереса книгу стоит рассматривать только в разрезе проблемы жестокости откуда она взялась как развивается как укореняется в сознании и становится рычагом управления пожалуй всё',\n",
       "       'м да вечный борец за справдливость каких и сегодня не мало и такой же вечный неудачник даже собственный единомышленник умудряется извлечь выгоду',\n",
       "       'если вы равнодушны к мату любите самобытность и относитесь критично к москве то этот рассказик для вас',\n",
       "       'кажется у книги есть другое название люди которые играют в игры',\n",
       "       'читается за одну ночь но жутко как то после прочтения',\n",
       "       'дневник мужчины который просто живет',\n",
       "       'магическая школа со времен поттера успела набить оскомину но у коша она в общем даже ничего сюжет тоже нормальненький на мой взгляд несколько неравномерно начало бездейственное конец перегружен язык и правда средненький такой вы на страничку автора загляните это многое объясняет но в целом читать можно легко и местами увлекательно',\n",
       "       'читал в возресте лет после прочтения этой книги не люблю кукол и манекены бррр',\n",
       "       'хорошая фантастика особенно для подросткового возраста от до хотя я прочел с удовольствием и в',\n",
       "       'ну прочесть можно и впринципе занимательно но лучше не читать если уже читали ломачинского андрея курьезы военной медицины и экспертизы будет выглядеть блекло вобщем сначала читаем веллера байки скорой помощи а потом читаем ломачинского и чувствуем огромную разницу',\n",
       "       'супер я за месяц похудела и подкочала все мышцы советую',\n",
       "       'чистой воды стеб и совсем коротко но настроение поднимает',\n",
       "       'очень милая история', 'тяжелая вещь',\n",
       "       'чувство описанное в книге я не могу назвать любовью тем не менее хэппи энд порадовал',\n",
       "       'я бы лучше за реквием по живущему проголосовала отличный роман',\n",
       "       'интересно но как то слабее остальных',\n",
       "       'любителям глобальной космической научной фантастики явидел перевода и ни одного хорошего хотя в книге что то есть',\n",
       "       'очень неплохо эта книга у автора получилась хуже чем огненный факультет где сюжет более динамичный и логичный',\n",
       "       'после блестящего дебюта сериала про джерона новая книжка выглядит бледновато сам прочитал с удовольствием но у себя не оставил перечитывать и покупать продолжения буду вряд ли',\n",
       "       'ну что сказать все что и всегда у улицкой ничего особенного',\n",
       "       'стиль изложения настроение мало документов много возвышенности слишком вдохновенно и романтизировано почти сказочно подобное может неблагоприятно сказаться на доверии к мнению автора ряда искушенных читателей и может быть благодаря этому же читается на удивление легко и быстро если книжка направлена вдохновить подрастающее поколение стилистика оправдана прочитать стоит если кто только начал интересоваться достоверными событиями жизни григория ефимовича',\n",
       "       'на мой взгляд интересный и лёгкий иронический детектив прочитала буквально на одном дыхании хотя через некоторое время напрочь забылся сюжет произведения',\n",
       "       'читала помнится с трудом как переживала за бедную героиню не могла понять как это она влюбилась в психа была заворожена ярким и чувственным описанием сцены бурного выплеска эмоций под фортепианную музыку психиатрического дома',\n",
       "       'после ночного дозора ставшего для меня одной из самых любимых книг вторая книга серии идет намного хуже',\n",
       "       'место книги на полках в разделе психология рядом с как общаться с ребенком ю б гиппенрайтер супербабушки это как предложение на сайтах с этим товаром часто покупают особенно для тех кто еще не понял что такое хорошо а что такое плохо',\n",
       "       'вполне так очень интимно и уютно просто выключи свет ляг спать в любимом месте можно и на кухне а пока не заснул вдохни родные запахи ощути то что делает пространство родным и дорогим',\n",
       "       'это произведение стала читать прочитав отзывы читателей на этом сайте и на других в своё время меня потряс коллекционер волхва читала с трудом и все ждала когда меня страшно захватит станет интересно и т п ничего подобного не произошло до последних страниц давно я не читала одну книгу целый месяц постоянно вспоминалась книга люди которые играют в игры следить за манипуляциями героев ужасно надоело делать выводы из того кто чего кому сказал и как может обернуться дальше ничего захватывающего для меня в этом нет но я поняла что то что мне не понравилась книга это ничего не значит это мое восприятие а восприятие предыдущих комментаторов прямо противоположное просто люди разные и каждый имеет право на свое мнение и свой вкус кто то любит ананас а кто то свинной хрящик',\n",
       "       'добрая сказка даже немного туповато доступно для ограниченных и ленивых одним словом',\n",
       "       'интересная книга жаль только что герой глупо ждал столько времени',\n",
       "       'конечно у стивена кинга есть более достойные произведения но не стоит все же забывать о том что бесплодные земли не начало и не финал а серединка предыдущие части темной башни куда выразительнее',\n",
       "       'на самом деле там очень много всего вмещается от кухни до гостинной в этой книжеце много интересных фактов очень разнообразных но и как то очень удачно друг к другу подобранных текст хорош как всегда у этих авторов',\n",
       "       'просто хорошая книга для неторопливого чтения единственное есть один недостаток это сон обломова по моему очень нудно',\n",
       "       'читать можно но бумажный вариант не куплю электронного вполне хватит',\n",
       "       'мне очень понравилось такое со смыслом'], dtype=object)"
      ]
     },
     "execution_count": 27,
     "metadata": {},
     "output_type": "execute_result"
    }
   ],
   "source": [
    "books_train[books_train.y_train == 7].X_train.values"
   ]
  },
  {
   "cell_type": "markdown",
   "metadata": {},
   "source": [
    "### Positive / Negative"
   ]
  },
  {
   "cell_type": "code",
   "execution_count": 15,
   "metadata": {
    "collapsed": true
   },
   "outputs": [],
   "source": [
    "def get_polarity(x):\n",
    "    return 1 if x>6 else -1"
   ]
  },
  {
   "cell_type": "code",
   "execution_count": 10,
   "metadata": {
    "collapsed": true,
    "scrolled": true
   },
   "outputs": [],
   "source": [
    "books_train['polarity'] = books_train.y_train.apply(lambda x: get_polarity(x))"
   ]
  },
  {
   "cell_type": "code",
   "execution_count": 12,
   "metadata": {},
   "outputs": [
    {
     "data": {
      "text/html": [
       "<div>\n",
       "<style>\n",
       "    .dataframe thead tr:only-child th {\n",
       "        text-align: right;\n",
       "    }\n",
       "\n",
       "    .dataframe thead th {\n",
       "        text-align: left;\n",
       "    }\n",
       "\n",
       "    .dataframe tbody tr th {\n",
       "        vertical-align: top;\n",
       "    }\n",
       "</style>\n",
       "<table border=\"1\" class=\"dataframe\">\n",
       "  <thead>\n",
       "    <tr style=\"text-align: right;\">\n",
       "      <th></th>\n",
       "      <th>lemmatized</th>\n",
       "      <th>X_train</th>\n",
       "      <th>y_train</th>\n",
       "      <th>polarity</th>\n",
       "    </tr>\n",
       "  </thead>\n",
       "  <tbody>\n",
       "    <tr>\n",
       "      <th>0</th>\n",
       "      <td>отличный пример боев фантастика нет такой пере...</td>\n",
       "      <td>отличный пример боевой фантастики нет таких пе...</td>\n",
       "      <td>9</td>\n",
       "      <td>1</td>\n",
       "    </tr>\n",
       "    <tr>\n",
       "      <th>1</th>\n",
       "      <td>читать данный произведение в журнальный вариан...</td>\n",
       "      <td>читала данное произведение в журнальном вариан...</td>\n",
       "      <td>10</td>\n",
       "      <td>1</td>\n",
       "    </tr>\n",
       "    <tr>\n",
       "      <th>2</th>\n",
       "      <td>если бы я прочитать этот книга в начало го век...</td>\n",
       "      <td>если бы я прочитал эту книгу в начале го века ...</td>\n",
       "      <td>6</td>\n",
       "      <td>-1</td>\n",
       "    </tr>\n",
       "    <tr>\n",
       "      <th>3</th>\n",
       "      <td>я книга очень понравиться заставить глубокий п...</td>\n",
       "      <td>мне книга очень понравилась заставила глубже п...</td>\n",
       "      <td>10</td>\n",
       "      <td>1</td>\n",
       "    </tr>\n",
       "    <tr>\n",
       "      <th>4</th>\n",
       "      <td>очень хотеть полюбить</td>\n",
       "      <td>очень хочу полюбить</td>\n",
       "      <td>10</td>\n",
       "      <td>1</td>\n",
       "    </tr>\n",
       "  </tbody>\n",
       "</table>\n",
       "</div>"
      ],
      "text/plain": [
       "                                          lemmatized  \\\n",
       "0  отличный пример боев фантастика нет такой пере...   \n",
       "1  читать данный произведение в журнальный вариан...   \n",
       "2  если бы я прочитать этот книга в начало го век...   \n",
       "3  я книга очень понравиться заставить глубокий п...   \n",
       "4                              очень хотеть полюбить   \n",
       "\n",
       "                                             X_train  y_train  polarity  \n",
       "0  отличный пример боевой фантастики нет таких пе...        9         1  \n",
       "1  читала данное произведение в журнальном вариан...       10         1  \n",
       "2  если бы я прочитал эту книгу в начале го века ...        6        -1  \n",
       "3  мне книга очень понравилась заставила глубже п...       10         1  \n",
       "4                                очень хочу полюбить       10         1  "
      ]
     },
     "execution_count": 12,
     "metadata": {},
     "output_type": "execute_result"
    }
   ],
   "source": [
    "books_train.head()"
   ]
  },
  {
   "cell_type": "code",
   "execution_count": 13,
   "metadata": {
    "collapsed": true
   },
   "outputs": [],
   "source": [
    "books_test['polarity'] = books_test.y_test.apply(lambda x: get_polarity(x))"
   ]
  },
  {
   "cell_type": "code",
   "execution_count": 82,
   "metadata": {},
   "outputs": [
    {
     "ename": "TypeError",
     "evalue": "cannot convert the series to <class 'int'>",
     "output_type": "error",
     "traceback": [
      "\u001b[1;31m---------------------------------------------------------------------------\u001b[0m",
      "\u001b[1;31mTypeError\u001b[0m                                 Traceback (most recent call last)",
      "\u001b[1;32m<ipython-input-82-55f3ac40e208>\u001b[0m in \u001b[0;36m<module>\u001b[1;34m()\u001b[0m\n\u001b[1;32m----> 1\u001b[1;33m \u001b[0mint\u001b[0m\u001b[1;33m(\u001b[0m\u001b[0my_train_books\u001b[0m\u001b[1;33m.\u001b[0m\u001b[0mhead\u001b[0m\u001b[1;33m(\u001b[0m\u001b[1;33m)\u001b[0m\u001b[1;33m)\u001b[0m\u001b[1;33m\u001b[0m\u001b[0m\n\u001b[0m",
      "\u001b[1;32mC:\\Program Files\\Anaconda3\\envs\\mllecture\\lib\\site-packages\\pandas\\core\\series.py\u001b[0m in \u001b[0;36mwrapper\u001b[1;34m(self)\u001b[0m\n\u001b[0;32m     95\u001b[0m             \u001b[1;32mreturn\u001b[0m \u001b[0mconverter\u001b[0m\u001b[1;33m(\u001b[0m\u001b[0mself\u001b[0m\u001b[1;33m.\u001b[0m\u001b[0miloc\u001b[0m\u001b[1;33m[\u001b[0m\u001b[1;36m0\u001b[0m\u001b[1;33m]\u001b[0m\u001b[1;33m)\u001b[0m\u001b[1;33m\u001b[0m\u001b[0m\n\u001b[0;32m     96\u001b[0m         raise TypeError(\"cannot convert the series to \"\n\u001b[1;32m---> 97\u001b[1;33m                         \"{0}\".format(str(converter)))\n\u001b[0m\u001b[0;32m     98\u001b[0m \u001b[1;33m\u001b[0m\u001b[0m\n\u001b[0;32m     99\u001b[0m     \u001b[1;32mreturn\u001b[0m \u001b[0mwrapper\u001b[0m\u001b[1;33m\u001b[0m\u001b[0m\n",
      "\u001b[1;31mTypeError\u001b[0m: cannot convert the series to <class 'int'>"
     ]
    }
   ],
   "source": [
    "y_train_books_int = []"
   ]
  },
  {
   "cell_type": "code",
   "execution_count": 84,
   "metadata": {},
   "outputs": [
    {
     "data": {
      "text/plain": [
       "Pipeline(steps=[('vect', CountVectorizer(analyzer='word', binary=True, decode_error='strict',\n",
       "        dtype=<class 'numpy.int64'>, encoding='utf-8', input='content',\n",
       "        lowercase=True, max_df=1.0, max_features=None, min_df=1,\n",
       "        ngram_range=(1, 3), preprocessor=None,\n",
       "        stop_words=['а', 'в', '...ax_iter=1000,\n",
       "     multi_class='ovr', penalty='l2', random_state=None, tol=0.0001,\n",
       "     verbose=0))])"
      ]
     },
     "execution_count": 84,
     "metadata": {},
     "output_type": "execute_result"
    }
   ],
   "source": [
    "clf2 = Pipeline([\n",
    "    ('vect', CountVectorizer(stop_words = stopwords, analyzer = 'word', ngram_range = (1,3), binary = True)),\n",
    "    #('tfidf', TfidfTransformer()),\n",
    "    #('svd', TruncatedSVD(n_components = 150)),\n",
    "    #('norm', Normalizer() ),\n",
    "    ('clf', LinearSVC()),\n",
    "])\n",
    "\n",
    "\n",
    "clf2.fit(X_train_books.values.astype('U'), y_train_books.values)#обучение модели на обучающей выборке"
   ]
  },
  {
   "cell_type": "code",
   "execution_count": 85,
   "metadata": {
    "collapsed": true
   },
   "outputs": [],
   "source": [
    "y_predict_2 = clf2.predict(X_test_books.values.astype('U'))"
   ]
  },
  {
   "cell_type": "code",
   "execution_count": 90,
   "metadata": {},
   "outputs": [
    {
     "name": "stdout",
     "output_type": "stream",
     "text": [
      "             precision    recall  f1-score   support\n",
      "\n",
      "       -1.0       0.11      0.52      0.18       489\n",
      "        1.0       0.89      0.47      0.62      3970\n",
      "\n",
      "avg / total       0.80      0.48      0.57      4459\n",
      "\n"
     ]
    },
    {
     "data": {
      "image/png": "[encoded data removed]",
      "text/plain": [
       "<matplotlib.figure.Figure at 0xb956908>"
      ]
     },
     "metadata": {},
     "output_type": "display_data"
    }
   ],
   "source": [
    "labels = list(set(y_test_books.values))\n",
    "print(classification_report(y_test_books, y_predict_2))\n",
    "sns.heatmap(data=confusion_matrix(y_test_books, y_predict_2, labels = labels), \n",
    "            annot=True, fmt=\"d\", cbar=False, xticklabels=['positive', 'negative'], \n",
    "                                             yticklabels=['positive', 'negative'])\n",
    "plt.title(\"Confusion matrix\")\n",
    "plt.show()"
   ]
  },
  {
   "cell_type": "markdown",
   "metadata": {},
   "source": [
    "### Positive / Negative / Neutral"
   ]
  },
  {
   "cell_type": "code",
   "execution_count": 17,
   "metadata": {
    "collapsed": true
   },
   "outputs": [],
   "source": [
    "def get_3_class(x):\n",
    "    if x<6:\n",
    "        polarity = -1\n",
    "    elif x<8:\n",
    "        polarity = 0\n",
    "    else:\n",
    "        polarity = 1\n",
    "    return polarity"
   ]
  },
  {
   "cell_type": "code",
   "execution_count": 18,
   "metadata": {
    "collapsed": true
   },
   "outputs": [],
   "source": [
    "books_train['pos_neg_neut'] = books_train.y_train.apply(lambda x: get_3_class(x))"
   ]
  },
  {
   "cell_type": "code",
   "execution_count": 19,
   "metadata": {
    "collapsed": true
   },
   "outputs": [],
   "source": [
    "books_test['pos_neg_neut'] = books_test.y_test.apply(lambda x: get_3_class(x))"
   ]
  },
  {
   "cell_type": "code",
   "execution_count": 20,
   "metadata": {},
   "outputs": [
    {
     "data": {
      "text/plain": [
       "Pipeline(steps=[('vect', CountVectorizer(analyzer='word', binary=True, decode_error='strict',\n",
       "        dtype=<class 'numpy.int64'>, encoding='utf-8', input='content',\n",
       "        lowercase=True, max_df=1.0, max_features=None, min_df=1,\n",
       "        ngram_range=(1, 3), preprocessor=None,\n",
       "        stop_words=['а', 'в', '...ax_iter=1000,\n",
       "     multi_class='ovr', penalty='l2', random_state=None, tol=0.0001,\n",
       "     verbose=0))])"
      ]
     },
     "execution_count": 20,
     "metadata": {},
     "output_type": "execute_result"
    }
   ],
   "source": [
    "clf3 = Pipeline([\n",
    "    ('vect', CountVectorizer(stop_words = stopwords, analyzer = 'word', ngram_range = (1,3), binary = True)),\n",
    "    ('tfidf', TfidfTransformer()),\n",
    "    #('svd', TruncatedSVD(n_components = 150)),\n",
    "    #('norm', Normalizer() ),\n",
    "    ('clf', LinearSVC()),\n",
    "])\n",
    "\n",
    "\n",
    "clf3.fit(books_train.X_train, books_train.pos_neg_neut)#обучение модели на обучающей выборке"
   ]
  },
  {
   "cell_type": "code",
   "execution_count": 21,
   "metadata": {
    "collapsed": true
   },
   "outputs": [],
   "source": [
    "y_predict_3 = clf3.predict(books_test.X_test.values.astype('U'))"
   ]
  },
  {
   "cell_type": "code",
   "execution_count": 22,
   "metadata": {},
   "outputs": [
    {
     "name": "stdout",
     "output_type": "stream",
     "text": [
      "             precision    recall  f1-score   support\n",
      "\n",
      "         -1       0.70      0.24      0.35       632\n",
      "          0       0.41      0.04      0.07       309\n",
      "          1       0.72      0.98      0.83      1953\n",
      "\n",
      "avg / total       0.68      0.72      0.64      2894\n",
      "\n"
     ]
    },
    {
     "data": {
      "image/png": "[encoded data removed]",
      "text/plain": [
       "<matplotlib.figure.Figure at 0x8ad3400>"
      ]
     },
     "metadata": {},
     "output_type": "display_data"
    }
   ],
   "source": [
    "labels = list(set(books_test.pos_neg_neut))\n",
    "print(classification_report(books_test.pos_neg_neut, y_predict_3))\n",
    "sns.heatmap(data=confusion_matrix(books_test.pos_neg_neut, y_predict_3, labels = labels), \n",
    "            annot=True, fmt=\"d\", cbar=False, xticklabels=['neutral', 'positive', 'negative'], \n",
    "                                                yticklabels=['neutral', 'positive', 'negative'])\n",
    "plt.title(\"Confusion matrix\")\n",
    "plt.show()"
   ]
  },
  {
   "cell_type": "markdown",
   "metadata": {},
   "source": [
    "### Delta TFIDF"
   ]
  },
  {
   "attachments": {
    "image.png": {
     "image/png": "[encoded data removed]"
    }
   },
   "cell_type": "markdown",
   "metadata": {},
   "source": [
    "![image.png](attachment:image.png)"
   ]
  },
  {
   "cell_type": "markdown",
   "metadata": {},
   "source": [
    "* V(t,d) — вес слова t в документе d\n",
    "* С(t,d) — кол-во вхождений слова t в документ d\n",
    "* |P| — кол-во документов с положительной тональностью\n",
    "* |N| — кол-во документов с отрицательной тональностью\n",
    "* Pt — кол-во положительных документов, в которые входит слово t\n",
    "* Nt — кол-во отрицательных документов, в которые входит слово t"
   ]
  },
  {
   "cell_type": "code",
   "execution_count": 92,
   "metadata": {
    "collapsed": true
   },
   "outputs": [],
   "source": [
    "from sklearn_deltatfidf import DeltaTfidfVectorizer"
   ]
  },
  {
   "cell_type": "code",
   "execution_count": 84,
   "metadata": {},
   "outputs": [
    {
     "data": {
      "text/plain": [
       "<4x4 sparse matrix of type '<class 'numpy.float64'>'\n",
       "\twith 6 stored elements in Compressed Sparse Row format>"
      ]
     },
     "execution_count": 84,
     "metadata": {},
     "output_type": "execute_result"
    }
   ],
   "source": [
    "\"\"\"v = DeltaTfidfVectorizer()\n",
    "data = ['word1 word2', 'word2', 'word2 word3', 'word4']\n",
    "labels = [1, -1, -1, 1]\n",
    "v.fit_transform(data, labels)\"\"\""
   ]
  },
  {
   "cell_type": "code",
   "execution_count": 86,
   "metadata": {},
   "outputs": [
    {
     "data": {
      "text/plain": [
       "<6736x18199 sparse matrix of type '<class 'numpy.float64'>'\n",
       "\twith 167273 stored elements in Compressed Sparse Row format>"
      ]
     },
     "execution_count": 86,
     "metadata": {},
     "output_type": "execute_result"
    }
   ],
   "source": [
    "v = DeltaTfidfVectorizer()\n",
    "v.fit_transform(list(books_train.lemmatized.values), list(books_train.polarity.values))"
   ]
  },
  {
   "cell_type": "code",
   "execution_count": 93,
   "metadata": {},
   "outputs": [
    {
     "data": {
      "text/plain": [
       "Pipeline(steps=[('vect', DeltaTfidfVectorizer(analyzer='word', binary=False, decode_error='strict',\n",
       "           dtype=<class 'numpy.int64'>, encoding='utf-8', input='content',\n",
       "           lowercase=True, max_df=1.0, max_features=None, min_df=1,\n",
       "           ngram_range=(1, 1), norm='l2', preprocessor=None,\n",
       "     ...ax_iter=1000,\n",
       "     multi_class='ovr', penalty='l2', random_state=None, tol=0.0001,\n",
       "     verbose=0))])"
      ]
     },
     "execution_count": 93,
     "metadata": {},
     "output_type": "execute_result"
    }
   ],
   "source": [
    "clf4 = Pipeline([\n",
    "      ('vect', DeltaTfidfVectorizer()),\n",
    "      ('clf', LinearSVC())\n",
    "  ])\n",
    "clf4.fit(list(X_train_books.values.astype('U')), list(y_train_books.values))"
   ]
  },
  {
   "cell_type": "code",
   "execution_count": 94,
   "metadata": {},
   "outputs": [
    {
     "data": {
      "text/plain": [
       "Pipeline(steps=[('vect', DeltaTfidfVectorizer(analyzer='word', binary=False, decode_error='strict',\n",
       "           dtype=<class 'numpy.int64'>, encoding='utf-8', input='content',\n",
       "           lowercase=True, max_df=1.0, max_features=None, min_df=1,\n",
       "           ngram_range=(1, 3), norm='l2', preprocessor=None,\n",
       "     ...ax_iter=1000,\n",
       "     multi_class='ovr', penalty='l2', random_state=None, tol=0.0001,\n",
       "     verbose=0))])"
      ]
     },
     "execution_count": 94,
     "metadata": {},
     "output_type": "execute_result"
    }
   ],
   "source": [
    "clf4 = Pipeline([\n",
    "      ('vect', DeltaTfidfVectorizer(stop_words = stopwords, analyzer = 'word', ngram_range = (1,3))),\n",
    "      ('clf', LinearSVC())\n",
    "  ])\n",
    "clf4.fit(list(X_train_books.values.astype('U')), list(y_train_books.values))"
   ]
  },
  {
   "cell_type": "code",
   "execution_count": 95,
   "metadata": {
    "collapsed": true
   },
   "outputs": [],
   "source": [
    "y_predict_4 = clf4.predict(X_test_books.values.astype('U'))"
   ]
  },
  {
   "cell_type": "code",
   "execution_count": 96,
   "metadata": {},
   "outputs": [
    {
     "name": "stdout",
     "output_type": "stream",
     "text": [
      "             precision    recall  f1-score   support\n",
      "\n",
      "       -1.0       0.11      0.07      0.08       489\n",
      "        1.0       0.89      0.93      0.91      3970\n",
      "\n",
      "avg / total       0.80      0.84      0.82      4459\n",
      "\n"
     ]
    },
    {
     "data": {
      "image/png": "[encoded data removed]",
      "text/plain": [
       "<matplotlib.figure.Figure at 0xc22ae48>"
      ]
     },
     "metadata": {},
     "output_type": "display_data"
    }
   ],
   "source": [
    "labels = list(set(y_test_books))\n",
    "print(classification_report(y_test_books, y_predict_4))\n",
    "sns.heatmap(data=confusion_matrix(y_test_books, y_predict_4, labels = labels), \n",
    "            annot=True, fmt=\"d\", cbar=False, xticklabels=['positive', 'negative'], \n",
    "                                                yticklabels=['positive', 'negative'])\n",
    "plt.title(\"Confusion matrix\")\n",
    "plt.show()"
   ]
  },
  {
   "cell_type": "markdown",
   "metadata": {},
   "source": [
    "### Classifier with lexicon"
   ]
  },
  {
   "cell_type": "code",
   "execution_count": 97,
   "metadata": {
    "collapsed": true
   },
   "outputs": [],
   "source": [
    "books_rand = pd.read_csv('C:/Users/Анна/Dropbox/ML_sent/random_walk_eval/random_walk_values.csv', index_col=0)"
   ]
  },
  {
   "cell_type": "code",
   "execution_count": 98,
   "metadata": {
    "collapsed": true
   },
   "outputs": [],
   "source": [
    "sent_high = books_rand[books_rand['values'] > 0.8]"
   ]
  },
  {
   "cell_type": "code",
   "execution_count": 99,
   "metadata": {
    "collapsed": true
   },
   "outputs": [],
   "source": [
    "sent_words = list(set(sent_high['keys'].values))"
   ]
  },
  {
   "cell_type": "code",
   "execution_count": 100,
   "metadata": {},
   "outputs": [
    {
     "data": {
      "text/plain": [
       "['очерк',\n",
       " 'поэма',\n",
       " 'мор',\n",
       " 'приходить',\n",
       " 'несчастие',\n",
       " 'ошибочный',\n",
       " 'трагедия',\n",
       " 'огненный',\n",
       " 'тяжеловатый',\n",
       " 'нудный',\n",
       " 'дронов',\n",
       " 'скоротать',\n",
       " 'состояние',\n",
       " 'счастливый',\n",
       " 'словечко',\n",
       " 'отсутствовать',\n",
       " 'терять',\n",
       " 'невкусно',\n",
       " 'хрипло',\n",
       " 'спина']"
      ]
     },
     "execution_count": 100,
     "metadata": {},
     "output_type": "execute_result"
    }
   ],
   "source": [
    "sent_words[:20]"
   ]
  },
  {
   "cell_type": "code",
   "execution_count": 101,
   "metadata": {},
   "outputs": [
    {
     "data": {
      "text/plain": [
       "250"
      ]
     },
     "execution_count": 101,
     "metadata": {},
     "output_type": "execute_result"
    }
   ],
   "source": [
    "word_to_index = {word: index for index, word in enumerate(sent_words)}\n",
    "len(word_to_index)"
   ]
  },
  {
   "cell_type": "code",
   "execution_count": 102,
   "metadata": {
    "collapsed": true
   },
   "outputs": [],
   "source": [
    "def encode_text(text, word_dictionary):\n",
    "    onehot_vec = np.zeros((len(word_dictionary)))\n",
    "    for w, index in word_dictionary.items():\n",
    "        if w in text:\n",
    "            onehot_vec[index] = 1\n",
    "    return onehot_vec\n",
    "            \n",
    "        "
   ]
  },
  {
   "cell_type": "code",
   "execution_count": 50,
   "metadata": {},
   "outputs": [
    {
     "data": {
      "text/plain": [
       "False"
      ]
     },
     "execution_count": 50,
     "metadata": {},
     "output_type": "execute_result"
    }
   ],
   "source": [
    "'ура' in sent_words"
   ]
  },
  {
   "cell_type": "code",
   "execution_count": 112,
   "metadata": {
    "scrolled": true
   },
   "outputs": [
    {
     "data": {
      "text/plain": [
       "array([ 0.,  0.,  0.,  0.,  0.,  0.,  0.,  0.,  0.,  0.,  0.,  0.,  0.,\n",
       "        0.,  0.,  0.,  0.,  0.,  0.,  0.,  0.,  0.,  0.,  0.,  0.,  0.,\n",
       "        0.,  0.,  0.,  0.,  0.,  0.,  0.,  0.,  0.,  1.,  0.,  0.,  0.,\n",
       "        0.,  0.,  0.,  0.,  1.,  0.,  0.,  0.,  0.,  0.,  0.,  0.,  0.,\n",
       "        0.,  0.,  0.,  0.,  0.,  0.,  0.,  0.,  0.,  0.,  0.,  0.,  0.,\n",
       "        0.,  0.,  0.,  0.,  0.,  0.,  0.,  0.,  0.,  0.,  0.,  0.,  0.,\n",
       "        0.,  0.,  0.,  0.,  0.,  0.,  0.,  0.,  0.,  0.,  0.,  0.,  0.,\n",
       "        0.,  0.,  0.,  0.,  1.,  0.,  0.,  0.,  0.,  0.,  0.,  0.,  0.,\n",
       "        0.,  0.,  0.,  0.,  0.,  0.,  0.,  0.,  0.,  0.,  0.,  0.,  0.,\n",
       "        0.,  0.,  0.,  0.,  0.,  0.,  0.,  0.,  0.,  0.,  0.,  0.,  0.,\n",
       "        0.,  0.,  0.,  0.,  0.,  0.,  0.,  0.,  0.,  0.,  0.,  0.,  0.,\n",
       "        0.,  0.,  0.,  0.,  0.,  0.,  0.,  0.,  0.,  0.,  0.,  0.,  0.,\n",
       "        0.,  0.,  0.,  0.,  0.,  0.,  0.,  0.,  0.,  0.,  0.,  0.,  0.,\n",
       "        0.,  0.,  0.,  0.,  0.,  0.,  0.,  0.,  0.,  0.,  0.,  0.,  0.,\n",
       "        0.,  1.,  0.,  0.,  0.,  0.,  0.,  0.,  0.,  0.,  0.,  0.,  0.,\n",
       "        0.,  0.,  0.,  0.,  0.,  0.,  0.,  0.,  0.,  0.,  0.,  0.,  0.,\n",
       "        0.,  0.,  0.,  0.,  0.,  0.,  0.,  0.,  0.,  0.,  0.,  0.,  0.,\n",
       "        0.,  0.,  0.,  0.,  0.,  0.,  0.,  0.,  0.,  0.,  0.,  0.,  0.,\n",
       "        0.,  0.,  0.,  0.,  0.,  0.,  0.,  0.,  0.,  0.,  0.,  0.,  0.,\n",
       "        0.,  0.,  0.])"
      ]
     },
     "execution_count": 112,
     "metadata": {},
     "output_type": "execute_result"
    }
   ],
   "source": [
    "encode_text(X_train_books[0], word_to_index)"
   ]
  },
  {
   "cell_type": "code",
   "execution_count": null,
   "metadata": {
    "collapsed": true
   },
   "outputs": [],
   "source": []
  },
  {
   "cell_type": "code",
   "execution_count": 113,
   "metadata": {
    "collapsed": true,
    "scrolled": true
   },
   "outputs": [],
   "source": [
    "X_train_encoded = np.array([encode_text(text, word_to_index) for text in X_train_books.values.astype('U')])"
   ]
  },
  {
   "cell_type": "code",
   "execution_count": 114,
   "metadata": {},
   "outputs": [
    {
     "data": {
      "text/plain": [
       "(2276, 250)"
      ]
     },
     "execution_count": 114,
     "metadata": {},
     "output_type": "execute_result"
    }
   ],
   "source": [
    "X_train_encoded.shape"
   ]
  },
  {
   "cell_type": "code",
   "execution_count": 115,
   "metadata": {
    "collapsed": true
   },
   "outputs": [],
   "source": [
    "X_test_encoded = np.array([encode_text(text, word_to_index) for text in X_test_books.values.astype('U')])"
   ]
  },
  {
   "cell_type": "code",
   "execution_count": 116,
   "metadata": {},
   "outputs": [
    {
     "data": {
      "text/plain": [
       "Pipeline(steps=[('clf', LinearSVC(C=1.0, class_weight=None, dual=True, fit_intercept=True,\n",
       "     intercept_scaling=1, loss='squared_hinge', max_iter=1000,\n",
       "     multi_class='ovr', penalty='l2', random_state=None, tol=0.0001,\n",
       "     verbose=0))])"
      ]
     },
     "execution_count": 116,
     "metadata": {},
     "output_type": "execute_result"
    }
   ],
   "source": [
    "clf_s = Pipeline([\n",
    "    #('vect', CountVectorizer(stop_words = stopwords, analyzer = 'word', ngram_range = (1,3), binary = True)),\n",
    "    #('tfidf', TfidfTransformer()),\n",
    "    #('svd', TruncatedSVD(n_components = 150)),\n",
    "    #('norm', Normalizer() ),\n",
    "    ('clf', LinearSVC()),\n",
    "])\n",
    "\n",
    "\n",
    "clf_s.fit(X_train_encoded, y_train_books)#обучение модели на обучающей выборке"
   ]
  },
  {
   "cell_type": "code",
   "execution_count": 117,
   "metadata": {
    "collapsed": true
   },
   "outputs": [],
   "source": [
    "y_predict_s = clf_s.predict(X_test_encoded)"
   ]
  },
  {
   "cell_type": "code",
   "execution_count": 119,
   "metadata": {},
   "outputs": [
    {
     "name": "stdout",
     "output_type": "stream",
     "text": [
      "             precision    recall  f1-score   support\n",
      "\n",
      "       -1.0       0.11      0.67      0.19       489\n",
      "        1.0       0.89      0.32      0.47      3970\n",
      "\n",
      "avg / total       0.80      0.36      0.44      4459\n",
      "\n"
     ]
    },
    {
     "data": {
      "image/png": "[encoded data removed]",
      "text/plain": [
       "<matplotlib.figure.Figure at 0xfe7af28>"
      ]
     },
     "metadata": {},
     "output_type": "display_data"
    }
   ],
   "source": [
    "labels = list(set(y_test_books))\n",
    "print(classification_report(y_test_books, y_predict_s))\n",
    "sns.heatmap(data=confusion_matrix(y_test_books, y_predict_s, labels = labels), \n",
    "            annot=True, fmt=\"d\", cbar=False, xticklabels=['positive', 'negative'], \n",
    "                                                yticklabels=['positive', 'negative'])\n",
    "plt.title(\"Confusion matrix\")\n",
    "plt.show()"
   ]
  },
  {
   "cell_type": "code",
   "execution_count": 117,
   "metadata": {
    "collapsed": true
   },
   "outputs": [],
   "source": [
    "example = books_test.X_test.values[:1005]"
   ]
  },
  {
   "cell_type": "code",
   "execution_count": 118,
   "metadata": {
    "scrolled": true
   },
   "outputs": [
    {
     "name": "stdout",
     "output_type": "stream",
     "text": [
      "[ 'очень жесткая книга про несгибаемые характеры брутальных лесорубов но этим она и захватывает'\n",
      " 'это даже не о войне это о судьбе мне понравилось'\n",
      " 'легкая забавная книга поднимает настроение'\n",
      " 'хочу нового характера а в обломове нового характера нет это всё уже было и обломов и штольц и даже ольга образ собирательный из предшествующих женщин героинь здесь я полностью согласна с добролюбовым который писал обломов есть лицо не совсем новое в нашей литературе родовые черты обломовского типа мы находим ещё в онегине и затем несколько раз встречаем их повторения в лучших наших литературных произведениях дело в том что это коренной тип наш от которого не мог отделаться ни один из наших серьезных художников поэтому кроме как для приятного чтения никак сею книгу охарактеризовать не могу хотя сама читала со скрипом ибо уж очень нудно'\n",
      " 'класная книга мне тоже понравилась и совсем не нудная']\n"
     ]
    }
   ],
   "source": [
    "print(example)"
   ]
  },
  {
   "cell_type": "code",
   "execution_count": 120,
   "metadata": {},
   "outputs": [
    {
     "name": "stdout",
     "output_type": "stream",
     "text": [
      "1000     0\n",
      "1001    10\n",
      "1002     9\n",
      "1003     4\n",
      "1004     8\n",
      "Name: y_test, dtype: int64\n"
     ]
    }
   ],
   "source": [
    "print(books_test.y_test[1000:1005])"
   ]
  },
  {
   "cell_type": "code",
   "execution_count": 127,
   "metadata": {},
   "outputs": [
    {
     "data": {
      "text/plain": [
       "array([ 1, -1], dtype=int64)"
      ]
     },
     "execution_count": 127,
     "metadata": {},
     "output_type": "execute_result"
    }
   ],
   "source": [
    "clf4.predict(['я очарован я полон блаженства', 'полный отстой'])"
   ]
  },
  {
   "cell_type": "code",
   "execution_count": null,
   "metadata": {
    "collapsed": true
   },
   "outputs": [],
   "source": []
  }
 ],
 "metadata": {
  "kernelspec": {
   "display_name": "Python 3",
   "language": "python",
   "name": "python3"
  },
  "language_info": {
   "codemirror_mode": {
    "name": "ipython",
    "version": 3
   },
   "file_extension": ".py",
   "mimetype": "text/x-python",
   "name": "python",
   "nbconvert_exporter": "python",
   "pygments_lexer": "ipython3",
   "version": "3.5.3"
  }
 },
 "nbformat": 4,
 "nbformat_minor": 2
}
