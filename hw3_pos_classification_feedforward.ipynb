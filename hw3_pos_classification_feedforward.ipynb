{
 "cells": [
  {
   "cell_type": "markdown",
   "metadata": {},
   "source": [
    "# Домашнее задание 3 [10 баллов] \n",
    "# До 25.02.18 23:59\n",
    "\n",
    "Задание выполняется в группе (1-4 человека). В случае использования какого-либо строннего источника информации обязательно дайте на него ссылку (поскольку другие тоже могут на него наткнуться). Плагиат наказывается нулём баллов за задание и предвзятым отношением в будущем.\n",
    "\n",
    "Не все части обязательны для выполнения, однако вы можете быть дополнительно оштрафованы за небрежное за выполнение одной или двух частей вместо четырех.\n",
    "\n",
    "При возниконовении проблем с выполнением задания обращайтесь с вопросами к преподавателю. Поэтому настоятельно рекомендуется выполнять задание заранее, оставив запас времени на всевозможные технические проблемы. Если вы начали читать условие в последний вечер и не успели из-за проблем с установкой какой-либо библиотеки — это ваши проблемы.\n",
    "\n",
    "\n",
    "Результат выполнения задания — это отчёт в формате html на основе Jupyter Notebook. Нормальный отчёт должен включать в себя:\n",
    "* Краткую постановку задачи и формулировку задания\n",
    "* Описание **минимума** необходимой теории и/или описание используемых инструментов - не стоит переписывать лекции или Википедию\n",
    "* Подробный пошаговый рассказ о проделанной работе\n",
    "* Аккуратно оформленные результаты\n",
    "* **Внятные выводы** – не стоит относится к домашнему заданию как к последовательности сугубо технических шагов, а стоит относится скорее как к небольшому практическому исследованию, у которого есть своя цель и свое назначение.\n",
    "\n",
    "Небрежное его оформление отчета существенно отразится на итоговой оценке. Весь код из отчёта должен быть воспроизводимым, если для этого нужны какие-то дополнительные действия, установленные модули и т.п. — всё это должно быть прописано в тексте в явном виде.\n",
    "\n",
    "Сдача отчетов осуществляется через систему AnyTask.\n"
   ]
  },
  {
   "cell_type": "markdown",
   "metadata": {},
   "source": [
    "## Использование архитектуры SENNA для определения части речи\n",
    "\n",
    "Домашнее задание написано по мотивам работы R. Collobert:\n",
    "\n",
    "**Collobert, Ronan, Jason Weston, Léon Bottou, Michael Karlen, Koray Kavukcuoglu, and Pavel Kuksa. \"Natural language processing (almost) from scratch.\" Journal of Machine Learning Research 12, no. Aug (2011): 2493-2537.**\n",
    "\n",
    "В этом домашнем задании вам предстоит самостоятельно разработать архитектуру SENNA для определения части речи. \n",
    "SENNA – это простая архитектура нейронной сети, позволяющая достигнуть state-of-the-art результатов в нескольких задачах обработки текстов.  \n",
    "\n",
    "Использование SENNA для определения части речи предполагает, что задача определения части речи для данного слова формулируется как задача классификации: пусть в размеченном корпусе всего $|T|$ (= tagset) различных тегов частей речи, тогда каждое слово $w$ относится к одному из $T$ классов. Для каждого слова из обучающих данных формируется собственный вектор признаков. Нейронная сеть обучается по всем векторам признаков для слов из обучающего множества. \n",
    "\n",
    "Подход к решению задачи классификации представлен в оригинальной статье на рис. 1 (Figure 1: Window approach network). Он состоит из следующих шагов (раздел 3.3.1):\n",
    "1. Каждое слово представляется эмбеддингом: $w_i \\rightarrow LT_{w^i}$, размерность эмбеддинга - $d$;\n",
    "2. Для каждого слова формируется окно длины $k$ из $(k-1)/2$ соседних слов слева от данного слова  и $(k-1)/2$ соседних слов справа от данного слова, $k$ – нечетное. \n",
    "3. Для каждого слова формируется вектор признаков, состоящий из конкатенированных эмбеддингов слов из левого окна, данного слова и слов из правого окна. Итоговая размерность вектора признаков – $d \\times k$. Именно этот вектор подается на вход нейронной сети;\n",
    "4. Обучается нейронная сеть, имеющая один скрытый слой с $n_h$ нейроннами и нелинейной функцией активации $\\theta$;\n",
    "5. На выходном слое нейронной сети решается задача классификации на |T| классов, то есть, определяется часть речи для каждого слова. \n",
    "\n",
    "Если для слова невозможно найти $(k-1)/2$ соседних слов слева от данного слова  и $(k-1)/2$ соседних слов справа от данного слова – используется padding.\n"
   ]
  },
  {
   "cell_type": "markdown",
   "metadata": {},
   "source": [
    "### Данные\n",
    "1. Открытый корпус: https://github.com/dialogue-evaluation/morphoRuEval-2017/blob/master/OpenCorpora_Texts.rar\n",
    "2. Предобученные эмбеддинги Facebook: https://s3-us-west-1.amazonaws.com/fasttext-vectors/wiki.ru.vec"
   ]
  },
  {
   "cell_type": "markdown",
   "metadata": {},
   "source": [
    "### Команда\n",
    "\n",
    "- Анна Лапидус\n",
    "- Анастасия Кузнецова"
   ]
  },
  {
   "cell_type": "markdown",
   "metadata": {},
   "source": [
    "### Постановка задачи и формулировка задания\n",
    "\n",
    "__Задача__: на основе имеющегося аннотированого корпуса русского языка обучить модель, присваивающую словам теги частей речи. \n",
    "\n",
    "__Задание__:\n",
    "\n",
    "1. Разбить существующий корпус на обучающее и тестовое множества;\n",
    "2. Написать функцию, разбивающую предложения на окна длины $k$ (присваивать эмбединги контекстным словам и конкатенировать их будем прямо в нейронной сети);\n",
    "3. Обучить модель прямого распространения на обучающем множестве;\n",
    "4. Оценить результаты классификации; \n",
    "5. Провести оптимизацию гиперпараметров для получения наилучшего результата;\n",
    "6. Провести анализ ошибок модели."
   ]
  },
  {
   "cell_type": "markdown",
   "metadata": {},
   "source": [
    "### Теория\n",
    "\n",
    "__Нейронная сеть прямого распространения (перцептрон)__\n",
    "\n",
    "Задача определения тегов частей речи — это классическая задача классификации. Для ее реализации подойдет классическая сеть прямого распространения. При такой архитектуре сети все связи направлены строго от входных нейронов к выходным. Наша сеть будет состоять из трех слоев: входного слоя (конкатенированных эмбедингов для окна слов), скрытого слоя с функцией активации и выходного слоя с количеством нейронов, равным числу классов (тегов частей речи) и функцией softmax для получения вероятностного распределения по классам. \n",
    "\n",
    "__Окно обучения__\n",
    "\n",
    "Окно обучения — это то количество слов, которое мы учитываем в качестве контекста для данного слова слева и справа. Слова из контекста для данного слова мы будем использовать в качестве признаков для обучения. Обычно окно задается нечетным числом. Мы будем использовать окно из 5-ти слов, где два слева и два слова справа — контексты данного слова. Затем каждому слову из контекста мы будем присваивать предобученный эмбединг, и для получения вектора признаков -- конкатенировать эмбединги.\n",
    "\n",
    "__Эмбединги__\n",
    "\n",
    "Эмбединги — это векторные представления слов, характеризующие их совместную встречаемость. Вектора обучены на корпусе так, что вектора слов, часто встречающихся в одинаковых контекстах, оказываются близки по косинусной мере.\n",
    "Эмбединги имеют определенную размерность (здесь размерность вектора эмбединга -- 300).\n",
    "\n",
    "__Функции активации__\n",
    "\n",
    "\n",
    "__Softmax__\n",
    "\n",
    "\n",
    "Softmax преобразует значения, полученнные с предыдущего слоя, в вероятности принадлежности входного вектора классу. Поэтому функция softmax используется на выходном слое сети для решения задач многоклассовой классификации. Softmax дает на выходе значение от 0 до 1. Мы попробовали так же применить ее на скрытом слое.\n",
    "Однако, судя по информации на форумах, softmax редко используется для скрытых слоев. Softmax возвращает вероятностное распределение выходов предыдущего слоя, что делает их зависимыми и ограничивает активацию нейронов значениями от 0 до 1.\n",
    "\n",
    "Вместо softmax на скрытых слоях используют функции sigmoid (или гиперболический тангенс) или ReLU.\n",
    "\n",
    "\n",
    "__ReLU__\n",
    "\n",
    "Rectified Liner Units функция принимает значение 0 в случае отрицательного значения аргумента, в случае положительного аргумента — принимает значение, равное аргументу. Таким образом, функция ReLU выполняет роль порогового значения, равного 0. \n",
    "В отличие от softmax функция ReLU воpвращает значение от 0 до бесконечности (т.е. не ограничивает активацию нейронов).  \n",
    "Сеть c ReLU быстрее обучается, чем с функцией sigmoid на скрытых слоях, поскольку она не активирует нейроны с отрицательным значением выхода. И в отличие от sigmoid не теряет обучающей способности в многослойных сетях\n",
    "\n",
    "(https://github.com/Kulbear/deep-learning-nano-foundation/wiki/ReLU-and-Softmax-Activation-Functions).\n",
    "\n",
    "Поэтому мы решили попробовать ReLU в качестве функции активации на скрытом слое в одном из наших экспериментов. \n",
    "\n",
    "__Функция потерь__\n",
    "\n",
    "В качестве функции потерь мы будем использовать кросскатегориальную энтропию. Она используется в задачах мультиклассовой классификации (оценивает близость вектора вероятностей, полученного после функции активации, к one-hot вектору реальной принадлежности входного объекта классу)."
   ]
  },
  {
   "cell_type": "markdown",
   "metadata": {},
   "source": [
    "### Часть 1 [2 балла] Подготовка данных\n",
    "1. Прочитайте размеченные данные Открытого корпуса, используя nltk.corpus.reader.conll.ConllCorpusReader\n",
    "2. Посчитайте количество предложений и число тегов частей речи;\n",
    "3. Сформируйте тестовое и обучающее множество: первые 3/4 данных – обучающее множество;\n",
    "\n",
    "Для каждого слова:\n",
    "1. Определите его окно (слова слева и справа) размера $k$;\n",
    "2. Сформируйте его вектор признаков."
   ]
  },
  {
   "cell_type": "markdown",
   "metadata": {},
   "source": [
    "### 1. Прочитайте размеченные данные Открытого корпуса.###"
   ]
  },
  {
   "cell_type": "code",
   "execution_count": 1,
   "metadata": {
    "collapsed": true
   },
   "outputs": [],
   "source": [
    "import sys\n",
    "sys.path.append('C:\\Program Files\\Anaconda3\\Lib\\site-packages')"
   ]
  },
  {
   "cell_type": "markdown",
   "metadata": {},
   "source": [
    "#### Импортируем библиотеки\n",
    "\n",
    "Для обучения нашей сети будем использовать библиотеку _Keras_."
   ]
  },
  {
   "cell_type": "code",
   "execution_count": 1,
   "metadata": {},
   "outputs": [
    {
     "name": "stderr",
     "output_type": "stream",
     "text": [
      "/home/nst/anaconda3/lib/python3.6/site-packages/h5py/__init__.py:34: FutureWarning: Conversion of the second argument of issubdtype from `float` to `np.floating` is deprecated. In future, it will be treated as `np.float64 == np.dtype(float).type`.\n",
      "  from ._conv import register_converters as _register_converters\n",
      "Using TensorFlow backend.\n"
     ]
    }
   ],
   "source": [
    "from nltk.corpus.reader import ConllCorpusReader\n",
    "\n",
    "\n",
    "from keras.preprocessing.text import Tokenizer\n",
    "from keras.preprocessing.sequence import pad_sequences\n",
    "from keras.utils import np_utils\n",
    "from sklearn.preprocessing import LabelBinarizer, LabelEncoder\n",
    "\n",
    "from keras.layers import Embedding, Input, Conv1D, MaxPooling1D, Flatten, Dense, Dropout\n",
    "from keras.models import Model, Sequential\n",
    "\n",
    "import pandas as pd\n",
    "import numpy as np\n",
    "\n",
    "import seaborn as sns\n",
    "\n",
    "import matplotlib.pyplot as plt\n",
    "\n",
    "import random\n",
    "random.seed(1228)\n",
    "\n",
    "from sklearn.metrics import precision_score, recall_score, accuracy_score, classification_report, confusion_matrix\n",
    "\n",
    "%matplotlib inline\n",
    "\n",
    "from sklearn.model_selection import train_test_split\n",
    "from tqdm import tqdm"
   ]
  },
  {
   "cell_type": "code",
   "execution_count": 2,
   "metadata": {
    "collapsed": true
   },
   "outputs": [],
   "source": [
    "root = '/home/nst/mount/data/linguistics_hse/machine_learning/hw_3/'\n",
    "fileid = 'unamb_sent_14_6.conllu'"
   ]
  },
  {
   "cell_type": "code",
   "execution_count": 3,
   "metadata": {
    "collapsed": true
   },
   "outputs": [],
   "source": [
    "root = './'\n",
    "fileid = 'unamb_sent_14_6.conllu'"
   ]
  },
  {
   "cell_type": "markdown",
   "metadata": {},
   "source": [
    "#### Читаем корпус с помощью модуля nltk ConllCorpusReader"
   ]
  },
  {
   "cell_type": "code",
   "execution_count": 3,
   "metadata": {
    "collapsed": true
   },
   "outputs": [],
   "source": [
    "pos_corpus = ConllCorpusReader(root, fileids = fileid, columntypes = ['ignore', 'words', 'ignore', 'pos', 'chunk'])\n",
    "sents = list(pos_corpus.iob_sents())"
   ]
  },
  {
   "cell_type": "markdown",
   "metadata": {},
   "source": [
    "### 2. Посчитайте количество предложений и число тегов частей речи. ###"
   ]
  },
  {
   "cell_type": "code",
   "execution_count": 4,
   "metadata": {},
   "outputs": [
    {
     "data": {
      "text/plain": [
       "[('Хотя', 'CONJ', '_'),\n",
       " ('здесь', 'ADV', '_'),\n",
       " ('режиссер', 'NOUN', '_'),\n",
       " ('начинает', 'VERB', '_'),\n",
       " ('«', 'PUNCT', '_'),\n",
       " ('плыть', 'VERB', '_'),\n",
       " ('»', 'PUNCT', '_'),\n",
       " (':', 'PUNCT', '_'),\n",
       " ('хочет', 'VERB', '_'),\n",
       " (',', 'PUNCT', '_'),\n",
       " ('чтобы', 'CONJ', '_'),\n",
       " ('герой', 'NOUN', '_'),\n",
       " ('получился', 'VERB', '_'),\n",
       " ('одновременно', 'ADV', '_'),\n",
       " ('развлекающимся', 'ADJ', '_'),\n",
       " ('и', 'CONJ', '_'),\n",
       " ('не', 'PART', '_'),\n",
       " ('на', 'ADP', '_'),\n",
       " ('шутку', 'NOUN', '_'),\n",
       " ('влюбленным', 'ADJ', '_'),\n",
       " ('.', 'PUNCT', '_')]"
      ]
     },
     "execution_count": 4,
     "metadata": {},
     "output_type": "execute_result"
    }
   ],
   "source": [
    "sents[105]"
   ]
  },
  {
   "cell_type": "code",
   "execution_count": 6,
   "metadata": {
    "collapsed": true
   },
   "outputs": [],
   "source": [
    "pos_tags = [pos for text in sents for word, pos, chunk in text]"
   ]
  },
  {
   "cell_type": "code",
   "execution_count": 7,
   "metadata": {},
   "outputs": [
    {
     "name": "stdout",
     "output_type": "stream",
     "text": [
      "Количество предложений: 38508\n",
      "Число тегов частей речи: 14\n"
     ]
    }
   ],
   "source": [
    "print('Количество предложений:', len(sents))\n",
    "print('Число тегов частей речи:', len(set(pos_tags)))"
   ]
  },
  {
   "cell_type": "markdown",
   "metadata": {},
   "source": [
    "### 3. Сформируйте тестовое и обучающее множество ###\n",
    "\n",
    "Для каждого слова определите его окно (слова слева и справа) размера $k$.\n",
    "\n",
    "Для того, чтобы определить окно размера $k$ мы пишем функцию, которая берет контекст слова из предложения справа и слева, при том, если у слова нет какого-то из контекстов, в процессе преобразования слов в вектора нам необходимо будет вставлять специальный символ _pad_, который заполняет пустые контексты для того, чтобы все векоторы при вхождении в нейронную сеть оказались фиксированной длины. Чтобы впоследствии вставить _pad_ в необходимый контекст (правый или левый) функция должна возвращать два отдельных списка окон."
   ]
  },
  {
   "cell_type": "code",
   "execution_count": 4,
   "metadata": {
    "collapsed": true
   },
   "outputs": [],
   "source": [
    "def get_context(word_index, word_list, k): #k - размер окна\n",
    "    if k > len(word_list):\n",
    "        k = len(word_list)\n",
    "    left_pad = 0 #Слова, у которых нет левого контекста + нормальные 5-граммы\n",
    "    right_pad = 0 #Слова без правого котекста\n",
    "    left_index = word_index - int((k-1)/2)\n",
    "    right_index = word_index + int((k+1)/2)\n",
    "    if left_index >= 0 and right_index <= len(word_list):\n",
    "        context = word_list[left_index:right_index]\n",
    "        context = ' '.join(context)\n",
    "        left_pad = context\n",
    "    if left_index < 0:\n",
    "        left_index = 0\n",
    "        context = word_list[left_index:right_index]\n",
    "        context = ' '.join(context)\n",
    "        left_pad = context\n",
    "    if right_index > (len(word_list)):\n",
    "        right_index = (len(word_list)) \n",
    "        context = word_list[left_index:right_index]\n",
    "        context = ' '.join(context)\n",
    "        right_pad = context\n",
    "    return left_pad, right_pad"
   ]
  },
  {
   "cell_type": "markdown",
   "metadata": {},
   "source": [
    "Функция принимает на вход корпус текстов и необхоимый размер окна и возвращает списки правых и левых контекстов с соответствующими им тегами частей речи."
   ]
  },
  {
   "cell_type": "code",
   "execution_count": 5,
   "metadata": {
    "collapsed": true
   },
   "outputs": [],
   "source": [
    "def sents_to_windows(sentences, k): #k - размер окна\n",
    "    windows_left = []\n",
    "    windows_right = []\n",
    "    pos_left = []\n",
    "    pos_right = []\n",
    "    for sentence in sentences:\n",
    "        word_sequence = [word for word, pos, chunk in sentence]\n",
    "        pos_sequence = [pos for word, pos, cunk in sentence]\n",
    "        for i, word in enumerate(word_sequence):\n",
    "            left_window, right_window = get_context(i, word_sequence, k)\n",
    "            if left_window == 0:\n",
    "                windows_right.append(right_window)\n",
    "                pos_right.append(pos_sequence[i])\n",
    "            else:\n",
    "                windows_left.append(left_window)\n",
    "                pos_left.append(pos_sequence[i])\n",
    "    return windows_left, windows_right, pos_left, pos_right"
   ]
  },
  {
   "cell_type": "code",
   "execution_count": 6,
   "metadata": {
    "collapsed": true
   },
   "outputs": [],
   "source": [
    "win_left, win_right, pos_left, pos_right = sents_to_windows(sents, 5)"
   ]
  },
  {
   "cell_type": "code",
   "execution_count": 7,
   "metadata": {},
   "outputs": [
    {
     "name": "stdout",
     "output_type": "stream",
     "text": [
      "['« Школа злословия', '« Школа злословия »', '« Школа злословия » учит', 'Школа злословия » учит прикусить', 'злословия » учит прикусить язык', 'Сохранится ли градус', 'Сохранится ли градус дискуссии', 'Сохранится ли градус дискуссии в', 'ли градус дискуссии в новом', 'градус дискуссии в новом сезоне']\n",
      "['PUNCT', 'NOUN', 'NOUN', 'PUNCT', 'VERB', 'VERB', 'PART', 'NOUN', 'NOUN', 'ADP']\n",
      "['» учит прикусить язык', 'учит прикусить язык', 'в новом сезоне ?', 'новом сезоне ?', 'в новом формате .', 'новом формате .', '« ребрендинг » .', 'ребрендинг » .', 'телевидении стандартам телеведущих .', 'стандартам телеведущих .']\n",
      "['VERB', 'NOUN', 'NOUN', 'PUNCT', 'NOUN', 'PUNCT', 'PUNCT', 'PUNCT', 'NOUN', 'PUNCT']\n"
     ]
    }
   ],
   "source": [
    "print(win_left[:10])\n",
    "print(pos_left[:10])\n",
    "print(win_right[:10])\n",
    "print(pos_right[:10])"
   ]
  },
  {
   "cell_type": "markdown",
   "metadata": {},
   "source": [
    "#### Импортируем предобученные эмбединги"
   ]
  },
  {
   "cell_type": "code",
   "execution_count": 8,
   "metadata": {
    "collapsed": true
   },
   "outputs": [],
   "source": [
    "root_embed = '/home/nst/mount/data/linguistics_hse/machine_learning/hw_3/wiki.ru.vec'"
   ]
  },
  {
   "cell_type": "code",
   "execution_count": 20,
   "metadata": {
    "collapsed": true
   },
   "outputs": [],
   "source": [
    "root_embed = 'D:/баклажан/КомпЛинг/ML/wiki.ru.vec' #embeddings, обученные в facebook с помощью fasttext"
   ]
  },
  {
   "cell_type": "code",
   "execution_count": 9,
   "metadata": {},
   "outputs": [
    {
     "name": "stderr",
     "output_type": "stream",
     "text": [
      "1888424it [05:04, 6196.05it/s]\n"
     ]
    }
   ],
   "source": [
    "words = []\n",
    "\n",
    "embeddings_index = {}\n",
    "fo = open(root_embed, encoding = 'utf-8')\n",
    "for line in tqdm(fo):\n",
    "    values = line.split()\n",
    "    if len(values) == 301:\n",
    "        word = values[0]\n",
    "        words.append(word)\n",
    "        coefs = np.asarray(values[1:], dtype='float32')\n",
    "        embeddings_index[word] = coefs\n",
    "fo.close()"
   ]
  },
  {
   "cell_type": "code",
   "execution_count": 50,
   "metadata": {
    "scrolled": true
   },
   "outputs": [
    {
     "name": "stdout",
     "output_type": "stream",
     "text": [
      "[ 0.063412   0.14397   -0.26148   -0.069429  -0.037841  -0.13371\n",
      "  0.24357   -0.0070416 -0.57922    0.08532    0.060534   0.56343\n",
      " -0.012783  -0.075452  -0.090881   0.21186    0.15511   -0.27608\n",
      "  0.62067    0.45264   -0.024836  -0.23692    0.35527   -0.086528\n",
      " -0.42788    0.51174    0.055661  -0.10096   -0.47313    0.042426\n",
      " -0.22661    0.15796    0.15355   -0.15672    0.46446   -0.33252\n",
      "  0.027125   0.23902    0.28476    0.37342    0.16879    0.27743\n",
      " -0.39315   -0.14941   -0.5146    -0.29143   -0.63557   -0.26363\n",
      " -0.061703  -0.67537    0.49611   -0.19921    0.037425   0.47747\n",
      " -0.024457   0.058589  -0.30892   -0.31852    0.10311    0.44346\n",
      "  0.43057    0.13907   -0.27656    0.11768    0.13713    0.13852\n",
      "  0.4869    -0.042093   0.28837   -0.038571   0.030931  -0.08215\n",
      "  0.19207   -0.26899   -0.49007   -0.37879    0.14264   -0.04197\n",
      "  0.25837    0.33895   -0.3164     0.22006    0.44975   -0.0086994\n",
      "  0.12849   -0.077759   0.14377    0.26395    0.46818   -0.20803\n",
      " -0.076734  -0.37212   -0.19895    0.1758     0.20757    0.10215\n",
      " -0.52048    0.17322    0.37637   -0.29677    0.11535   -0.096266\n",
      " -0.2694    -0.39267    0.38067   -0.12971   -0.12168   -0.55804\n",
      "  0.106      0.2181    -0.27617    0.083144  -0.30655   -0.043498\n",
      "  0.17965    0.53954    0.27329   -0.24412   -0.063127  -0.066401\n",
      " -0.35477    0.10563    0.073989   0.088108  -0.070392  -0.50406\n",
      "  0.12337    0.033491   0.19287   -0.060492   0.22504    0.11532\n",
      " -0.19394    0.15821   -0.17895    0.33913   -0.11799   -0.22849\n",
      "  0.057576   0.19744   -0.050816   0.18151   -0.14231   -0.034983\n",
      " -0.03881   -0.044635  -0.22351    0.65197    0.14254   -0.21399\n",
      "  0.17148   -0.62894    0.23122   -0.19352    0.0018214 -0.27543\n",
      " -0.023435  -0.4291     0.037234   0.014135  -0.013478   0.37211\n",
      " -0.032432  -0.10153   -0.37729    0.11981    0.34832   -0.095147\n",
      " -0.20897   -0.12246   -0.39756   -0.36654   -0.016441  -0.13369\n",
      " -0.146     -0.23614    0.34347    0.25874   -0.12214    0.20325\n",
      " -0.22709   -0.065679  -0.48972   -0.37042    0.31853   -0.080469\n",
      "  0.084165   0.041567   0.19335   -0.14373    0.14611   -0.28958\n",
      "  0.21842   -0.35342    0.19322   -0.13872   -0.010463  -0.085405\n",
      " -0.13224    0.2998    -0.2101    -0.11039   -0.41421    0.059349\n",
      "  0.24499    0.077463  -0.060885  -0.32688    0.25415    0.078946\n",
      "  0.44908   -0.12669   -0.6119     0.057237   0.1227    -0.17786\n",
      " -0.38822    0.012315   0.62727   -0.037308  -0.1859     0.22328\n",
      "  0.059997   0.12235    0.044809   0.063141   0.049005   0.14039\n",
      " -0.083274  -0.065447  -0.10554    0.14502    0.26374    0.22359\n",
      " -0.036574   0.088675   0.14605   -0.21453    0.047461  -0.031936\n",
      " -0.2921     0.14358    0.18068   -0.035524   0.059664   0.559\n",
      "  0.13065   -0.062566  -0.22336    0.33281    0.072782  -0.39001\n",
      "  0.17126    0.088434  -0.090537   0.23239    0.19865    0.22552\n",
      "  0.039723   0.34444   -0.44939   -0.033745  -0.33495    0.09177\n",
      " -0.13836    0.311      0.31111    0.49645    0.18928    0.030503\n",
      " -0.076858   0.38435    0.29113   -0.18797   -0.11087   -0.217\n",
      " -0.098162   0.243      0.21425   -0.37627   -0.394      0.52555\n",
      " -0.49861    0.156      0.33436    0.16054   -0.54769   -0.48679\n",
      "  0.09385   -0.060351   0.20405   -0.23278   -0.23607    0.19677\n",
      "  0.086722  -0.061395  -0.3614     0.2306     0.11026    0.22437  ]\n"
     ]
    }
   ],
   "source": [
    "print(embeddings_index['красивого'])"
   ]
  },
  {
   "cell_type": "markdown",
   "metadata": {},
   "source": [
    "#### Формируем обучающее и тестовое множество"
   ]
  },
  {
   "cell_type": "code",
   "execution_count": 10,
   "metadata": {
    "collapsed": true
   },
   "outputs": [],
   "source": [
    "train, test = train_test_split(sents, test_size=0.25)"
   ]
  },
  {
   "cell_type": "code",
   "execution_count": 11,
   "metadata": {
    "collapsed": true
   },
   "outputs": [],
   "source": [
    "LEN_WINDOW = 5 #задаем размер окна \n",
    "EMBEDDING_DIM = 300 #размерность векторов эмбеддингов"
   ]
  },
  {
   "cell_type": "markdown",
   "metadata": {},
   "source": [
    "Строим окна для обучающей выборки"
   ]
  },
  {
   "cell_type": "code",
   "execution_count": 12,
   "metadata": {
    "collapsed": true
   },
   "outputs": [],
   "source": [
    "train_win_left, train_win_right, train_pos_left, train_pos_right = sents_to_windows(train, LEN_WINDOW)"
   ]
  },
  {
   "cell_type": "code",
   "execution_count": 13,
   "metadata": {
    "collapsed": true
   },
   "outputs": [],
   "source": [
    "#объединим левые и правые окна для токенайзера\n",
    "train_all = train_win_left + train_win_right"
   ]
  },
  {
   "cell_type": "markdown",
   "metadata": {},
   "source": [
    "Преобразовываем окна в последовательности чисел, заполняя пустые контекста $pad$'ами с помощью класса `Tokenizer()`.\n",
    "\n",
    "https://keras.io/preprocessing/text/"
   ]
  },
  {
   "cell_type": "code",
   "execution_count": 14,
   "metadata": {
    "collapsed": true
   },
   "outputs": [],
   "source": [
    "tokenizer = Tokenizer()\n",
    "tokenizer.fit_on_texts(train_all) #обучили токенайзер словам из трейна\n",
    "\n",
    "sequences_left = tokenizer.texts_to_sequences(train_win_left)\n",
    "X_train_left = pad_sequences(sequences_left, maxlen = LEN_WINDOW, padding = 'pre')\n",
    "\n",
    "sequences_right = tokenizer.texts_to_sequences(train_win_right)\n",
    "X_train_right = pad_sequences(sequences_right, maxlen = LEN_WINDOW, padding = 'post')"
   ]
  },
  {
   "cell_type": "code",
   "execution_count": 15,
   "metadata": {
    "collapsed": true
   },
   "outputs": [],
   "source": [
    "X_train = np.concatenate((X_train_left, X_train_right), axis = 0)"
   ]
  },
  {
   "cell_type": "markdown",
   "metadata": {},
   "source": [
    "Обучающая выборка готова."
   ]
  },
  {
   "cell_type": "code",
   "execution_count": 16,
   "metadata": {},
   "outputs": [
    {
     "data": {
      "text/plain": [
       "array([25552,  1991,    87,  3209, 25553], dtype=int32)"
      ]
     },
     "execution_count": 16,
     "metadata": {},
     "output_type": "execute_result"
    }
   ],
   "source": [
    "X_train[5]"
   ]
  },
  {
   "cell_type": "markdown",
   "metadata": {},
   "source": [
    "Объединяем правые и левые теги для обучающего множества."
   ]
  },
  {
   "cell_type": "code",
   "execution_count": 17,
   "metadata": {
    "collapsed": true
   },
   "outputs": [],
   "source": [
    "pos_train = train_pos_left + train_pos_right"
   ]
  },
  {
   "cell_type": "markdown",
   "metadata": {},
   "source": [
    "Кодируем теги трейна, чтобы подать на вход нейросети с заданным числом классов (равно количеству частей речи) 14."
   ]
  },
  {
   "cell_type": "code",
   "execution_count": 18,
   "metadata": {},
   "outputs": [
    {
     "name": "stdout",
     "output_type": "stream",
     "text": [
      "[0. 1. 0. 0. 0. 0. 0. 0. 0. 0. 0. 0. 0. 0.]\n"
     ]
    }
   ],
   "source": [
    "le = LabelEncoder()\n",
    "le.fit(pos_train)\n",
    "y_train = np_utils.to_categorical(le.transform(pos_train), 14) \n",
    "print(y_train[0])"
   ]
  },
  {
   "cell_type": "markdown",
   "metadata": {},
   "source": [
    "Формируем тестовое множество аналогичным образом."
   ]
  },
  {
   "cell_type": "code",
   "execution_count": 19,
   "metadata": {
    "collapsed": true
   },
   "outputs": [],
   "source": [
    "test_win_left, test_win_right, test_pos_left, test_pos_right = sents_to_windows(test, LEN_WINDOW)"
   ]
  },
  {
   "cell_type": "code",
   "execution_count": 20,
   "metadata": {
    "collapsed": true
   },
   "outputs": [],
   "source": [
    "sequences_left = tokenizer.texts_to_sequences(test_win_left)\n",
    "X_test_left = pad_sequences(sequences_left, maxlen = LEN_WINDOW, padding = 'pre')\n",
    "\n",
    "sequences_right = tokenizer.texts_to_sequences(test_win_right)\n",
    "X_test_right = pad_sequences(sequences_right, maxlen = LEN_WINDOW, padding = 'post')"
   ]
  },
  {
   "cell_type": "code",
   "execution_count": 21,
   "metadata": {
    "collapsed": true
   },
   "outputs": [],
   "source": [
    "X_test = np.concatenate((X_test_left, X_test_right), axis = 0)\n",
    "pos_test = test_pos_left + test_pos_right\n",
    "y_true = pos_test"
   ]
  },
  {
   "cell_type": "markdown",
   "metadata": {},
   "source": [
    "### Часть 2 [4 баллов] Архитектура нейронной сети\n",
    "\n",
    "Архитектура нейронной сети состоит из следующих слов:\n",
    "1. Входной слой: нейронная сеть получает на вход вектор признаков, состоящий из $k$ конкатенированных эмбеддингов;\n",
    "2. Скрытый слой: $n_h$ нейронов и нелинейная функция активации $\\theta$;\n",
    "3. Выходной слой:  $|T|$ нейронов для итоговой классификации.\n",
    "\n",
    "Обучите нейронную сеть на обучающих данных."
   ]
  },
  {
   "cell_type": "markdown",
   "metadata": {},
   "source": [
    "#### Составляем матрицу эмбедингов для подачи на входной слой сети\n",
    "\n",
    "Размер матрицы -- длина словаря + 1 символ для $pad$."
   ]
  },
  {
   "cell_type": "code",
   "execution_count": 22,
   "metadata": {},
   "outputs": [
    {
     "data": {
      "text/plain": [
       "65780"
      ]
     },
     "execution_count": 22,
     "metadata": {},
     "output_type": "execute_result"
    }
   ],
   "source": [
    "word_index = tokenizer.word_index\n",
    "len(word_index)"
   ]
  },
  {
   "cell_type": "code",
   "execution_count": 23,
   "metadata": {
    "collapsed": true
   },
   "outputs": [],
   "source": [
    "#какая строчка из матрицы соответствует каждому слову из словаря\n",
    "embedding_matrix = np.zeros((len(word_index) + 1, EMBEDDING_DIM))\n",
    "for word, i in word_index.items():\n",
    "    embedding_vector = embeddings_index.get(word)\n",
    "    if embedding_vector is not None:\n",
    "        embedding_matrix[i] = embedding_vector"
   ]
  },
  {
   "cell_type": "markdown",
   "metadata": {},
   "source": [
    "#### Строим перцептрон\n",
    "\n",
    "1. Входной слой -- слой с эмбедингами;\n",
    "2. Второй слой -- скрытый слой с 64 нейронами и функцией активации $softmax$. \n",
    "3. Выходной слой имеет 14 нейронов (столько же сколько и частей речи), функция активации $softmax$."
   ]
  },
  {
   "cell_type": "code",
   "execution_count": 41,
   "metadata": {
    "collapsed": true
   },
   "outputs": [],
   "source": [
    "model = Sequential()\n",
    "\n",
    "model.add(Embedding(len(word_index) + 1, #объем словаря + 1 символ для pad\n",
    "                            EMBEDDING_DIM,\n",
    "                            weights=[embedding_matrix],\n",
    "                            input_length=LEN_WINDOW,\n",
    "                            trainable=False))\n",
    "model.add(Flatten()) #конкатенирует входные вектора эмбеддингов\n",
    "model.add(Dense(64, activation = 'softmax'))\n",
    "model.add(Dropout(0.1))\n",
    "model.add(Dense(len(set(pos_train)), activation = 'softmax'))\n",
    "model.compile(loss='categorical_crossentropy', optimizer='adam', metrics=['accuracy'])\n"
   ]
  },
  {
   "cell_type": "markdown",
   "metadata": {},
   "source": [
    "Обучаем модель 10 эпох."
   ]
  },
  {
   "cell_type": "code",
   "execution_count": 42,
   "metadata": {},
   "outputs": [
    {
     "name": "stdout",
     "output_type": "stream",
     "text": [
      "Train on 308583 samples, validate on 34288 samples\n",
      "Epoch 1/10\n",
      "308583/308583 [==============================] - 111s 358us/step - loss: 1.6147 - acc: 0.4873 - val_loss: 0.7791 - val_acc: 0.8287\n",
      "Epoch 2/10\n",
      "308583/308583 [==============================] - 109s 353us/step - loss: 1.3578 - acc: 0.5431 - val_loss: 0.6896 - val_acc: 0.8366\n",
      "Epoch 3/10\n",
      "308583/308583 [==============================] - 116s 377us/step - loss: 1.2274 - acc: 0.5910 - val_loss: 0.6196 - val_acc: 0.8525\n",
      "Epoch 4/10\n",
      "308583/308583 [==============================] - 120s 389us/step - loss: 1.1413 - acc: 0.6217 - val_loss: 0.5948 - val_acc: 0.8538\n",
      "Epoch 5/10\n",
      "308583/308583 [==============================] - 111s 361us/step - loss: 1.0945 - acc: 0.6398 - val_loss: 0.5921 - val_acc: 0.8542\n",
      "Epoch 6/10\n",
      "308583/308583 [==============================] - 119s 387us/step - loss: 1.0581 - acc: 0.6521 - val_loss: 0.5801 - val_acc: 0.8576\n",
      "Epoch 7/10\n",
      "308583/308583 [==============================] - 121s 394us/step - loss: 1.0285 - acc: 0.6615 - val_loss: 0.5691 - val_acc: 0.8606\n",
      "Epoch 8/10\n",
      "308583/308583 [==============================] - 118s 381us/step - loss: 1.0063 - acc: 0.6684 - val_loss: 0.5683 - val_acc: 0.8612\n",
      "Epoch 9/10\n",
      "308583/308583 [==============================] - 118s 382us/step - loss: 0.9903 - acc: 0.6725 - val_loss: 0.5694 - val_acc: 0.8607\n",
      "Epoch 10/10\n",
      "308583/308583 [==============================] - 107s 348us/step - loss: 0.9763 - acc: 0.6762 - val_loss: 0.5714 - val_acc: 0.8602\n"
     ]
    },
    {
     "data": {
      "text/plain": [
       "<keras.callbacks.History at 0x7f206007d390>"
      ]
     },
     "execution_count": 42,
     "metadata": {},
     "output_type": "execute_result"
    }
   ],
   "source": [
    "model.fit(X_train, y_train, epochs = 10, batch_size = 32,  validation_split = 0.1)"
   ]
  },
  {
   "cell_type": "markdown",
   "metadata": {},
   "source": [
    "### Часть 3 [1 балл] Оценка качества\n",
    "\n",
    "Протестируйте нейронную сеть на тестовых данных. Используйте accuracy для оценки качества модели."
   ]
  },
  {
   "cell_type": "markdown",
   "metadata": {},
   "source": [
    "Для того, чтобы оценить качество классификации, построим матрицу ошибок, посчитаем метрики: precision, recall, F-score."
   ]
  },
  {
   "cell_type": "code",
   "execution_count": null,
   "metadata": {
    "collapsed": true
   },
   "outputs": [],
   "source": [
    "y_pred = model.predict_classes(X_test)\n",
    "y_pred = le.inverse_transform(y_pred)"
   ]
  },
  {
   "cell_type": "code",
   "execution_count": 47,
   "metadata": {
    "scrolled": true
   },
   "outputs": [
    {
     "name": "stderr",
     "output_type": "stream",
     "text": [
      "/home/nst/anaconda3/lib/python3.6/site-packages/sklearn/metrics/classification.py:1135: UndefinedMetricWarning: Precision and F-score are ill-defined and being set to 0.0 in labels with no predicted samples.\n",
      "  'precision', 'predicted', average, warn_for)\n"
     ]
    },
    {
     "name": "stdout",
     "output_type": "stream",
     "text": [
      "             precision    recall  f1-score   support\n",
      "\n",
      "        ADJ       0.60      0.44      0.50     11971\n",
      "        ADP       0.58      0.66      0.62     10840\n",
      "        ADV       0.51      0.42      0.46      3307\n",
      "       CONJ       0.54      0.65      0.59      5550\n",
      "        DET       0.53      0.48      0.51      3131\n",
      "       INTJ       0.00      0.00      0.00       124\n",
      "       NOUN       0.63      0.61      0.62     30522\n",
      "        NUM       0.54      0.44      0.48      2467\n",
      "       PART       0.49      0.49      0.49      2243\n",
      "       PRON       0.52      0.45      0.48      2255\n",
      "      PROPN       0.60      0.45      0.52      3860\n",
      "      PUNCT       0.52      0.72      0.60     22784\n",
      "       VERB       0.61      0.51      0.55     10400\n",
      "          X       0.51      0.28      0.36      5258\n",
      "\n",
      "avg / total       0.57      0.57      0.57    114712\n",
      "\n"
     ]
    },
    {
     "data": {
      "image/png": "[encoded data removed]",
      "text/plain": [
       "<matplotlib.figure.Figure at 0x7f205ee9fc18>"
      ]
     },
     "metadata": {},
     "output_type": "display_data"
    }
   ],
   "source": [
    "labels = list(set(pos_test))\n",
    "print(classification_report(y_true, y_pred))\n",
    "sns.heatmap(data=confusion_matrix(y_true, y_pred, labels = labels), annot=True, fmt=\"d\", cbar=False, xticklabels=labels, yticklabels=labels)\n",
    "plt.title(\"Confusion matrix\")\n",
    "plt.show()"
   ]
  },
  {
   "cell_type": "markdown",
   "metadata": {},
   "source": [
    "При такой архитектуре модели получаем F-меру чуть выше среднего -- 57%."
   ]
  },
  {
   "cell_type": "markdown",
   "metadata": {},
   "source": [
    "### Часть 3 [1 балл] Оптимизация гиперпарметров\n",
    "\n",
    "В эксперименте участвуют следующие гиперпараметры:\n",
    "* $k$ – размер окна;\n",
    "* $n_h$ – число нейронов на скрытом слое;\n",
    "* $\\theta$ – вид функции активации.\n",
    "\n",
    "Оцените их влияние на качество модели. Как увеличение окна или числа нейронов влияет на итоговый показатель качества? Зависит ли итоговый показатель качества от функции активации на скрытом слое? "
   ]
  },
  {
   "cell_type": "markdown",
   "metadata": {},
   "source": [
    "Для начала попробуем использовать разные функции активации на скрытом и выходном слое. Будем использовать ReLU на скрытом слое и Softmax на выходном."
   ]
  },
  {
   "cell_type": "code",
   "execution_count": 24,
   "metadata": {
    "collapsed": true
   },
   "outputs": [],
   "source": [
    "model = Sequential()\n",
    "\n",
    "model.add(Embedding(len(word_index) + 1, #объем словаря + 1 символ для pad\n",
    "                            EMBEDDING_DIM,\n",
    "                            weights=[embedding_matrix],\n",
    "                            input_length=LEN_WINDOW,\n",
    "                            trainable=False))\n",
    "model.add(Flatten()) #конкатенирует входные вектора эмбеддингов\n",
    "model.add(Dense(64, activation = 'relu'))\n",
    "model.add(Dropout(0.1))\n",
    "model.add(Dense(len(set(pos_train)), activation = 'softmax'))\n",
    "model.compile(loss='categorical_crossentropy', optimizer='adam', metrics=['accuracy'])\n"
   ]
  },
  {
   "cell_type": "code",
   "execution_count": 25,
   "metadata": {},
   "outputs": [
    {
     "name": "stdout",
     "output_type": "stream",
     "text": [
      "Train on 309015 samples, validate on 34336 samples\n",
      "Epoch 1/10\n",
      "309015/309015 [==============================] - 101s 325us/step - loss: 1.0503 - acc: 0.6411 - val_loss: 0.5758 - val_acc: 0.8564\n",
      "Epoch 2/10\n",
      "309015/309015 [==============================] - 108s 350us/step - loss: 0.8600 - acc: 0.6961 - val_loss: 0.5404 - val_acc: 0.8626\n",
      "Epoch 3/10\n",
      "309015/309015 [==============================] - 108s 350us/step - loss: 0.8095 - acc: 0.7108 - val_loss: 0.5400 - val_acc: 0.8600\n",
      "Epoch 4/10\n",
      "309015/309015 [==============================] - 107s 348us/step - loss: 0.7804 - acc: 0.7185 - val_loss: 0.5459 - val_acc: 0.8604\n",
      "Epoch 5/10\n",
      "309015/309015 [==============================] - 95s 309us/step - loss: 0.7599 - acc: 0.7253 - val_loss: 0.5434 - val_acc: 0.8649\n",
      "Epoch 6/10\n",
      "309015/309015 [==============================] - 94s 304us/step - loss: 0.7448 - acc: 0.7293 - val_loss: 0.5330 - val_acc: 0.8639\n",
      "Epoch 7/10\n",
      "309015/309015 [==============================] - 92s 297us/step - loss: 0.7330 - acc: 0.7333 - val_loss: 0.5490 - val_acc: 0.8668\n",
      "Epoch 8/10\n",
      "309015/309015 [==============================] - 93s 301us/step - loss: 0.7220 - acc: 0.7364 - val_loss: 0.5471 - val_acc: 0.8654\n",
      "Epoch 9/10\n",
      "309015/309015 [==============================] - 93s 300us/step - loss: 0.7130 - acc: 0.7381 - val_loss: 0.5550 - val_acc: 0.8627\n",
      "Epoch 10/10\n",
      "309015/309015 [==============================] - 98s 316us/step - loss: 0.7057 - acc: 0.7401 - val_loss: 0.5490 - val_acc: 0.8641\n"
     ]
    },
    {
     "data": {
      "text/plain": [
       "<keras.callbacks.History at 0x7fddcc497940>"
      ]
     },
     "execution_count": 25,
     "metadata": {},
     "output_type": "execute_result"
    }
   ],
   "source": [
    "model.fit(X_train, y_train, epochs = 10, batch_size = 32,  validation_split = 0.1)"
   ]
  },
  {
   "cell_type": "code",
   "execution_count": 26,
   "metadata": {},
   "outputs": [
    {
     "name": "stderr",
     "output_type": "stream",
     "text": [
      "/home/nst/anaconda3/lib/python3.6/site-packages/sklearn/preprocessing/label.py:151: DeprecationWarning: The truth value of an empty array is ambiguous. Returning False, but in future this will result in an error. Use `array.size > 0` to check that an array is not empty.\n",
      "  if diff:\n"
     ]
    }
   ],
   "source": [
    "y_pred = model.predict_classes(X_test)\n",
    "y_pred = le.inverse_transform(y_pred)"
   ]
  },
  {
   "cell_type": "code",
   "execution_count": 27,
   "metadata": {},
   "outputs": [
    {
     "name": "stdout",
     "output_type": "stream",
     "text": [
      "             precision    recall  f1-score   support\n",
      "\n",
      "        ADJ       0.61      0.47      0.53     11798\n",
      "        ADP       0.57      0.66      0.61     10664\n",
      "        ADV       0.50      0.50      0.50      3315\n",
      "       CONJ       0.53      0.68      0.60      5492\n",
      "        DET       0.59      0.63      0.61      3151\n",
      "       INTJ       0.52      0.29      0.37       117\n",
      "       NOUN       0.67      0.59      0.63     30497\n",
      "        NUM       0.40      0.53      0.46      2446\n",
      "       PART       0.53      0.55      0.54      2234\n",
      "       PRON       0.58      0.55      0.56      2242\n",
      "      PROPN       0.59      0.48      0.53      3669\n",
      "      PUNCT       0.55      0.72      0.62     22706\n",
      "       VERB       0.59      0.55      0.57     10418\n",
      "          X       0.60      0.26      0.36      5483\n",
      "\n",
      "avg / total       0.59      0.59      0.58    114232\n",
      "\n"
     ]
    },
    {
     "data": {
      "image/png": "[encoded data removed]",
      "text/plain": [
       "<matplotlib.figure.Figure at 0x7fddcb5c5438>"
      ]
     },
     "metadata": {},
     "output_type": "display_data"
    }
   ],
   "source": [
    "labels = list(set(pos_test))\n",
    "print(classification_report(y_true, y_pred))\n",
    "sns.heatmap(data=confusion_matrix(y_true, y_pred, labels = labels), annot=True, fmt=\"d\", cbar=False, xticklabels=labels, yticklabels=labels)\n",
    "plt.title(\"Confusion matrix\")\n",
    "plt.show()"
   ]
  },
  {
   "cell_type": "code",
   "execution_count": 28,
   "metadata": {},
   "outputs": [
    {
     "name": "stdout",
     "output_type": "stream",
     "text": [
      "Accuracy score: 0.5860004201974928\n"
     ]
    }
   ],
   "source": [
    "print('Accuracy score:', accuracy_score(y_true, y_pred))"
   ]
  },
  {
   "cell_type": "markdown",
   "metadata": {},
   "source": [
    "Качество стало немного лучше, на пару процентов."
   ]
  },
  {
   "cell_type": "markdown",
   "metadata": {},
   "source": [
    "Попробуем изменить размер окна на 3 (для этого перестроим тестовую и трейновую выборки) и уменьшить кол-во нейронов на скрытом слое до 32."
   ]
  },
  {
   "cell_type": "code",
   "execution_count": 75,
   "metadata": {
    "collapsed": true
   },
   "outputs": [],
   "source": [
    "LEN_WINDOW = 3 #задаем размер окна \n",
    "EMBEDDING_DIM = 300 #размерность векторов эмбеддингов"
   ]
  },
  {
   "cell_type": "code",
   "execution_count": 86,
   "metadata": {
    "collapsed": true
   },
   "outputs": [],
   "source": [
    "train_win_left, train_win_right, train_pos_left, train_pos_right = sents_to_windows(train, LEN_WINDOW)"
   ]
  },
  {
   "cell_type": "code",
   "execution_count": 87,
   "metadata": {
    "collapsed": true
   },
   "outputs": [],
   "source": [
    "train_all = train_win_left + train_win_right"
   ]
  },
  {
   "cell_type": "code",
   "execution_count": 88,
   "metadata": {
    "collapsed": true
   },
   "outputs": [],
   "source": [
    "tokenizer = Tokenizer()\n",
    "tokenizer.fit_on_texts(train_all) #обучили токенайзер словам из трейна\n",
    "\n",
    "sequences_left = tokenizer.texts_to_sequences(train_win_left)\n",
    "X_train_left = pad_sequences(sequences_left, maxlen = LEN_WINDOW, padding = 'pre')\n",
    "\n",
    "sequences_right = tokenizer.texts_to_sequences(train_win_right)\n",
    "X_train_right = pad_sequences(sequences_right, maxlen = LEN_WINDOW, padding = 'post')"
   ]
  },
  {
   "cell_type": "code",
   "execution_count": 89,
   "metadata": {
    "collapsed": true
   },
   "outputs": [],
   "source": [
    "X_train = np.concatenate((X_train_left, X_train_right), axis = 0)"
   ]
  },
  {
   "cell_type": "code",
   "execution_count": 90,
   "metadata": {
    "collapsed": true
   },
   "outputs": [],
   "source": [
    "pos_train = train_pos_left + train_pos_right"
   ]
  },
  {
   "cell_type": "code",
   "execution_count": 91,
   "metadata": {},
   "outputs": [
    {
     "name": "stdout",
     "output_type": "stream",
     "text": [
      "[0. 1. 0. 0. 0. 0. 0. 0. 0. 0. 0. 0. 0. 0.]\n"
     ]
    }
   ],
   "source": [
    "le = LabelEncoder()\n",
    "le.fit(pos_train)\n",
    "y_train = np_utils.to_categorical(le.transform(pos_train), 14) #14 - число классов (частей речи)\n",
    "print(y_train[0])"
   ]
  },
  {
   "cell_type": "code",
   "execution_count": 92,
   "metadata": {},
   "outputs": [
    {
     "data": {
      "text/plain": [
       "65999"
      ]
     },
     "execution_count": 92,
     "metadata": {},
     "output_type": "execute_result"
    }
   ],
   "source": [
    "word_index = tokenizer.word_index\n",
    "len(word_index)"
   ]
  },
  {
   "cell_type": "code",
   "execution_count": 93,
   "metadata": {
    "collapsed": true
   },
   "outputs": [],
   "source": [
    "model = Sequential()\n",
    "\n",
    "model.add(Embedding(len(word_index) + 1, \n",
    "                            EMBEDDING_DIM,\n",
    "                            weights=[embedding_matrix],\n",
    "                            input_length=LEN_WINDOW,\n",
    "                            trainable=False))\n",
    "model.add(Flatten())\n",
    "model.add(Dense(32, activation = 'softmax'))\n",
    "model.add(Dropout(0.1))\n",
    "model.add(Dense(len(set(pos_train)), activation = 'softmax'))\n",
    "model.compile(loss='categorical_crossentropy', optimizer='adam', metrics=['accuracy'])\n"
   ]
  },
  {
   "cell_type": "code",
   "execution_count": 94,
   "metadata": {},
   "outputs": [
    {
     "name": "stdout",
     "output_type": "stream",
     "text": [
      "Train on 308583 samples, validate on 34288 samples\n",
      "Epoch 1/10\n",
      "308583/308583 [==============================] - 64s 206us/step - loss: 1.7436 - acc: 0.4464 - val_loss: 1.8886 - val_acc: 0.2555\n",
      "Epoch 2/10\n",
      "308583/308583 [==============================] - 55s 177us/step - loss: 1.5452 - acc: 0.4826 - val_loss: 1.8504 - val_acc: 0.2633\n",
      "Epoch 3/10\n",
      "308583/308583 [==============================] - 65s 212us/step - loss: 1.4928 - acc: 0.4934 - val_loss: 1.7457 - val_acc: 0.3119\n",
      "Epoch 4/10\n",
      "308583/308583 [==============================] - 64s 206us/step - loss: 1.4519 - acc: 0.5066 - val_loss: 1.8197 - val_acc: 0.3192\n",
      "Epoch 5/10\n",
      "308583/308583 [==============================] - 65s 210us/step - loss: 1.4145 - acc: 0.5210 - val_loss: 1.6396 - val_acc: 0.4592\n",
      "Epoch 6/10\n",
      "308583/308583 [==============================] - 68s 221us/step - loss: 1.3885 - acc: 0.5315 - val_loss: 1.8529 - val_acc: 0.3661\n",
      "Epoch 7/10\n",
      "308583/308583 [==============================] - 62s 202us/step - loss: 1.3672 - acc: 0.5382 - val_loss: 1.8290 - val_acc: 0.3531\n",
      "Epoch 8/10\n",
      "308583/308583 [==============================] - 61s 196us/step - loss: 1.3514 - acc: 0.5439 - val_loss: 1.7547 - val_acc: 0.3765\n",
      "Epoch 9/10\n",
      "308583/308583 [==============================] - 58s 188us/step - loss: 1.3368 - acc: 0.5483 - val_loss: 1.7477 - val_acc: 0.3262\n",
      "Epoch 10/10\n",
      "308583/308583 [==============================] - 69s 225us/step - loss: 1.3252 - acc: 0.5521 - val_loss: 1.7362 - val_acc: 0.3220\n"
     ]
    },
    {
     "data": {
      "text/plain": [
       "<keras.callbacks.History at 0x7f2060a02cc0>"
      ]
     },
     "execution_count": 94,
     "metadata": {},
     "output_type": "execute_result"
    }
   ],
   "source": [
    "model.fit(X_train, y_train, epochs = 10, batch_size = 32,  validation_split = 0.1)"
   ]
  },
  {
   "cell_type": "markdown",
   "metadata": {},
   "source": [
    "Так же изменим тестовое множество и протестируем модель."
   ]
  },
  {
   "cell_type": "code",
   "execution_count": 95,
   "metadata": {
    "collapsed": true
   },
   "outputs": [],
   "source": [
    "test_win_left, test_win_right, test_pos_left, test_pos_right = sents_to_windows(test, LEN_WINDOW)"
   ]
  },
  {
   "cell_type": "code",
   "execution_count": 96,
   "metadata": {
    "collapsed": true
   },
   "outputs": [],
   "source": [
    "sequences_left = tokenizer.texts_to_sequences(test_win_left)\n",
    "X_test_left = pad_sequences(sequences_left, maxlen = LEN_WINDOW, padding = 'pre')\n",
    "\n",
    "sequences_right = tokenizer.texts_to_sequences(test_win_right)\n",
    "X_test_right = pad_sequences(sequences_right, maxlen = LEN_WINDOW, padding = 'post')"
   ]
  },
  {
   "cell_type": "code",
   "execution_count": 97,
   "metadata": {
    "collapsed": true
   },
   "outputs": [],
   "source": [
    "X_test = np.concatenate((X_test_left, X_test_right), axis = 0)"
   ]
  },
  {
   "cell_type": "code",
   "execution_count": 98,
   "metadata": {
    "collapsed": true
   },
   "outputs": [],
   "source": [
    "pos_test = test_pos_left + test_pos_right"
   ]
  },
  {
   "cell_type": "code",
   "execution_count": 99,
   "metadata": {
    "collapsed": true
   },
   "outputs": [],
   "source": [
    "y_true = le.transform(pos_test)"
   ]
  },
  {
   "cell_type": "code",
   "execution_count": 101,
   "metadata": {},
   "outputs": [
    {
     "name": "stderr",
     "output_type": "stream",
     "text": [
      "/home/nst/anaconda3/lib/python3.6/site-packages/sklearn/preprocessing/label.py:151: DeprecationWarning: The truth value of an empty array is ambiguous. Returning False, but in future this will result in an error. Use `array.size > 0` to check that an array is not empty.\n",
      "  if diff:\n"
     ]
    }
   ],
   "source": [
    "y_pred = model.predict_classes(X_test)\n",
    "y_pred = le.inverse_transform(y_pred)"
   ]
  },
  {
   "cell_type": "code",
   "execution_count": 102,
   "metadata": {
    "scrolled": true
   },
   "outputs": [
    {
     "name": "stderr",
     "output_type": "stream",
     "text": [
      "/home/nst/anaconda3/lib/python3.6/site-packages/sklearn/metrics/classification.py:1135: UndefinedMetricWarning: Precision and F-score are ill-defined and being set to 0.0 in labels with no predicted samples.\n",
      "  'precision', 'predicted', average, warn_for)\n"
     ]
    },
    {
     "name": "stdout",
     "output_type": "stream",
     "text": [
      "             precision    recall  f1-score   support\n",
      "\n",
      "        ADJ       0.42      0.11      0.17     11971\n",
      "        ADP       0.70      0.77      0.74     10840\n",
      "        ADV       0.62      0.24      0.34      3307\n",
      "       CONJ       0.70      0.73      0.72      5550\n",
      "        DET       0.72      0.45      0.56      3131\n",
      "       INTJ       0.00      0.00      0.00       124\n",
      "       NOUN       0.41      0.73      0.52     30522\n",
      "        NUM       0.59      0.35      0.44      2467\n",
      "       PART       0.79      0.58      0.67      2243\n",
      "       PRON       0.69      0.64      0.66      2255\n",
      "      PROPN       0.00      0.00      0.00      3860\n",
      "      PUNCT       0.48      0.53      0.51     22784\n",
      "       VERB       0.53      0.27      0.36     10400\n",
      "          X       0.34      0.04      0.07      5258\n",
      "\n",
      "avg / total       0.49      0.50      0.46    114712\n",
      "\n"
     ]
    },
    {
     "data": {
      "image/png": "[encoded data removed]",
      "text/plain": [
       "<matplotlib.figure.Figure at 0x7f20609c2c88>"
      ]
     },
     "metadata": {},
     "output_type": "display_data"
    }
   ],
   "source": [
    "labels = list(set(pos_test))\n",
    "print(classification_report(y_true, y_pred))\n",
    "sns.heatmap(data=confusion_matrix(y_true, y_pred, labels = labels), annot=True, fmt=\"d\", cbar=False, xticklabels=labels, yticklabels=labels)\n",
    "plt.title(\"Confusion matrix\")\n",
    "plt.show()"
   ]
  },
  {
   "cell_type": "code",
   "execution_count": 111,
   "metadata": {},
   "outputs": [
    {
     "name": "stdout",
     "output_type": "stream",
     "text": [
      "Accuracy score: 0.49518794895041496\n"
     ]
    }
   ],
   "source": [
    "print('Accuracy score:', accuracy_score(y_true, y_pred))"
   ]
  },
  {
   "cell_type": "markdown",
   "metadata": {},
   "source": [
    "С меньшим количеством нейронов и меньшим размером окна качество значительно ухудшилось."
   ]
  },
  {
   "cell_type": "markdown",
   "metadata": {},
   "source": [
    "### Результаты классификации\n",
    "\n",
    "- Однозначно можно сказать, что качество классификации зависит от всех трех гиперпараметров, с которыми мы экспериментировали: размера окна, количества нейронов на скрытом уровне, функции активации.\n",
    "\n",
    "- Наилучшим образом себя показало сочетание функций активации ReLU (на скрытом слое) и Softmax (на выходном слое), качество классификации составило accuracy 58%. "
   ]
  },
  {
   "cell_type": "markdown",
   "metadata": {},
   "source": [
    "### Часть 3 [2 балла] Анализ ошибок\n",
    "1. Привидите примеры из тестового множества, на которых нейронная сеть ошибается. Объясните, почему возникают ошибки.\n",
    "2. Протестируйте нейронную сеть на произвольном предложении (не из тестовых данных). Возникают ли ошибки? Почему?"
   ]
  },
  {
   "cell_type": "markdown",
   "metadata": {},
   "source": [
    "Замечание: анализ ошибок будет производиться на лучшей модели с 64 нейронами на скрытом слое, окном 5 и функциями активации ReLU и Softmax."
   ]
  },
  {
   "cell_type": "code",
   "execution_count": 38,
   "metadata": {
    "collapsed": true
   },
   "outputs": [],
   "source": [
    "predicted = pd.DataFrame(y_pred, columns=['Predicted'])\n",
    "true_values = pd.DataFrame(y_true, columns=['True'])\n",
    "predicted_df = predicted.join(true_values)"
   ]
  },
  {
   "cell_type": "code",
   "execution_count": 39,
   "metadata": {},
   "outputs": [
    {
     "data": {
      "text/html": [
       "<div>\n",
       "<style>\n",
       "    .dataframe thead tr:only-child th {\n",
       "        text-align: right;\n",
       "    }\n",
       "\n",
       "    .dataframe thead th {\n",
       "        text-align: left;\n",
       "    }\n",
       "\n",
       "    .dataframe tbody tr th {\n",
       "        vertical-align: top;\n",
       "    }\n",
       "</style>\n",
       "<table border=\"1\" class=\"dataframe\">\n",
       "  <thead>\n",
       "    <tr style=\"text-align: right;\">\n",
       "      <th></th>\n",
       "      <th>Predicted</th>\n",
       "      <th>True</th>\n",
       "    </tr>\n",
       "  </thead>\n",
       "  <tbody>\n",
       "    <tr>\n",
       "      <th>0</th>\n",
       "      <td>ADP</td>\n",
       "      <td>ADP</td>\n",
       "    </tr>\n",
       "    <tr>\n",
       "      <th>1</th>\n",
       "      <td>ADP</td>\n",
       "      <td>NOUN</td>\n",
       "    </tr>\n",
       "    <tr>\n",
       "      <th>2</th>\n",
       "      <td>NOUN</td>\n",
       "      <td>NOUN</td>\n",
       "    </tr>\n",
       "    <tr>\n",
       "      <th>3</th>\n",
       "      <td>NOUN</td>\n",
       "      <td>ADJ</td>\n",
       "    </tr>\n",
       "    <tr>\n",
       "      <th>4</th>\n",
       "      <td>PUNCT</td>\n",
       "      <td>NOUN</td>\n",
       "    </tr>\n",
       "  </tbody>\n",
       "</table>\n",
       "</div>"
      ],
      "text/plain": [
       "  Predicted  True\n",
       "0       ADP   ADP\n",
       "1       ADP  NOUN\n",
       "2      NOUN  NOUN\n",
       "3      NOUN   ADJ\n",
       "4     PUNCT  NOUN"
      ]
     },
     "execution_count": 39,
     "metadata": {},
     "output_type": "execute_result"
    }
   ],
   "source": [
    "predicted_df.head()"
   ]
  },
  {
   "cell_type": "markdown",
   "metadata": {},
   "source": [
    "Выведем все ошибки, которые допустила сеть."
   ]
  },
  {
   "cell_type": "code",
   "execution_count": 50,
   "metadata": {
    "collapsed": true
   },
   "outputs": [],
   "source": [
    "errors_df = predicted_df[predicted_df['Predicted'] != predicted_df['True']]"
   ]
  },
  {
   "cell_type": "code",
   "execution_count": 55,
   "metadata": {},
   "outputs": [
    {
     "name": "stdout",
     "output_type": "stream",
     "text": [
      "Whole sample: 114232\n",
      "Number of errors: 47292\n"
     ]
    }
   ],
   "source": [
    "print('Whole sample:', len(predicted_df))\n",
    "print('Number of errors:', len(errors_df))"
   ]
  },
  {
   "cell_type": "code",
   "execution_count": 58,
   "metadata": {},
   "outputs": [
    {
     "data": {
      "text/html": [
       "<div>\n",
       "<style>\n",
       "    .dataframe thead tr:only-child th {\n",
       "        text-align: right;\n",
       "    }\n",
       "\n",
       "    .dataframe thead th {\n",
       "        text-align: left;\n",
       "    }\n",
       "\n",
       "    .dataframe tbody tr th {\n",
       "        vertical-align: top;\n",
       "    }\n",
       "</style>\n",
       "<table border=\"1\" class=\"dataframe\">\n",
       "  <thead>\n",
       "    <tr style=\"text-align: right;\">\n",
       "      <th></th>\n",
       "      <th>Predicted</th>\n",
       "      <th>True</th>\n",
       "    </tr>\n",
       "  </thead>\n",
       "  <tbody>\n",
       "    <tr>\n",
       "      <th>1</th>\n",
       "      <td>ADP</td>\n",
       "      <td>NOUN</td>\n",
       "    </tr>\n",
       "    <tr>\n",
       "      <th>3</th>\n",
       "      <td>NOUN</td>\n",
       "      <td>ADJ</td>\n",
       "    </tr>\n",
       "    <tr>\n",
       "      <th>4</th>\n",
       "      <td>PUNCT</td>\n",
       "      <td>NOUN</td>\n",
       "    </tr>\n",
       "    <tr>\n",
       "      <th>5</th>\n",
       "      <td>ADJ</td>\n",
       "      <td>VERB</td>\n",
       "    </tr>\n",
       "    <tr>\n",
       "      <th>7</th>\n",
       "      <td>ADJ</td>\n",
       "      <td>NOUN</td>\n",
       "    </tr>\n",
       "    <tr>\n",
       "      <th>9</th>\n",
       "      <td>VERB</td>\n",
       "      <td>NOUN</td>\n",
       "    </tr>\n",
       "    <tr>\n",
       "      <th>16</th>\n",
       "      <td>VERB</td>\n",
       "      <td>PUNCT</td>\n",
       "    </tr>\n",
       "    <tr>\n",
       "      <th>17</th>\n",
       "      <td>PUNCT</td>\n",
       "      <td>CONJ</td>\n",
       "    </tr>\n",
       "    <tr>\n",
       "      <th>18</th>\n",
       "      <td>CONJ</td>\n",
       "      <td>NOUN</td>\n",
       "    </tr>\n",
       "    <tr>\n",
       "      <th>20</th>\n",
       "      <td>CONJ</td>\n",
       "      <td>PART</td>\n",
       "    </tr>\n",
       "    <tr>\n",
       "      <th>28</th>\n",
       "      <td>NOUN</td>\n",
       "      <td>PUNCT</td>\n",
       "    </tr>\n",
       "    <tr>\n",
       "      <th>31</th>\n",
       "      <td>ADP</td>\n",
       "      <td>NOUN</td>\n",
       "    </tr>\n",
       "    <tr>\n",
       "      <th>34</th>\n",
       "      <td>PRON</td>\n",
       "      <td>ADV</td>\n",
       "    </tr>\n",
       "    <tr>\n",
       "      <th>36</th>\n",
       "      <td>PART</td>\n",
       "      <td>ADJ</td>\n",
       "    </tr>\n",
       "    <tr>\n",
       "      <th>38</th>\n",
       "      <td>NOUN</td>\n",
       "      <td>PUNCT</td>\n",
       "    </tr>\n",
       "    <tr>\n",
       "      <th>40</th>\n",
       "      <td>ADV</td>\n",
       "      <td>VERB</td>\n",
       "    </tr>\n",
       "    <tr>\n",
       "      <th>41</th>\n",
       "      <td>ADV</td>\n",
       "      <td>ADP</td>\n",
       "    </tr>\n",
       "    <tr>\n",
       "      <th>42</th>\n",
       "      <td>VERB</td>\n",
       "      <td>NOUN</td>\n",
       "    </tr>\n",
       "    <tr>\n",
       "      <th>43</th>\n",
       "      <td>ADP</td>\n",
       "      <td>PUNCT</td>\n",
       "    </tr>\n",
       "    <tr>\n",
       "      <th>44</th>\n",
       "      <td>NOUN</td>\n",
       "      <td>ADP</td>\n",
       "    </tr>\n",
       "    <tr>\n",
       "      <th>45</th>\n",
       "      <td>ADP</td>\n",
       "      <td>NOUN</td>\n",
       "    </tr>\n",
       "    <tr>\n",
       "      <th>46</th>\n",
       "      <td>NOUN</td>\n",
       "      <td>ADP</td>\n",
       "    </tr>\n",
       "    <tr>\n",
       "      <th>56</th>\n",
       "      <td>PUNCT</td>\n",
       "      <td>CONJ</td>\n",
       "    </tr>\n",
       "    <tr>\n",
       "      <th>58</th>\n",
       "      <td>ADP</td>\n",
       "      <td>NOUN</td>\n",
       "    </tr>\n",
       "    <tr>\n",
       "      <th>59</th>\n",
       "      <td>VERB</td>\n",
       "      <td>ADP</td>\n",
       "    </tr>\n",
       "    <tr>\n",
       "      <th>62</th>\n",
       "      <td>NOUN</td>\n",
       "      <td>PROPN</td>\n",
       "    </tr>\n",
       "    <tr>\n",
       "      <th>64</th>\n",
       "      <td>NOUN</td>\n",
       "      <td>NUM</td>\n",
       "    </tr>\n",
       "    <tr>\n",
       "      <th>65</th>\n",
       "      <td>ADP</td>\n",
       "      <td>ADJ</td>\n",
       "    </tr>\n",
       "    <tr>\n",
       "      <th>68</th>\n",
       "      <td>PRON</td>\n",
       "      <td>CONJ</td>\n",
       "    </tr>\n",
       "    <tr>\n",
       "      <th>69</th>\n",
       "      <td>PRON</td>\n",
       "      <td>VERB</td>\n",
       "    </tr>\n",
       "    <tr>\n",
       "      <th>70</th>\n",
       "      <td>CONJ</td>\n",
       "      <td>VERB</td>\n",
       "    </tr>\n",
       "    <tr>\n",
       "      <th>71</th>\n",
       "      <td>ADJ</td>\n",
       "      <td>DET</td>\n",
       "    </tr>\n",
       "    <tr>\n",
       "      <th>77</th>\n",
       "      <td>PUNCT</td>\n",
       "      <td>ADP</td>\n",
       "    </tr>\n",
       "    <tr>\n",
       "      <th>79</th>\n",
       "      <td>ADJ</td>\n",
       "      <td>NOUN</td>\n",
       "    </tr>\n",
       "    <tr>\n",
       "      <th>82</th>\n",
       "      <td>ADV</td>\n",
       "      <td>VERB</td>\n",
       "    </tr>\n",
       "    <tr>\n",
       "      <th>92</th>\n",
       "      <td>VERB</td>\n",
       "      <td>CONJ</td>\n",
       "    </tr>\n",
       "    <tr>\n",
       "      <th>95</th>\n",
       "      <td>DET</td>\n",
       "      <td>ADJ</td>\n",
       "    </tr>\n",
       "    <tr>\n",
       "      <th>96</th>\n",
       "      <td>NOUN</td>\n",
       "      <td>ADJ</td>\n",
       "    </tr>\n",
       "    <tr>\n",
       "      <th>97</th>\n",
       "      <td>PUNCT</td>\n",
       "      <td>NOUN</td>\n",
       "    </tr>\n",
       "    <tr>\n",
       "      <th>98</th>\n",
       "      <td>DET</td>\n",
       "      <td>NOUN</td>\n",
       "    </tr>\n",
       "    <tr>\n",
       "      <th>103</th>\n",
       "      <td>CONJ</td>\n",
       "      <td>VERB</td>\n",
       "    </tr>\n",
       "    <tr>\n",
       "      <th>104</th>\n",
       "      <td>DET</td>\n",
       "      <td>VERB</td>\n",
       "    </tr>\n",
       "    <tr>\n",
       "      <th>106</th>\n",
       "      <td>CONJ</td>\n",
       "      <td>NOUN</td>\n",
       "    </tr>\n",
       "    <tr>\n",
       "      <th>110</th>\n",
       "      <td>NOUN</td>\n",
       "      <td>ADP</td>\n",
       "    </tr>\n",
       "    <tr>\n",
       "      <th>111</th>\n",
       "      <td>NOUN</td>\n",
       "      <td>PROPN</td>\n",
       "    </tr>\n",
       "    <tr>\n",
       "      <th>115</th>\n",
       "      <td>VERB</td>\n",
       "      <td>ADP</td>\n",
       "    </tr>\n",
       "    <tr>\n",
       "      <th>119</th>\n",
       "      <td>ADJ</td>\n",
       "      <td>PRON</td>\n",
       "    </tr>\n",
       "    <tr>\n",
       "      <th>120</th>\n",
       "      <td>PRON</td>\n",
       "      <td>VERB</td>\n",
       "    </tr>\n",
       "    <tr>\n",
       "      <th>121</th>\n",
       "      <td>VERB</td>\n",
       "      <td>PUNCT</td>\n",
       "    </tr>\n",
       "    <tr>\n",
       "      <th>126</th>\n",
       "      <td>VERB</td>\n",
       "      <td>ADV</td>\n",
       "    </tr>\n",
       "  </tbody>\n",
       "</table>\n",
       "</div>"
      ],
      "text/plain": [
       "    Predicted   True\n",
       "1         ADP   NOUN\n",
       "3        NOUN    ADJ\n",
       "4       PUNCT   NOUN\n",
       "5         ADJ   VERB\n",
       "7         ADJ   NOUN\n",
       "9        VERB   NOUN\n",
       "16       VERB  PUNCT\n",
       "17      PUNCT   CONJ\n",
       "18       CONJ   NOUN\n",
       "20       CONJ   PART\n",
       "28       NOUN  PUNCT\n",
       "31        ADP   NOUN\n",
       "34       PRON    ADV\n",
       "36       PART    ADJ\n",
       "38       NOUN  PUNCT\n",
       "40        ADV   VERB\n",
       "41        ADV    ADP\n",
       "42       VERB   NOUN\n",
       "43        ADP  PUNCT\n",
       "44       NOUN    ADP\n",
       "45        ADP   NOUN\n",
       "46       NOUN    ADP\n",
       "56      PUNCT   CONJ\n",
       "58        ADP   NOUN\n",
       "59       VERB    ADP\n",
       "62       NOUN  PROPN\n",
       "64       NOUN    NUM\n",
       "65        ADP    ADJ\n",
       "68       PRON   CONJ\n",
       "69       PRON   VERB\n",
       "70       CONJ   VERB\n",
       "71        ADJ    DET\n",
       "77      PUNCT    ADP\n",
       "79        ADJ   NOUN\n",
       "82        ADV   VERB\n",
       "92       VERB   CONJ\n",
       "95        DET    ADJ\n",
       "96       NOUN    ADJ\n",
       "97      PUNCT   NOUN\n",
       "98        DET   NOUN\n",
       "103      CONJ   VERB\n",
       "104       DET   VERB\n",
       "106      CONJ   NOUN\n",
       "110      NOUN    ADP\n",
       "111      NOUN  PROPN\n",
       "115      VERB    ADP\n",
       "119       ADJ   PRON\n",
       "120      PRON   VERB\n",
       "121      VERB  PUNCT\n",
       "126      VERB    ADV"
      ]
     },
     "execution_count": 58,
     "metadata": {},
     "output_type": "execute_result"
    }
   ],
   "source": [
    "errors_df.head(50)"
   ]
  },
  {
   "cell_type": "markdown",
   "metadata": {},
   "source": [
    "__Пример из тестовых данных__"
   ]
  },
  {
   "cell_type": "code",
   "execution_count": 102,
   "metadata": {},
   "outputs": [
    {
     "name": "stdout",
     "output_type": "stream",
     "text": [
      "True: ['ADP', 'NOUN', 'NOUN', 'ADJ', 'NOUN', 'VERB', 'ADJ', 'NOUN'] \n",
      "Predicted: ['ADP' 'ADP' 'NOUN' 'NOUN' 'ADJ' 'PUNCT' 'PUNCT' 'PUNCT' 'PUNCT']\n",
      "В условиях рынка несовершенной конкуренции формируются субъективные цены товаров.\n"
     ]
    }
   ],
   "source": [
    "print('True:', y_true[:8],'\\nPredicted:', y_pred[:20])\n",
    "print('В условиях рынка несовершенной конкуренции формируются субъективные цены товаров.')"
   ]
  },
  {
   "cell_type": "markdown",
   "metadata": {},
   "source": [
    "В примере путаются классы:\n",
    "- Существительных и предлогов (условиях)\n",
    "- Прилагательных и существительных (несовершенной)\n",
    "- Глагол vs. Пунктуация (формируются)\n",
    "- Существительные vs. Пунктуация. "
   ]
  },
  {
   "cell_type": "code",
   "execution_count": 75,
   "metadata": {},
   "outputs": [
    {
     "name": "stdout",
     "output_type": "stream",
     "text": [
      "[('В', 'ADP', '_'), ('условиях', 'NOUN', '_'), ('рынка', 'NOUN', '_'), ('несовершенной', 'ADJ', '_'), ('конкуренции', 'NOUN', '_'), ('формируются', 'VERB', '_'), ('субъективные', 'ADJ', '_'), ('цены', 'NOUN', '_'), ('товаров', 'NOUN', '_'), ('.', 'PUNCT', '_')]\n"
     ]
    }
   ],
   "source": [
    "print(test[0][:20])"
   ]
  },
  {
   "cell_type": "markdown",
   "metadata": {},
   "source": [
    "__ Тест на произвольном предложении __"
   ]
  },
  {
   "cell_type": "code",
   "execution_count": 76,
   "metadata": {
    "collapsed": true
   },
   "outputs": [],
   "source": [
    "def make_windows(random_sent, k):\n",
    "    windows_left = []\n",
    "    windows_right = []\n",
    "    \n",
    "    for i, word in enumerate(random_sent):\n",
    "        l, r = get_context(i, random_sent, k)\n",
    "        if l == 0:\n",
    "            windows_right.append(r)\n",
    "        else:\n",
    "            windows_left.append(l)\n",
    "    return windows_left, windows_right\n",
    "        "
   ]
  },
  {
   "cell_type": "code",
   "execution_count": 87,
   "metadata": {
    "collapsed": true
   },
   "outputs": [],
   "source": [
    "rand_sent = 'есть в осени первоначальной короткая , но дивная пора'.split()"
   ]
  },
  {
   "cell_type": "code",
   "execution_count": 88,
   "metadata": {
    "collapsed": true
   },
   "outputs": [],
   "source": [
    "win_left, win_right = make_windows(rand_sent, 5)"
   ]
  },
  {
   "cell_type": "code",
   "execution_count": 89,
   "metadata": {},
   "outputs": [
    {
     "name": "stdout",
     "output_type": "stream",
     "text": [
      "['есть в осени', 'есть в осени первоначальной', 'есть в осени первоначальной короткая', 'в осени первоначальной короткая ,', 'осени первоначальной короткая , но', 'первоначальной короткая , но дивная', 'короткая , но дивная пора']\n",
      "[', но дивная пора', 'но дивная пора']\n"
     ]
    }
   ],
   "source": [
    "print(win_left)\n",
    "print(win_right)"
   ]
  },
  {
   "cell_type": "code",
   "execution_count": 90,
   "metadata": {
    "collapsed": true
   },
   "outputs": [],
   "source": [
    "sequences_left = tokenizer.texts_to_sequences(win_left)\n",
    "X_test_left = pad_sequences(sequences_left, maxlen = LEN_WINDOW, padding = 'pre')\n",
    "\n",
    "sequences_right = tokenizer.texts_to_sequences(win_right)\n",
    "X_test_right = pad_sequences(sequences_right, maxlen = LEN_WINDOW, padding = 'post')"
   ]
  },
  {
   "cell_type": "code",
   "execution_count": 91,
   "metadata": {
    "collapsed": true
   },
   "outputs": [],
   "source": [
    "X_test = np.concatenate((X_test_left, X_test_right), axis = 0)"
   ]
  },
  {
   "cell_type": "code",
   "execution_count": 94,
   "metadata": {},
   "outputs": [
    {
     "name": "stdout",
     "output_type": "stream",
     "text": [
      "['ADP' 'ADP' 'NOUN' 'NOUN' 'ADJ' 'PUNCT' 'PUNCT' 'PUNCT' 'PUNCT']\n"
     ]
    },
    {
     "name": "stderr",
     "output_type": "stream",
     "text": [
      "/home/nst/anaconda3/lib/python3.6/site-packages/sklearn/preprocessing/label.py:151: DeprecationWarning: The truth value of an empty array is ambiguous. Returning False, but in future this will result in an error. Use `array.size > 0` to check that an array is not empty.\n",
      "  if diff:\n"
     ]
    }
   ],
   "source": [
    "y_pred = model.predict_classes(X_test)\n",
    "y_pred = le.inverse_transform(y_pred)\n",
    "print(y_pred)\n",
    "#есть в осени первоначальной короткая , но дивная пора"
   ]
  },
  {
   "cell_type": "code",
   "execution_count": 72,
   "metadata": {},
   "outputs": [
    {
     "name": "stdout",
     "output_type": "stream",
     "text": [
      "             precision    recall  f1-score   support\n",
      "\n",
      "        ADJ       0.61      0.47      0.53     11798\n",
      "        ADP       0.57      0.66      0.61     10664\n",
      "        ADV       0.50      0.50      0.50      3315\n",
      "       CONJ       0.53      0.68      0.60      5492\n",
      "        DET       0.59      0.63      0.61      3151\n",
      "       INTJ       0.52      0.29      0.37       117\n",
      "       NOUN       0.67      0.59      0.63     30497\n",
      "        NUM       0.40      0.53      0.46      2446\n",
      "       PART       0.53      0.55      0.54      2234\n",
      "       PRON       0.58      0.55      0.56      2242\n",
      "      PROPN       0.59      0.48      0.53      3669\n",
      "      PUNCT       0.55      0.72      0.62     22706\n",
      "       VERB       0.59      0.55      0.57     10418\n",
      "          X       0.60      0.26      0.36      5483\n",
      "\n",
      "avg / total       0.59      0.59      0.58    114232\n",
      "\n"
     ]
    },
    {
     "data": {
      "image/png": "[encoded data removed]",
      "text/plain": [
       "<matplotlib.figure.Figure at 0x7fdd975e7550>"
      ]
     },
     "metadata": {},
     "output_type": "display_data"
    }
   ],
   "source": [
    "labels = list(set(pos_test))\n",
    "print(classification_report(y_true, y_pred))\n",
    "sns.heatmap(data=confusion_matrix(y_true, y_pred, labels = labels), annot=True, fmt=\"d\", cbar=False, xticklabels=labels, yticklabels=labels)\n",
    "plt.title(\"Confusion matrix\")\n",
    "plt.show()"
   ]
  },
  {
   "cell_type": "markdown",
   "metadata": {},
   "source": [
    "### Выводы\n",
    "\n",
    "По матрице ошибок и по нашему примеру из тестового множества и произвольного примера видно, что модель:\n",
    "\n",
    "1. Часто ошибается в определении класса X (тег для множества \"Другое\"), путает его с пунктуацией или существительными. Это сборный класс для слов, которые не подходят под другие части речи. Следовательно, он представляет сложности для классификации.\n",
    "2. Путает прилагательные с существительными. Возможно, может объясняться тем, что прилагательные и существительные часто встречаются в похожих позициях (относительно других частей речи: и существительные, и прилагательные могут стоять рядом с существительными, после предлогов).\n",
    "3. Любые части речи часто путаются с пунктуацией. Возможно, нужно было обучать модель без знаков пунктуации. Изначально мы предположили, что пунктуация, наоборот, поможет нам предсказывать классы."
   ]
  }
 ],
 "metadata": {
  "kernelspec": {
   "display_name": "Python 3",
   "language": "python",
   "name": "python3"
  },
  "language_info": {
   "codemirror_mode": {
    "name": "ipython",
    "version": 3
   },
   "file_extension": ".py",
   "mimetype": "text/x-python",
   "name": "python",
   "nbconvert_exporter": "python",
   "pygments_lexer": "ipython3",
   "version": "3.6.2"
  }
 },
 "nbformat": 4,
 "nbformat_minor": 2
}
